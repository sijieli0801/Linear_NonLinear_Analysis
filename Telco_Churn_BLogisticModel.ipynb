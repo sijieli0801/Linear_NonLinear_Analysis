{
 "cells": [
  {
   "cell_type": "markdown",
   "id": "75a7676e",
   "metadata": {},
   "source": [
    "# MSCA 31010 Assignment 3\n",
    "# Sijie Li"
   ]
  },
  {
   "cell_type": "code",
   "execution_count": 737,
   "id": "97b67930",
   "metadata": {},
   "outputs": [],
   "source": [
    "import matplotlib.pyplot as plt\n",
    "import numpy as np\n",
    "import pandas as pd\n",
    "import sys\n",
    "\n",
    "from scipy.special import loggamma\n",
    "from scipy.stats import norm\n",
    "\n",
    "sys.path.append(r'C:\\Users\\Sijie Li\\OneDrive - The University of Chicago\\Documents\\MSCA\\Winter2021\\MSCA31010 Linear')\n",
    "import Regression\n",
    "\n",
    "from scipy.stats import chi2"
   ]
  },
  {
   "cell_type": "code",
   "execution_count": 744,
   "id": "daad800a",
   "metadata": {},
   "outputs": [],
   "source": [
    "# Set some options for printing all the columns\n",
    "numpy.set_printoptions(precision = 10, threshold = sys.maxsize)\n",
    "numpy.set_printoptions(linewidth = numpy.inf)\n",
    "pandas.set_option('display.max_columns', None)\n",
    "pandas.set_option('display.expand_frame_repr', False)\n",
    "pandas.set_option('max_colwidth', None)\n",
    "pandas.set_option('precision', 10)\n",
    "pandas.options.display.float_format = '{:,.4}'.format"
   ]
  },
  {
   "cell_type": "markdown",
   "id": "2f69ec83",
   "metadata": {},
   "source": [
    "# Data Manipulation"
   ]
  },
  {
   "cell_type": "code",
   "execution_count": 578,
   "id": "6caf0430",
   "metadata": {},
   "outputs": [
    {
     "data": {
      "text/html": [
       "<div>\n",
       "<style scoped>\n",
       "    .dataframe tbody tr th:only-of-type {\n",
       "        vertical-align: middle;\n",
       "    }\n",
       "\n",
       "    .dataframe tbody tr th {\n",
       "        vertical-align: top;\n",
       "    }\n",
       "\n",
       "    .dataframe thead th {\n",
       "        text-align: right;\n",
       "    }\n",
       "</style>\n",
       "<table border=\"1\" class=\"dataframe\">\n",
       "  <thead>\n",
       "    <tr style=\"text-align: right;\">\n",
       "      <th></th>\n",
       "      <th>customerID</th>\n",
       "      <th>gender</th>\n",
       "      <th>SeniorCitizen</th>\n",
       "      <th>Partner</th>\n",
       "      <th>Dependents</th>\n",
       "      <th>tenure</th>\n",
       "      <th>PhoneService</th>\n",
       "      <th>MultipleLines</th>\n",
       "      <th>InternetService</th>\n",
       "      <th>OnlineSecurity</th>\n",
       "      <th>OnlineBackup</th>\n",
       "      <th>DeviceProtection</th>\n",
       "      <th>TechSupport</th>\n",
       "      <th>StreamingTV</th>\n",
       "      <th>StreamingMovies</th>\n",
       "      <th>Contract</th>\n",
       "      <th>PaperlessBilling</th>\n",
       "      <th>PaymentMethod</th>\n",
       "      <th>MonthlyCharges</th>\n",
       "      <th>TotalCharges</th>\n",
       "      <th>Churn</th>\n",
       "    </tr>\n",
       "  </thead>\n",
       "  <tbody>\n",
       "    <tr>\n",
       "      <th>0</th>\n",
       "      <td>7590-VHVEG</td>\n",
       "      <td>Female</td>\n",
       "      <td>0</td>\n",
       "      <td>Yes</td>\n",
       "      <td>No</td>\n",
       "      <td>1</td>\n",
       "      <td>No</td>\n",
       "      <td>No phone service</td>\n",
       "      <td>DSL</td>\n",
       "      <td>No</td>\n",
       "      <td>Yes</td>\n",
       "      <td>No</td>\n",
       "      <td>No</td>\n",
       "      <td>No</td>\n",
       "      <td>No</td>\n",
       "      <td>Month-to-month</td>\n",
       "      <td>Yes</td>\n",
       "      <td>Electronic check</td>\n",
       "      <td>2.9850000e+01</td>\n",
       "      <td>29.85</td>\n",
       "      <td>No</td>\n",
       "    </tr>\n",
       "    <tr>\n",
       "      <th>1</th>\n",
       "      <td>5575-GNVDE</td>\n",
       "      <td>Male</td>\n",
       "      <td>0</td>\n",
       "      <td>No</td>\n",
       "      <td>No</td>\n",
       "      <td>34</td>\n",
       "      <td>Yes</td>\n",
       "      <td>No</td>\n",
       "      <td>DSL</td>\n",
       "      <td>Yes</td>\n",
       "      <td>No</td>\n",
       "      <td>Yes</td>\n",
       "      <td>No</td>\n",
       "      <td>No</td>\n",
       "      <td>No</td>\n",
       "      <td>One year</td>\n",
       "      <td>No</td>\n",
       "      <td>Mailed check</td>\n",
       "      <td>5.6950000e+01</td>\n",
       "      <td>1889.5</td>\n",
       "      <td>No</td>\n",
       "    </tr>\n",
       "    <tr>\n",
       "      <th>2</th>\n",
       "      <td>3668-QPYBK</td>\n",
       "      <td>Male</td>\n",
       "      <td>0</td>\n",
       "      <td>No</td>\n",
       "      <td>No</td>\n",
       "      <td>2</td>\n",
       "      <td>Yes</td>\n",
       "      <td>No</td>\n",
       "      <td>DSL</td>\n",
       "      <td>Yes</td>\n",
       "      <td>Yes</td>\n",
       "      <td>No</td>\n",
       "      <td>No</td>\n",
       "      <td>No</td>\n",
       "      <td>No</td>\n",
       "      <td>Month-to-month</td>\n",
       "      <td>Yes</td>\n",
       "      <td>Mailed check</td>\n",
       "      <td>5.3850000e+01</td>\n",
       "      <td>108.15</td>\n",
       "      <td>Yes</td>\n",
       "    </tr>\n",
       "    <tr>\n",
       "      <th>3</th>\n",
       "      <td>7795-CFOCW</td>\n",
       "      <td>Male</td>\n",
       "      <td>0</td>\n",
       "      <td>No</td>\n",
       "      <td>No</td>\n",
       "      <td>45</td>\n",
       "      <td>No</td>\n",
       "      <td>No phone service</td>\n",
       "      <td>DSL</td>\n",
       "      <td>Yes</td>\n",
       "      <td>No</td>\n",
       "      <td>Yes</td>\n",
       "      <td>Yes</td>\n",
       "      <td>No</td>\n",
       "      <td>No</td>\n",
       "      <td>One year</td>\n",
       "      <td>No</td>\n",
       "      <td>Bank transfer (automatic)</td>\n",
       "      <td>4.2300000e+01</td>\n",
       "      <td>1840.75</td>\n",
       "      <td>No</td>\n",
       "    </tr>\n",
       "    <tr>\n",
       "      <th>4</th>\n",
       "      <td>9237-HQITU</td>\n",
       "      <td>Female</td>\n",
       "      <td>0</td>\n",
       "      <td>No</td>\n",
       "      <td>No</td>\n",
       "      <td>2</td>\n",
       "      <td>Yes</td>\n",
       "      <td>No</td>\n",
       "      <td>Fiber optic</td>\n",
       "      <td>No</td>\n",
       "      <td>No</td>\n",
       "      <td>No</td>\n",
       "      <td>No</td>\n",
       "      <td>No</td>\n",
       "      <td>No</td>\n",
       "      <td>Month-to-month</td>\n",
       "      <td>Yes</td>\n",
       "      <td>Electronic check</td>\n",
       "      <td>7.0700000e+01</td>\n",
       "      <td>151.65</td>\n",
       "      <td>Yes</td>\n",
       "    </tr>\n",
       "  </tbody>\n",
       "</table>\n",
       "</div>"
      ],
      "text/plain": [
       "   customerID  gender  SeniorCitizen Partner Dependents  tenure PhoneService     MultipleLines InternetService OnlineSecurity OnlineBackup DeviceProtection TechSupport StreamingTV StreamingMovies        Contract PaperlessBilling              PaymentMethod  MonthlyCharges TotalCharges Churn\n",
       "0  7590-VHVEG  Female              0     Yes         No       1           No  No phone service             DSL             No          Yes               No          No          No              No  Month-to-month              Yes           Electronic check   2.9850000e+01        29.85    No\n",
       "1  5575-GNVDE    Male              0      No         No      34          Yes                No             DSL            Yes           No              Yes          No          No              No        One year               No               Mailed check   5.6950000e+01       1889.5    No\n",
       "2  3668-QPYBK    Male              0      No         No       2          Yes                No             DSL            Yes          Yes               No          No          No              No  Month-to-month              Yes               Mailed check   5.3850000e+01       108.15   Yes\n",
       "3  7795-CFOCW    Male              0      No         No      45           No  No phone service             DSL            Yes           No              Yes         Yes          No              No        One year               No  Bank transfer (automatic)   4.2300000e+01      1840.75    No\n",
       "4  9237-HQITU  Female              0      No         No       2          Yes                No     Fiber optic             No           No               No          No          No              No  Month-to-month              Yes           Electronic check   7.0700000e+01       151.65   Yes"
      ]
     },
     "execution_count": 578,
     "metadata": {},
     "output_type": "execute_result"
    }
   ],
   "source": [
    "#Import data\n",
    "Telco = pd.read_csv(r'C:\\Users\\Sijie Li\\OneDrive - The University of Chicago\\Documents\\MSCA\\Winter2021\\MSCA31010 Linear\\Wk6\\Telco-Customer-Churn.csv')\n",
    "Telco.head()\n"
   ]
  },
  {
   "cell_type": "code",
   "execution_count": 1053,
   "id": "7c90e6ec",
   "metadata": {},
   "outputs": [
    {
     "data": {
      "text/plain": [
       "<AxesSubplot:>"
      ]
     },
     "execution_count": 1053,
     "metadata": {},
     "output_type": "execute_result"
    },
    {
     "data": {
      "image/png": "[encoded data removed]",
      "text/plain": [
       "<Figure size 1800x720 with 3 Axes>"
      ]
     },
     "metadata": {
      "needs_background": "light"
     },
     "output_type": "display_data"
    }
   ],
   "source": [
    "#Check missing value\n",
    "import missingno as msno\n",
    "msno.bar(Telco)"
   ]
  },
  {
   "cell_type": "code",
   "execution_count": 1054,
   "id": "61cc5761",
   "metadata": {},
   "outputs": [
    {
     "name": "stderr",
     "output_type": "stream",
     "text": [
      "<ipython-input-1054-3420df8674fd>:3: UserWarning: Pandas doesn't allow columns to be created via a new attribute name - see https://pandas.pydata.org/pandas-docs/stable/indexing.html#attribute-access\n",
      "  Telco.X = Telco.drop('Churn', axis=1)\n",
      "<ipython-input-1054-3420df8674fd>:4: UserWarning: Pandas doesn't allow columns to be created via a new attribute name - see https://pandas.pydata.org/pandas-docs/stable/indexing.html#attribute-access\n",
      "  Telco.y = Telco['Churn']\n"
     ]
    },
    {
     "data": {
      "text/plain": [
       "((7043, 20), (7043,))"
      ]
     },
     "execution_count": 1054,
     "metadata": {},
     "output_type": "execute_result"
    }
   ],
   "source": [
    "# Split into predictor and response dataframes.\n",
    "\n",
    "Telco.X = Telco.drop('Churn', axis=1)\n",
    "Telco.y = Telco['Churn']\n",
    "\n",
    "Telco.X.shape,Telco.y.shape"
   ]
  },
  {
   "cell_type": "code",
   "execution_count": 1055,
   "id": "eb037f9a",
   "metadata": {},
   "outputs": [],
   "source": [
    "# Map response variable to integers 0,1.\n",
    "\n",
    "Telco.y = pd.Series(np.where(Telco.y.values == 'Yes',1,0), Telco.y.index)"
   ]
  },
  {
   "cell_type": "code",
   "execution_count": 1056,
   "id": "6387332a",
   "metadata": {},
   "outputs": [
    {
     "data": {
      "text/plain": [
       "0    5174\n",
       "1    1869\n",
       "dtype: int64"
      ]
     },
     "execution_count": 1056,
     "metadata": {},
     "output_type": "execute_result"
    }
   ],
   "source": [
    "Telco.y.value_counts()"
   ]
  },
  {
   "cell_type": "code",
   "execution_count": 1057,
   "id": "73ccd5a5",
   "metadata": {},
   "outputs": [],
   "source": [
    "# Separating with continuous and categorical variables.\n",
    "\n",
    "X_cat = ['gender', 'SeniorCitizen', 'Partner', 'Dependents', 'PhoneService', 'MultipleLines', 'Contract', 'PaperlessBilling']\n",
    "X_cont = ['MonthlyCharges', 'TotalCharges', 'tenure']\n"
   ]
  },
  {
   "cell_type": "code",
   "execution_count": 1058,
   "id": "ad337e8f",
   "metadata": {},
   "outputs": [],
   "source": [
    "Y_name = ['Churn']"
   ]
  },
  {
   "cell_type": "code",
   "execution_count": 1059,
   "id": "66473fe9",
   "metadata": {},
   "outputs": [],
   "source": [
    "# Create the training data\n",
    "trainData = Telco[Y_name + X_cat + X_cont].dropna()"
   ]
  },
  {
   "cell_type": "code",
   "execution_count": 1060,
   "id": "c711c195",
   "metadata": {},
   "outputs": [
    {
     "data": {
      "text/html": [
       "<div>\n",
       "<style scoped>\n",
       "    .dataframe tbody tr th:only-of-type {\n",
       "        vertical-align: middle;\n",
       "    }\n",
       "\n",
       "    .dataframe tbody tr th {\n",
       "        vertical-align: top;\n",
       "    }\n",
       "\n",
       "    .dataframe thead th {\n",
       "        text-align: right;\n",
       "    }\n",
       "</style>\n",
       "<table border=\"1\" class=\"dataframe\">\n",
       "  <thead>\n",
       "    <tr style=\"text-align: right;\">\n",
       "      <th></th>\n",
       "      <th>Churn</th>\n",
       "      <th>gender</th>\n",
       "      <th>SeniorCitizen</th>\n",
       "      <th>Partner</th>\n",
       "      <th>Dependents</th>\n",
       "      <th>PhoneService</th>\n",
       "      <th>MultipleLines</th>\n",
       "      <th>Contract</th>\n",
       "      <th>PaperlessBilling</th>\n",
       "      <th>MonthlyCharges</th>\n",
       "      <th>TotalCharges</th>\n",
       "      <th>tenure</th>\n",
       "    </tr>\n",
       "  </thead>\n",
       "  <tbody>\n",
       "    <tr>\n",
       "      <th>0</th>\n",
       "      <td>No</td>\n",
       "      <td>Female</td>\n",
       "      <td>0</td>\n",
       "      <td>Yes</td>\n",
       "      <td>No</td>\n",
       "      <td>No</td>\n",
       "      <td>No phone service</td>\n",
       "      <td>Month-to-month</td>\n",
       "      <td>Yes</td>\n",
       "      <td>29.85</td>\n",
       "      <td>29.85</td>\n",
       "      <td>1</td>\n",
       "    </tr>\n",
       "    <tr>\n",
       "      <th>1</th>\n",
       "      <td>No</td>\n",
       "      <td>Male</td>\n",
       "      <td>0</td>\n",
       "      <td>No</td>\n",
       "      <td>No</td>\n",
       "      <td>Yes</td>\n",
       "      <td>No</td>\n",
       "      <td>One year</td>\n",
       "      <td>No</td>\n",
       "      <td>56.95</td>\n",
       "      <td>1889.5</td>\n",
       "      <td>34</td>\n",
       "    </tr>\n",
       "    <tr>\n",
       "      <th>2</th>\n",
       "      <td>Yes</td>\n",
       "      <td>Male</td>\n",
       "      <td>0</td>\n",
       "      <td>No</td>\n",
       "      <td>No</td>\n",
       "      <td>Yes</td>\n",
       "      <td>No</td>\n",
       "      <td>Month-to-month</td>\n",
       "      <td>Yes</td>\n",
       "      <td>53.85</td>\n",
       "      <td>108.15</td>\n",
       "      <td>2</td>\n",
       "    </tr>\n",
       "    <tr>\n",
       "      <th>3</th>\n",
       "      <td>No</td>\n",
       "      <td>Male</td>\n",
       "      <td>0</td>\n",
       "      <td>No</td>\n",
       "      <td>No</td>\n",
       "      <td>No</td>\n",
       "      <td>No phone service</td>\n",
       "      <td>One year</td>\n",
       "      <td>No</td>\n",
       "      <td>42.3</td>\n",
       "      <td>1840.75</td>\n",
       "      <td>45</td>\n",
       "    </tr>\n",
       "    <tr>\n",
       "      <th>4</th>\n",
       "      <td>Yes</td>\n",
       "      <td>Female</td>\n",
       "      <td>0</td>\n",
       "      <td>No</td>\n",
       "      <td>No</td>\n",
       "      <td>Yes</td>\n",
       "      <td>No</td>\n",
       "      <td>Month-to-month</td>\n",
       "      <td>Yes</td>\n",
       "      <td>70.7</td>\n",
       "      <td>151.65</td>\n",
       "      <td>2</td>\n",
       "    </tr>\n",
       "    <tr>\n",
       "      <th>...</th>\n",
       "      <td>...</td>\n",
       "      <td>...</td>\n",
       "      <td>...</td>\n",
       "      <td>...</td>\n",
       "      <td>...</td>\n",
       "      <td>...</td>\n",
       "      <td>...</td>\n",
       "      <td>...</td>\n",
       "      <td>...</td>\n",
       "      <td>...</td>\n",
       "      <td>...</td>\n",
       "      <td>...</td>\n",
       "    </tr>\n",
       "    <tr>\n",
       "      <th>7038</th>\n",
       "      <td>No</td>\n",
       "      <td>Male</td>\n",
       "      <td>0</td>\n",
       "      <td>Yes</td>\n",
       "      <td>Yes</td>\n",
       "      <td>Yes</td>\n",
       "      <td>Yes</td>\n",
       "      <td>One year</td>\n",
       "      <td>Yes</td>\n",
       "      <td>84.8</td>\n",
       "      <td>1990.5</td>\n",
       "      <td>24</td>\n",
       "    </tr>\n",
       "    <tr>\n",
       "      <th>7039</th>\n",
       "      <td>No</td>\n",
       "      <td>Female</td>\n",
       "      <td>0</td>\n",
       "      <td>Yes</td>\n",
       "      <td>Yes</td>\n",
       "      <td>Yes</td>\n",
       "      <td>Yes</td>\n",
       "      <td>One year</td>\n",
       "      <td>Yes</td>\n",
       "      <td>103.2</td>\n",
       "      <td>7362.9</td>\n",
       "      <td>72</td>\n",
       "    </tr>\n",
       "    <tr>\n",
       "      <th>7040</th>\n",
       "      <td>No</td>\n",
       "      <td>Female</td>\n",
       "      <td>0</td>\n",
       "      <td>Yes</td>\n",
       "      <td>Yes</td>\n",
       "      <td>No</td>\n",
       "      <td>No phone service</td>\n",
       "      <td>Month-to-month</td>\n",
       "      <td>Yes</td>\n",
       "      <td>29.6</td>\n",
       "      <td>346.45</td>\n",
       "      <td>11</td>\n",
       "    </tr>\n",
       "    <tr>\n",
       "      <th>7041</th>\n",
       "      <td>Yes</td>\n",
       "      <td>Male</td>\n",
       "      <td>1</td>\n",
       "      <td>Yes</td>\n",
       "      <td>No</td>\n",
       "      <td>Yes</td>\n",
       "      <td>Yes</td>\n",
       "      <td>Month-to-month</td>\n",
       "      <td>Yes</td>\n",
       "      <td>74.4</td>\n",
       "      <td>306.6</td>\n",
       "      <td>4</td>\n",
       "    </tr>\n",
       "    <tr>\n",
       "      <th>7042</th>\n",
       "      <td>No</td>\n",
       "      <td>Male</td>\n",
       "      <td>0</td>\n",
       "      <td>No</td>\n",
       "      <td>No</td>\n",
       "      <td>Yes</td>\n",
       "      <td>No</td>\n",
       "      <td>Two year</td>\n",
       "      <td>Yes</td>\n",
       "      <td>105.7</td>\n",
       "      <td>6844.5</td>\n",
       "      <td>66</td>\n",
       "    </tr>\n",
       "  </tbody>\n",
       "</table>\n",
       "<p>7043 rows × 12 columns</p>\n",
       "</div>"
      ],
      "text/plain": [
       "     Churn  gender  SeniorCitizen Partner Dependents PhoneService     MultipleLines        Contract PaperlessBilling  MonthlyCharges TotalCharges  tenure\n",
       "0       No  Female              0     Yes         No           No  No phone service  Month-to-month              Yes           29.85        29.85       1\n",
       "1       No    Male              0      No         No          Yes                No        One year               No           56.95       1889.5      34\n",
       "2      Yes    Male              0      No         No          Yes                No  Month-to-month              Yes           53.85       108.15       2\n",
       "3       No    Male              0      No         No           No  No phone service        One year               No            42.3      1840.75      45\n",
       "4      Yes  Female              0      No         No          Yes                No  Month-to-month              Yes            70.7       151.65       2\n",
       "...    ...     ...            ...     ...        ...          ...               ...             ...              ...             ...          ...     ...\n",
       "7038    No    Male              0     Yes        Yes          Yes               Yes        One year              Yes            84.8       1990.5      24\n",
       "7039    No  Female              0     Yes        Yes          Yes               Yes        One year              Yes           103.2       7362.9      72\n",
       "7040    No  Female              0     Yes        Yes           No  No phone service  Month-to-month              Yes            29.6       346.45      11\n",
       "7041   Yes    Male              1     Yes         No          Yes               Yes  Month-to-month              Yes            74.4        306.6       4\n",
       "7042    No    Male              0      No         No          Yes                No        Two year              Yes           105.7       6844.5      66\n",
       "\n",
       "[7043 rows x 12 columns]"
      ]
     },
     "execution_count": 1060,
     "metadata": {},
     "output_type": "execute_result"
    }
   ],
   "source": [
    "trainData"
   ]
  },
  {
   "cell_type": "markdown",
   "id": "63144736",
   "metadata": {},
   "source": [
    "# Question 1 a) "
   ]
  },
  {
   "cell_type": "markdown",
   "id": "3f2f8b47",
   "metadata": {},
   "source": [
    "a) For each categorical predictor, generate a bar chart that shows the odds of Churn for each category.  Please order the categories in ascending odds of Churn.  Also, please comment on each categorical predictor on whether it may affect the target variable."
   ]
  },
  {
   "cell_type": "code",
   "execution_count": 1061,
   "id": "1f024b1b",
   "metadata": {},
   "outputs": [
    {
     "data": {
      "text/plain": [
       "['gender',\n",
       " 'SeniorCitizen',\n",
       " 'Partner',\n",
       " 'Dependents',\n",
       " 'PhoneService',\n",
       " 'MultipleLines',\n",
       " 'Contract',\n",
       " 'PaperlessBilling']"
      ]
     },
     "execution_count": 1061,
     "metadata": {},
     "output_type": "execute_result"
    }
   ],
   "source": [
    "X_cat"
   ]
  },
  {
   "cell_type": "code",
   "execution_count": 1062,
   "id": "933680dd",
   "metadata": {},
   "outputs": [],
   "source": [
    "from matplotlib.ticker import (MultipleLocator, FormatStrFormatter)"
   ]
  },
  {
   "cell_type": "markdown",
   "id": "2f49bca4",
   "metadata": {},
   "source": [
    "## Gender"
   ]
  },
  {
   "cell_type": "code",
   "execution_count": 1063,
   "id": "7701f450",
   "metadata": {},
   "outputs": [
    {
     "data": {
      "text/plain": [
       "'gender'"
      ]
     },
     "execution_count": 1063,
     "metadata": {},
     "output_type": "execute_result"
    }
   ],
   "source": [
    "pred = 'gender'\n",
    "pred"
   ]
  },
  {
   "cell_type": "code",
   "execution_count": 1064,
   "id": "3f1fe854",
   "metadata": {},
   "outputs": [
    {
     "data": {
      "text/plain": [
       "0       Female\n",
       "1         Male\n",
       "2         Male\n",
       "3         Male\n",
       "4       Female\n",
       "         ...  \n",
       "7038      Male\n",
       "7039    Female\n",
       "7040    Female\n",
       "7041      Male\n",
       "7042      Male\n",
       "Name: gender, Length: 7043, dtype: category\n",
       "Categories (2, object): ['Female', 'Male']"
      ]
     },
     "execution_count": 1064,
     "metadata": {},
     "output_type": "execute_result"
    }
   ],
   "source": [
    "u = trainData[pred].astype('category').copy()\n",
    "u_freq = u.value_counts(ascending = True)\n",
    "trainData[pred] = u.cat.reorder_categories(list(u_freq.index)).copy()\n",
    "trainData[pred]"
   ]
  },
  {
   "cell_type": "code",
   "execution_count": 1065,
   "id": "12d87365",
   "metadata": {},
   "outputs": [
    {
     "data": {
      "text/html": [
       "<div>\n",
       "<style scoped>\n",
       "    .dataframe tbody tr th:only-of-type {\n",
       "        vertical-align: middle;\n",
       "    }\n",
       "\n",
       "    .dataframe tbody tr th {\n",
       "        vertical-align: top;\n",
       "    }\n",
       "\n",
       "    .dataframe thead th {\n",
       "        text-align: right;\n",
       "    }\n",
       "</style>\n",
       "<table border=\"1\" class=\"dataframe\">\n",
       "  <thead>\n",
       "    <tr style=\"text-align: right;\">\n",
       "      <th>col_0</th>\n",
       "      <th>0</th>\n",
       "      <th>1</th>\n",
       "    </tr>\n",
       "    <tr>\n",
       "      <th>gender</th>\n",
       "      <th></th>\n",
       "      <th></th>\n",
       "    </tr>\n",
       "  </thead>\n",
       "  <tbody>\n",
       "    <tr>\n",
       "      <th>Female</th>\n",
       "      <td>2549</td>\n",
       "      <td>939</td>\n",
       "    </tr>\n",
       "    <tr>\n",
       "      <th>Male</th>\n",
       "      <td>2625</td>\n",
       "      <td>930</td>\n",
       "    </tr>\n",
       "  </tbody>\n",
       "</table>\n",
       "</div>"
      ],
      "text/plain": [
       "col_0      0    1\n",
       "gender           \n",
       "Female  2549  939\n",
       "Male    2625  930"
      ]
     },
     "execution_count": 1065,
     "metadata": {},
     "output_type": "execute_result"
    }
   ],
   "source": [
    "cntTable = pandas.crosstab(index = trainData[pred], columns = Telco.y,margins = False, dropna = True)\n",
    "cntTable"
   ]
  },
  {
   "cell_type": "code",
   "execution_count": 1066,
   "id": "7938e08e",
   "metadata": {},
   "outputs": [
    {
     "data": {
      "image/png": "[encoded data removed]",
      "text/plain": [
       "<Figure size 600x600 with 1 Axes>"
      ]
     },
     "metadata": {
      "needs_background": "light"
     },
     "output_type": "display_data"
    }
   ],
   "source": [
    "fig, (ax1) = plt.subplots(nrows = 1, ncols = 1, dpi = 100, figsize = \n",
    "(6,6))\n",
    "\n",
    "oddsTable = cntTable[1] / cntTable[0]\n",
    "ax1.bar(oddsTable.index, oddsTable, color = 'green')\n",
    "ax1.set_xlabel(pred)\n",
    "ax1.set_ylabel('Odds')\n",
    "ax1.set_xticks(oddsTable.index)\n",
    "ax1.set_title('Odd Ratio of Gender')\n",
    "ax1.grid(axis = 'y', linestyle = '--', linewidth = 0.5)\n",
    "\n",
    "plt.show()"
   ]
  },
  {
   "cell_type": "markdown",
   "id": "2b3cd38f",
   "metadata": {},
   "source": [
    "Gender Odd Ratio: The probability of female churn is slightly higher than male. However, since both gender odd ratio is less than 1, it means there is a lesser likelihood of having the churn outcome."
   ]
  },
  {
   "cell_type": "markdown",
   "id": "85922012",
   "metadata": {},
   "source": [
    "## MultipleLines"
   ]
  },
  {
   "cell_type": "markdown",
   "id": "b3fa7c42",
   "metadata": {},
   "source": [
    "When the value of Phone Service is “No”, the value of Multiplelines shows “No Phone Service.” The “No Phone Service” value in the Multiplelines column actually does not have any predicting power. Merge \"No Phone Service\" into \"No\"."
   ]
  },
  {
   "cell_type": "code",
   "execution_count": 1067,
   "id": "dcd3559f",
   "metadata": {},
   "outputs": [
    {
     "data": {
      "text/plain": [
       "0        No\n",
       "1        No\n",
       "2        No\n",
       "3        No\n",
       "4        No\n",
       "       ... \n",
       "7038    Yes\n",
       "7039    Yes\n",
       "7040     No\n",
       "7041    Yes\n",
       "7042     No\n",
       "Name: MultipleLines, Length: 7043, dtype: object"
      ]
     },
     "execution_count": 1067,
     "metadata": {},
     "output_type": "execute_result"
    }
   ],
   "source": [
    "trainData['MultipleLines'] = trainData['MultipleLines'].replace('No phone service', 'No')\n",
    "trainData['MultipleLines']"
   ]
  },
  {
   "cell_type": "code",
   "execution_count": 1068,
   "id": "8631e919",
   "metadata": {},
   "outputs": [],
   "source": [
    "pred = 'MultipleLines'"
   ]
  },
  {
   "cell_type": "code",
   "execution_count": 1069,
   "id": "d826e998",
   "metadata": {},
   "outputs": [
    {
     "data": {
      "text/plain": [
       "0        No\n",
       "1        No\n",
       "2        No\n",
       "3        No\n",
       "4        No\n",
       "       ... \n",
       "7038    Yes\n",
       "7039    Yes\n",
       "7040     No\n",
       "7041    Yes\n",
       "7042     No\n",
       "Name: MultipleLines, Length: 7043, dtype: category\n",
       "Categories (2, object): ['Yes', 'No']"
      ]
     },
     "execution_count": 1069,
     "metadata": {},
     "output_type": "execute_result"
    }
   ],
   "source": [
    "u = trainData[pred].astype('category').copy()\n",
    "u_freq = u.value_counts(ascending = True)\n",
    "trainData[pred] = u.cat.reorder_categories(list(u_freq.index)).copy()\n",
    "trainData[pred]"
   ]
  },
  {
   "cell_type": "code",
   "execution_count": 1070,
   "id": "ae37af30",
   "metadata": {},
   "outputs": [
    {
     "data": {
      "text/html": [
       "<div>\n",
       "<style scoped>\n",
       "    .dataframe tbody tr th:only-of-type {\n",
       "        vertical-align: middle;\n",
       "    }\n",
       "\n",
       "    .dataframe tbody tr th {\n",
       "        vertical-align: top;\n",
       "    }\n",
       "\n",
       "    .dataframe thead th {\n",
       "        text-align: right;\n",
       "    }\n",
       "</style>\n",
       "<table border=\"1\" class=\"dataframe\">\n",
       "  <thead>\n",
       "    <tr style=\"text-align: right;\">\n",
       "      <th>col_0</th>\n",
       "      <th>0</th>\n",
       "      <th>1</th>\n",
       "    </tr>\n",
       "    <tr>\n",
       "      <th>MultipleLines</th>\n",
       "      <th></th>\n",
       "      <th></th>\n",
       "    </tr>\n",
       "  </thead>\n",
       "  <tbody>\n",
       "    <tr>\n",
       "      <th>Yes</th>\n",
       "      <td>2121</td>\n",
       "      <td>850</td>\n",
       "    </tr>\n",
       "    <tr>\n",
       "      <th>No</th>\n",
       "      <td>3053</td>\n",
       "      <td>1019</td>\n",
       "    </tr>\n",
       "  </tbody>\n",
       "</table>\n",
       "</div>"
      ],
      "text/plain": [
       "col_0             0     1\n",
       "MultipleLines            \n",
       "Yes            2121   850\n",
       "No             3053  1019"
      ]
     },
     "execution_count": 1070,
     "metadata": {},
     "output_type": "execute_result"
    }
   ],
   "source": [
    "cntTable = pandas.crosstab(index = trainData[pred], columns = Telco.y,margins = False, dropna = True)\n",
    "cntTable"
   ]
  },
  {
   "cell_type": "code",
   "execution_count": 1071,
   "id": "43401b5b",
   "metadata": {},
   "outputs": [
    {
     "data": {
      "image/png": "[encoded data removed]",
      "text/plain": [
       "<Figure size 600x600 with 1 Axes>"
      ]
     },
     "metadata": {
      "needs_background": "light"
     },
     "output_type": "display_data"
    }
   ],
   "source": [
    "fig, (ax1) = plt.subplots(nrows = 1, ncols = 1, dpi = 100, figsize = \n",
    "(6,6))\n",
    "\n",
    "oddsTable = cntTable[1] / cntTable[0]\n",
    "ax1.bar(oddsTable.index, oddsTable, color = 'green')\n",
    "ax1.set_xlabel(pred)\n",
    "ax1.set_ylabel('Odds')\n",
    "ax1.set_xticks(oddsTable.index)\n",
    "ax1.set_title('Odd Ratio of MultipleLines')\n",
    "ax1.grid(axis = 'y', linestyle = '--', linewidth = 0.5)\n",
    "\n",
    "plt.show()"
   ]
  },
  {
   "cell_type": "markdown",
   "id": "ad54501f",
   "metadata": {},
   "source": [
    "MultipleLines Odd Ratio: The probability of Having multiple lines user to churn is slightly higher than those do not have. However, since both MultipleLines odd ratio are less than 1, it means there is a lesser likelihood of having the churn outcome."
   ]
  },
  {
   "cell_type": "markdown",
   "id": "36d76c85",
   "metadata": {},
   "source": [
    "## SeniorCitizen"
   ]
  },
  {
   "cell_type": "code",
   "execution_count": 1073,
   "id": "619ddd20",
   "metadata": {},
   "outputs": [
    {
     "data": {
      "text/plain": [
       "'SeniorCitizen'"
      ]
     },
     "execution_count": 1073,
     "metadata": {},
     "output_type": "execute_result"
    }
   ],
   "source": [
    "pred = 'SeniorCitizen'\n",
    "pred"
   ]
  },
  {
   "cell_type": "code",
   "execution_count": 1074,
   "id": "d1f01203",
   "metadata": {},
   "outputs": [
    {
     "data": {
      "text/plain": [
       "0       0\n",
       "1       0\n",
       "2       0\n",
       "3       0\n",
       "4       0\n",
       "       ..\n",
       "7038    0\n",
       "7039    0\n",
       "7040    0\n",
       "7041    1\n",
       "7042    0\n",
       "Name: SeniorCitizen, Length: 7043, dtype: category\n",
       "Categories (2, int64): [1, 0]"
      ]
     },
     "execution_count": 1074,
     "metadata": {},
     "output_type": "execute_result"
    }
   ],
   "source": [
    "u = trainData[pred].astype('category').copy()\n",
    "u_freq = u.value_counts(ascending = True)\n",
    "trainData[pred] = u.cat.reorder_categories(list(u_freq.index)).copy()\n",
    "trainData[pred]"
   ]
  },
  {
   "cell_type": "code",
   "execution_count": 1075,
   "id": "f4e28168",
   "metadata": {},
   "outputs": [
    {
     "data": {
      "text/html": [
       "<div>\n",
       "<style scoped>\n",
       "    .dataframe tbody tr th:only-of-type {\n",
       "        vertical-align: middle;\n",
       "    }\n",
       "\n",
       "    .dataframe tbody tr th {\n",
       "        vertical-align: top;\n",
       "    }\n",
       "\n",
       "    .dataframe thead th {\n",
       "        text-align: right;\n",
       "    }\n",
       "</style>\n",
       "<table border=\"1\" class=\"dataframe\">\n",
       "  <thead>\n",
       "    <tr style=\"text-align: right;\">\n",
       "      <th>col_0</th>\n",
       "      <th>0</th>\n",
       "      <th>1</th>\n",
       "    </tr>\n",
       "    <tr>\n",
       "      <th>SeniorCitizen</th>\n",
       "      <th></th>\n",
       "      <th></th>\n",
       "    </tr>\n",
       "  </thead>\n",
       "  <tbody>\n",
       "    <tr>\n",
       "      <th>1</th>\n",
       "      <td>666</td>\n",
       "      <td>476</td>\n",
       "    </tr>\n",
       "    <tr>\n",
       "      <th>0</th>\n",
       "      <td>4508</td>\n",
       "      <td>1393</td>\n",
       "    </tr>\n",
       "  </tbody>\n",
       "</table>\n",
       "</div>"
      ],
      "text/plain": [
       "col_0             0     1\n",
       "SeniorCitizen            \n",
       "1               666   476\n",
       "0              4508  1393"
      ]
     },
     "execution_count": 1075,
     "metadata": {},
     "output_type": "execute_result"
    }
   ],
   "source": [
    "cntTable = pandas.crosstab(index = trainData[pred], columns = Telco.y,margins = False, dropna = True)\n",
    "cntTable"
   ]
  },
  {
   "cell_type": "code",
   "execution_count": 1076,
   "id": "02c7eb4a",
   "metadata": {},
   "outputs": [
    {
     "data": {
      "image/png": "[encoded data removed]",
      "text/plain": [
       "<Figure size 600x600 with 1 Axes>"
      ]
     },
     "metadata": {
      "needs_background": "light"
     },
     "output_type": "display_data"
    }
   ],
   "source": [
    "fig, (ax1) = plt.subplots(nrows = 1, ncols = 1, dpi = 100, figsize = \n",
    "(6,6))\n",
    "\n",
    "oddsTable = cntTable[1] / cntTable[0]\n",
    "ax1.bar(oddsTable.index, oddsTable, color = 'green')\n",
    "ax1.set_xlabel(pred)\n",
    "ax1.set_ylabel('Odds')\n",
    "ax1.set_xticks(oddsTable.index)\n",
    "ax1.set_title('Odd Ratio of SeniorCitizen')\n",
    "ax1.grid(axis = 'y', linestyle = '--', linewidth = 0.5)\n",
    "\n",
    "plt.show()"
   ]
  },
  {
   "cell_type": "markdown",
   "id": "04109465",
   "metadata": {},
   "source": [
    "Senior Citizen Odd Ratio: The probability of Senior Citizen to churn is higher than those were not. However, since both attribute odd ratio are less than 1, it means there is a lesser likelihood of having the churn outcome."
   ]
  },
  {
   "cell_type": "markdown",
   "id": "c82f5886",
   "metadata": {},
   "source": [
    "## Partner"
   ]
  },
  {
   "cell_type": "code",
   "execution_count": 1077,
   "id": "dfb780ee",
   "metadata": {},
   "outputs": [
    {
     "data": {
      "text/plain": [
       "'Partner'"
      ]
     },
     "execution_count": 1077,
     "metadata": {},
     "output_type": "execute_result"
    }
   ],
   "source": [
    "pred = 'Partner'\n",
    "pred"
   ]
  },
  {
   "cell_type": "code",
   "execution_count": 1078,
   "id": "e64178b9",
   "metadata": {},
   "outputs": [
    {
     "data": {
      "text/plain": [
       "0       Yes\n",
       "1        No\n",
       "2        No\n",
       "3        No\n",
       "4        No\n",
       "       ... \n",
       "7038    Yes\n",
       "7039    Yes\n",
       "7040    Yes\n",
       "7041    Yes\n",
       "7042     No\n",
       "Name: Partner, Length: 7043, dtype: category\n",
       "Categories (2, object): ['Yes', 'No']"
      ]
     },
     "execution_count": 1078,
     "metadata": {},
     "output_type": "execute_result"
    }
   ],
   "source": [
    "u = trainData[pred].astype('category').copy()\n",
    "u_freq = u.value_counts(ascending = True)\n",
    "trainData[pred] = u.cat.reorder_categories(list(u_freq.index)).copy()\n",
    "trainData[pred]"
   ]
  },
  {
   "cell_type": "code",
   "execution_count": 1079,
   "id": "c37c6e7e",
   "metadata": {},
   "outputs": [
    {
     "data": {
      "text/html": [
       "<div>\n",
       "<style scoped>\n",
       "    .dataframe tbody tr th:only-of-type {\n",
       "        vertical-align: middle;\n",
       "    }\n",
       "\n",
       "    .dataframe tbody tr th {\n",
       "        vertical-align: top;\n",
       "    }\n",
       "\n",
       "    .dataframe thead th {\n",
       "        text-align: right;\n",
       "    }\n",
       "</style>\n",
       "<table border=\"1\" class=\"dataframe\">\n",
       "  <thead>\n",
       "    <tr style=\"text-align: right;\">\n",
       "      <th>col_0</th>\n",
       "      <th>0</th>\n",
       "      <th>1</th>\n",
       "    </tr>\n",
       "    <tr>\n",
       "      <th>Partner</th>\n",
       "      <th></th>\n",
       "      <th></th>\n",
       "    </tr>\n",
       "  </thead>\n",
       "  <tbody>\n",
       "    <tr>\n",
       "      <th>Yes</th>\n",
       "      <td>2733</td>\n",
       "      <td>669</td>\n",
       "    </tr>\n",
       "    <tr>\n",
       "      <th>No</th>\n",
       "      <td>2441</td>\n",
       "      <td>1200</td>\n",
       "    </tr>\n",
       "  </tbody>\n",
       "</table>\n",
       "</div>"
      ],
      "text/plain": [
       "col_0       0     1\n",
       "Partner            \n",
       "Yes      2733   669\n",
       "No       2441  1200"
      ]
     },
     "execution_count": 1079,
     "metadata": {},
     "output_type": "execute_result"
    }
   ],
   "source": [
    "cntTable = pandas.crosstab(index = trainData[pred], columns = Telco.y,margins = False, dropna = True)\n",
    "cntTable"
   ]
  },
  {
   "cell_type": "code",
   "execution_count": 1080,
   "id": "5d573efd",
   "metadata": {},
   "outputs": [
    {
     "data": {
      "image/png": "[encoded data removed]",
      "text/plain": [
       "<Figure size 600x600 with 1 Axes>"
      ]
     },
     "metadata": {
      "needs_background": "light"
     },
     "output_type": "display_data"
    }
   ],
   "source": [
    "fig, (ax1) = plt.subplots(nrows = 1, ncols = 1, dpi = 100, figsize = \n",
    "(6,6))\n",
    "\n",
    "oddsTable = cntTable[1] / cntTable[0]\n",
    "ax1.bar(oddsTable.index, oddsTable, color = 'green')\n",
    "ax1.set_xlabel(pred)\n",
    "ax1.set_ylabel('Odds')\n",
    "ax1.set_xticks(oddsTable.index)\n",
    "ax1.set_title('Odd Ratio of Partner')\n",
    "ax1.grid(axis = 'y', linestyle = '--', linewidth = 0.5)\n",
    "\n",
    "plt.show()"
   ]
  },
  {
   "cell_type": "markdown",
   "id": "2151f30a",
   "metadata": {},
   "source": [
    "Partner Odd Ratio: The probability of No Partner to churn is higher than those who have one. However, since both attributes odd ratio are less than 1, it means there is a lesser likelihood of having the churn outcome."
   ]
  },
  {
   "cell_type": "markdown",
   "id": "20fe331d",
   "metadata": {},
   "source": [
    "## Dependents"
   ]
  },
  {
   "cell_type": "code",
   "execution_count": 1081,
   "id": "e24f7700",
   "metadata": {},
   "outputs": [
    {
     "data": {
      "text/plain": [
       "'Dependents'"
      ]
     },
     "execution_count": 1081,
     "metadata": {},
     "output_type": "execute_result"
    }
   ],
   "source": [
    "pred = 'Dependents'\n",
    "pred"
   ]
  },
  {
   "cell_type": "code",
   "execution_count": 1082,
   "id": "ee5b4dd3",
   "metadata": {},
   "outputs": [
    {
     "data": {
      "text/plain": [
       "0        No\n",
       "1        No\n",
       "2        No\n",
       "3        No\n",
       "4        No\n",
       "       ... \n",
       "7038    Yes\n",
       "7039    Yes\n",
       "7040    Yes\n",
       "7041     No\n",
       "7042     No\n",
       "Name: Dependents, Length: 7043, dtype: category\n",
       "Categories (2, object): ['Yes', 'No']"
      ]
     },
     "execution_count": 1082,
     "metadata": {},
     "output_type": "execute_result"
    }
   ],
   "source": [
    "u = trainData[pred].astype('category').copy()\n",
    "u_freq = u.value_counts(ascending = True)\n",
    "trainData[pred] = u.cat.reorder_categories(list(u_freq.index)).copy()\n",
    "trainData[pred]"
   ]
  },
  {
   "cell_type": "code",
   "execution_count": 1083,
   "id": "0a72b3a3",
   "metadata": {},
   "outputs": [
    {
     "data": {
      "text/html": [
       "<div>\n",
       "<style scoped>\n",
       "    .dataframe tbody tr th:only-of-type {\n",
       "        vertical-align: middle;\n",
       "    }\n",
       "\n",
       "    .dataframe tbody tr th {\n",
       "        vertical-align: top;\n",
       "    }\n",
       "\n",
       "    .dataframe thead th {\n",
       "        text-align: right;\n",
       "    }\n",
       "</style>\n",
       "<table border=\"1\" class=\"dataframe\">\n",
       "  <thead>\n",
       "    <tr style=\"text-align: right;\">\n",
       "      <th>col_0</th>\n",
       "      <th>0</th>\n",
       "      <th>1</th>\n",
       "    </tr>\n",
       "    <tr>\n",
       "      <th>Dependents</th>\n",
       "      <th></th>\n",
       "      <th></th>\n",
       "    </tr>\n",
       "  </thead>\n",
       "  <tbody>\n",
       "    <tr>\n",
       "      <th>Yes</th>\n",
       "      <td>1784</td>\n",
       "      <td>326</td>\n",
       "    </tr>\n",
       "    <tr>\n",
       "      <th>No</th>\n",
       "      <td>3390</td>\n",
       "      <td>1543</td>\n",
       "    </tr>\n",
       "  </tbody>\n",
       "</table>\n",
       "</div>"
      ],
      "text/plain": [
       "col_0          0     1\n",
       "Dependents            \n",
       "Yes         1784   326\n",
       "No          3390  1543"
      ]
     },
     "execution_count": 1083,
     "metadata": {},
     "output_type": "execute_result"
    }
   ],
   "source": [
    "cntTable = pandas.crosstab(index = trainData[pred], columns = Telco.y,margins = False, dropna = True)\n",
    "cntTable"
   ]
  },
  {
   "cell_type": "code",
   "execution_count": 1084,
   "id": "2c9e1d19",
   "metadata": {},
   "outputs": [
    {
     "data": {
      "image/png": "[encoded data removed]",
      "text/plain": [
       "<Figure size 600x600 with 1 Axes>"
      ]
     },
     "metadata": {
      "needs_background": "light"
     },
     "output_type": "display_data"
    }
   ],
   "source": [
    "fig, (ax1) = plt.subplots(nrows = 1, ncols = 1, dpi = 100, figsize = \n",
    "(6,6))\n",
    "\n",
    "oddsTable = cntTable[1] / cntTable[0]\n",
    "ax1.bar(oddsTable.index, oddsTable, color = 'green')\n",
    "ax1.set_xlabel(pred)\n",
    "ax1.set_ylabel('Odds')\n",
    "ax1.set_xticks(oddsTable.index)\n",
    "ax1.set_title('Odd Ratio of Depedents')\n",
    "ax1.grid(axis = 'y', linestyle = '--', linewidth = 0.5)\n",
    "\n",
    "plt.show()"
   ]
  },
  {
   "cell_type": "markdown",
   "id": "bca2b58c",
   "metadata": {},
   "source": [
    "Depedents Odd Ratio: The probability of No Depedents to churn is higher than those who have one. However, since both attribute odd ratios are less than 1, it means there is a lesser likelihood of having the churn outcome."
   ]
  },
  {
   "cell_type": "markdown",
   "id": "7b01e39a",
   "metadata": {},
   "source": [
    "## PhoneService"
   ]
  },
  {
   "cell_type": "code",
   "execution_count": 1085,
   "id": "88e36e19",
   "metadata": {},
   "outputs": [
    {
     "data": {
      "text/plain": [
       "'PhoneService'"
      ]
     },
     "execution_count": 1085,
     "metadata": {},
     "output_type": "execute_result"
    }
   ],
   "source": [
    "pred = 'PhoneService'\n",
    "pred"
   ]
  },
  {
   "cell_type": "code",
   "execution_count": 1086,
   "id": "5a193061",
   "metadata": {},
   "outputs": [
    {
     "data": {
      "text/plain": [
       "0        No\n",
       "1       Yes\n",
       "2       Yes\n",
       "3        No\n",
       "4       Yes\n",
       "       ... \n",
       "7038    Yes\n",
       "7039    Yes\n",
       "7040     No\n",
       "7041    Yes\n",
       "7042    Yes\n",
       "Name: PhoneService, Length: 7043, dtype: category\n",
       "Categories (2, object): ['No', 'Yes']"
      ]
     },
     "execution_count": 1086,
     "metadata": {},
     "output_type": "execute_result"
    }
   ],
   "source": [
    "u = trainData[pred].astype('category').copy()\n",
    "u_freq = u.value_counts(ascending = True)\n",
    "trainData[pred] = u.cat.reorder_categories(list(u_freq.index)).copy()\n",
    "trainData[pred]"
   ]
  },
  {
   "cell_type": "code",
   "execution_count": 1087,
   "id": "85ab51b4",
   "metadata": {},
   "outputs": [
    {
     "data": {
      "text/html": [
       "<div>\n",
       "<style scoped>\n",
       "    .dataframe tbody tr th:only-of-type {\n",
       "        vertical-align: middle;\n",
       "    }\n",
       "\n",
       "    .dataframe tbody tr th {\n",
       "        vertical-align: top;\n",
       "    }\n",
       "\n",
       "    .dataframe thead th {\n",
       "        text-align: right;\n",
       "    }\n",
       "</style>\n",
       "<table border=\"1\" class=\"dataframe\">\n",
       "  <thead>\n",
       "    <tr style=\"text-align: right;\">\n",
       "      <th>col_0</th>\n",
       "      <th>0</th>\n",
       "      <th>1</th>\n",
       "    </tr>\n",
       "    <tr>\n",
       "      <th>PhoneService</th>\n",
       "      <th></th>\n",
       "      <th></th>\n",
       "    </tr>\n",
       "  </thead>\n",
       "  <tbody>\n",
       "    <tr>\n",
       "      <th>No</th>\n",
       "      <td>512</td>\n",
       "      <td>170</td>\n",
       "    </tr>\n",
       "    <tr>\n",
       "      <th>Yes</th>\n",
       "      <td>4662</td>\n",
       "      <td>1699</td>\n",
       "    </tr>\n",
       "  </tbody>\n",
       "</table>\n",
       "</div>"
      ],
      "text/plain": [
       "col_0            0     1\n",
       "PhoneService            \n",
       "No             512   170\n",
       "Yes           4662  1699"
      ]
     },
     "execution_count": 1087,
     "metadata": {},
     "output_type": "execute_result"
    }
   ],
   "source": [
    "cntTable = pandas.crosstab(index = trainData[pred], columns = Telco.y,margins = False, dropna = True)\n",
    "cntTable"
   ]
  },
  {
   "cell_type": "code",
   "execution_count": 1088,
   "id": "6f2d5d79",
   "metadata": {},
   "outputs": [
    {
     "data": {
      "image/png": "[encoded data removed]",
      "text/plain": [
       "<Figure size 600x600 with 1 Axes>"
      ]
     },
     "metadata": {
      "needs_background": "light"
     },
     "output_type": "display_data"
    }
   ],
   "source": [
    "fig, (ax1) = plt.subplots(nrows = 1, ncols = 1, dpi = 100, figsize = \n",
    "(6,6))\n",
    "\n",
    "oddsTable = cntTable[1] / cntTable[0]\n",
    "ax1.bar(oddsTable.index, oddsTable, color = 'green')\n",
    "ax1.set_xlabel(pred)\n",
    "ax1.set_ylabel('Odds')\n",
    "ax1.set_xticks(oddsTable.index)\n",
    "ax1.set_title('Odd Ratio of PhoneService')\n",
    "ax1.grid(axis = 'y', linestyle = '--', linewidth = 0.5)\n",
    "\n",
    "plt.show()"
   ]
  },
  {
   "cell_type": "markdown",
   "id": "0a606bc3",
   "metadata": {},
   "source": [
    "Phone Service Odd Ratio: The probability of having Phone Service to churn is slightly higher than those who don't have one. However, since both attribute odd ratios are less than 1, it means there is a lesser likelihood of having the churn outcome."
   ]
  },
  {
   "cell_type": "markdown",
   "id": "604a5e00",
   "metadata": {},
   "source": [
    "## Contract"
   ]
  },
  {
   "cell_type": "code",
   "execution_count": 1089,
   "id": "a1a50add",
   "metadata": {},
   "outputs": [
    {
     "data": {
      "text/plain": [
       "'Contract'"
      ]
     },
     "execution_count": 1089,
     "metadata": {},
     "output_type": "execute_result"
    }
   ],
   "source": [
    "pred = 'Contract'\n",
    "pred"
   ]
  },
  {
   "cell_type": "code",
   "execution_count": 1090,
   "id": "c0cf5246",
   "metadata": {},
   "outputs": [],
   "source": [
    "u = trainData[pred].astype('category').copy()\n",
    "u_freq = u.value_counts(ascending = True)\n",
    "trainData[pred] = u.cat.reorder_categories(list(u_freq.index)).copy()\n",
    "term_Contract = pd.get_dummies(trainData[pred])"
   ]
  },
  {
   "cell_type": "code",
   "execution_count": 1091,
   "id": "0f5ab8d2",
   "metadata": {},
   "outputs": [
    {
     "data": {
      "text/html": [
       "<div>\n",
       "<style scoped>\n",
       "    .dataframe tbody tr th:only-of-type {\n",
       "        vertical-align: middle;\n",
       "    }\n",
       "\n",
       "    .dataframe tbody tr th {\n",
       "        vertical-align: top;\n",
       "    }\n",
       "\n",
       "    .dataframe thead th {\n",
       "        text-align: right;\n",
       "    }\n",
       "</style>\n",
       "<table border=\"1\" class=\"dataframe\">\n",
       "  <thead>\n",
       "    <tr style=\"text-align: right;\">\n",
       "      <th></th>\n",
       "      <th>One year</th>\n",
       "      <th>Two year</th>\n",
       "      <th>Month-to-month</th>\n",
       "    </tr>\n",
       "  </thead>\n",
       "  <tbody>\n",
       "    <tr>\n",
       "      <th>0</th>\n",
       "      <td>0</td>\n",
       "      <td>0</td>\n",
       "      <td>1</td>\n",
       "    </tr>\n",
       "    <tr>\n",
       "      <th>1</th>\n",
       "      <td>1</td>\n",
       "      <td>0</td>\n",
       "      <td>0</td>\n",
       "    </tr>\n",
       "    <tr>\n",
       "      <th>2</th>\n",
       "      <td>0</td>\n",
       "      <td>0</td>\n",
       "      <td>1</td>\n",
       "    </tr>\n",
       "    <tr>\n",
       "      <th>3</th>\n",
       "      <td>1</td>\n",
       "      <td>0</td>\n",
       "      <td>0</td>\n",
       "    </tr>\n",
       "    <tr>\n",
       "      <th>4</th>\n",
       "      <td>0</td>\n",
       "      <td>0</td>\n",
       "      <td>1</td>\n",
       "    </tr>\n",
       "    <tr>\n",
       "      <th>...</th>\n",
       "      <td>...</td>\n",
       "      <td>...</td>\n",
       "      <td>...</td>\n",
       "    </tr>\n",
       "    <tr>\n",
       "      <th>7038</th>\n",
       "      <td>1</td>\n",
       "      <td>0</td>\n",
       "      <td>0</td>\n",
       "    </tr>\n",
       "    <tr>\n",
       "      <th>7039</th>\n",
       "      <td>1</td>\n",
       "      <td>0</td>\n",
       "      <td>0</td>\n",
       "    </tr>\n",
       "    <tr>\n",
       "      <th>7040</th>\n",
       "      <td>0</td>\n",
       "      <td>0</td>\n",
       "      <td>1</td>\n",
       "    </tr>\n",
       "    <tr>\n",
       "      <th>7041</th>\n",
       "      <td>0</td>\n",
       "      <td>0</td>\n",
       "      <td>1</td>\n",
       "    </tr>\n",
       "    <tr>\n",
       "      <th>7042</th>\n",
       "      <td>0</td>\n",
       "      <td>1</td>\n",
       "      <td>0</td>\n",
       "    </tr>\n",
       "  </tbody>\n",
       "</table>\n",
       "<p>7043 rows × 3 columns</p>\n",
       "</div>"
      ],
      "text/plain": [
       "      One year  Two year  Month-to-month\n",
       "0            0         0               1\n",
       "1            1         0               0\n",
       "2            0         0               1\n",
       "3            1         0               0\n",
       "4            0         0               1\n",
       "...        ...       ...             ...\n",
       "7038         1         0               0\n",
       "7039         1         0               0\n",
       "7040         0         0               1\n",
       "7041         0         0               1\n",
       "7042         0         1               0\n",
       "\n",
       "[7043 rows x 3 columns]"
      ]
     },
     "execution_count": 1091,
     "metadata": {},
     "output_type": "execute_result"
    }
   ],
   "source": [
    "term_Contract"
   ]
  },
  {
   "cell_type": "code",
   "execution_count": 1092,
   "id": "9417af52",
   "metadata": {},
   "outputs": [],
   "source": [
    "term_Contract['One year'] = term_Contract['One year'].astype('category').copy()\n",
    "term_Contract['Two year'] = term_Contract['Two year'].astype('category').copy()\n",
    "term_Contract['Month-to-month'] = term_Contract['Month-to-month'].astype('category').copy()"
   ]
  },
  {
   "cell_type": "markdown",
   "id": "8d8f3ae7",
   "metadata": {},
   "source": [
    "### One Year Contract"
   ]
  },
  {
   "cell_type": "code",
   "execution_count": 1093,
   "id": "3f4dffa9",
   "metadata": {},
   "outputs": [
    {
     "data": {
      "image/png": "[encoded data removed]",
      "text/plain": [
       "<Figure size 600x600 with 1 Axes>"
      ]
     },
     "metadata": {
      "needs_background": "light"
     },
     "output_type": "display_data"
    }
   ],
   "source": [
    "cntTable1 = pandas.crosstab(index = term_Contract['One year'], columns = Telco.y,margins = False, dropna = True)\n",
    "cntTable1\n",
    "\n",
    "fig, (ax1) = plt.subplots(nrows = 1, ncols = 1, dpi = 100, figsize = \n",
    "(6,6))\n",
    "\n",
    "oddsTable1 = cntTable1[1] / cntTable1[0]\n",
    "ax1.bar(oddsTable1.index, oddsTable1, color = 'green')\n",
    "ax1.set_xlabel('One Year Contract')\n",
    "ax1.set_ylabel('Odds')\n",
    "ax1.set_xticks(oddsTable1.index)\n",
    "ax1.set_title('Odd Ratio of One Year Contract')\n",
    "ax1.grid(axis = 'y', linestyle = '--', linewidth = 0.5)\n",
    "\n",
    "plt.show()"
   ]
  },
  {
   "cell_type": "markdown",
   "id": "46cab0bb",
   "metadata": {},
   "source": [
    "Users are not in one year contract is more likely to churn than those who are. "
   ]
  },
  {
   "cell_type": "markdown",
   "id": "0a0f1b60",
   "metadata": {},
   "source": [
    "### Two year contract"
   ]
  },
  {
   "cell_type": "code",
   "execution_count": 1094,
   "id": "f5cd5a72",
   "metadata": {},
   "outputs": [
    {
     "data": {
      "image/png": "[encoded data removed]",
      "text/plain": [
       "<Figure size 600x600 with 1 Axes>"
      ]
     },
     "metadata": {
      "needs_background": "light"
     },
     "output_type": "display_data"
    }
   ],
   "source": [
    "cntTable2 = pandas.crosstab(index = term_Contract['Two year'], columns = Telco.y,margins = False, dropna = True)\n",
    "cntTable2\n",
    "\n",
    "fig, (ax1) = plt.subplots(nrows = 1, ncols = 1, dpi = 100, figsize = \n",
    "(6,6))\n",
    "\n",
    "oddsTable2 = cntTable2[1] / cntTable2[0]\n",
    "ax1.bar(oddsTable2.index, oddsTable2, color = 'green')\n",
    "ax1.set_xlabel('One Year Contract')\n",
    "ax1.set_ylabel('Odds')\n",
    "ax1.set_xticks(oddsTable2.index)\n",
    "ax1.set_title('Odd Ratio of Two Year Contract')\n",
    "ax1.grid(axis = 'y', linestyle = '--', linewidth = 0.5)\n",
    "\n",
    "plt.show()"
   ]
  },
  {
   "cell_type": "markdown",
   "id": "1441fa34",
   "metadata": {},
   "source": [
    "Users are not in two year contract is much more likely to churn than those who are. In constract, users who signed two year contract are less likely to leave."
   ]
  },
  {
   "cell_type": "markdown",
   "id": "305886ec",
   "metadata": {},
   "source": [
    "### Month to Month Contract"
   ]
  },
  {
   "cell_type": "code",
   "execution_count": 1095,
   "id": "9f472cd4",
   "metadata": {},
   "outputs": [
    {
     "data": {
      "image/png": "[encoded data removed]",
      "text/plain": [
       "<Figure size 600x600 with 1 Axes>"
      ]
     },
     "metadata": {
      "needs_background": "light"
     },
     "output_type": "display_data"
    }
   ],
   "source": [
    "cntTable3 = pandas.crosstab(index = term_Contract['Month-to-month'], columns = Telco.y,margins = False, dropna = True)\n",
    "cntTable3\n",
    "\n",
    "fig, (ax1) = plt.subplots(nrows = 1, ncols = 1, dpi = 100, figsize = \n",
    "(6,6))\n",
    "\n",
    "oddsTable3 = cntTable3[1] / cntTable3[0]\n",
    "ax1.bar(oddsTable3.index, oddsTable3, color = 'green')\n",
    "ax1.set_xlabel('Month to Month Contract')\n",
    "ax1.set_ylabel('Odds')\n",
    "ax1.set_xticks(oddsTable3.index)\n",
    "ax1.set_title('Odd Ratio of Month to Month Contract')\n",
    "ax1.grid(axis = 'y', linestyle = '--', linewidth = 0.5)\n",
    "\n",
    "plt.show()"
   ]
  },
  {
   "cell_type": "markdown",
   "id": "91c4bb17",
   "metadata": {},
   "source": [
    "Unlike the previous subscription, users who are in monthly contract is much more likely to churn than those who are not."
   ]
  },
  {
   "cell_type": "markdown",
   "id": "ee3a1d0b",
   "metadata": {},
   "source": [
    "## PaperlessBilling"
   ]
  },
  {
   "cell_type": "code",
   "execution_count": 1096,
   "id": "b5aee221",
   "metadata": {},
   "outputs": [
    {
     "data": {
      "text/plain": [
       "'PaperlessBilling'"
      ]
     },
     "execution_count": 1096,
     "metadata": {},
     "output_type": "execute_result"
    }
   ],
   "source": [
    "pred = 'PaperlessBilling'\n",
    "pred"
   ]
  },
  {
   "cell_type": "code",
   "execution_count": 1097,
   "id": "550acb05",
   "metadata": {},
   "outputs": [
    {
     "data": {
      "text/plain": [
       "0       Yes\n",
       "1        No\n",
       "2       Yes\n",
       "3        No\n",
       "4       Yes\n",
       "       ... \n",
       "7038    Yes\n",
       "7039    Yes\n",
       "7040    Yes\n",
       "7041    Yes\n",
       "7042    Yes\n",
       "Name: PaperlessBilling, Length: 7043, dtype: category\n",
       "Categories (2, object): ['No', 'Yes']"
      ]
     },
     "execution_count": 1097,
     "metadata": {},
     "output_type": "execute_result"
    }
   ],
   "source": [
    "u = trainData[pred].astype('category').copy()\n",
    "u_freq = u.value_counts(ascending = True)\n",
    "trainData[pred] = u.cat.reorder_categories(list(u_freq.index)).copy()\n",
    "trainData[pred]"
   ]
  },
  {
   "cell_type": "code",
   "execution_count": 1098,
   "id": "6fba1d0e",
   "metadata": {},
   "outputs": [
    {
     "data": {
      "text/html": [
       "<div>\n",
       "<style scoped>\n",
       "    .dataframe tbody tr th:only-of-type {\n",
       "        vertical-align: middle;\n",
       "    }\n",
       "\n",
       "    .dataframe tbody tr th {\n",
       "        vertical-align: top;\n",
       "    }\n",
       "\n",
       "    .dataframe thead th {\n",
       "        text-align: right;\n",
       "    }\n",
       "</style>\n",
       "<table border=\"1\" class=\"dataframe\">\n",
       "  <thead>\n",
       "    <tr style=\"text-align: right;\">\n",
       "      <th>col_0</th>\n",
       "      <th>0</th>\n",
       "      <th>1</th>\n",
       "    </tr>\n",
       "    <tr>\n",
       "      <th>PaperlessBilling</th>\n",
       "      <th></th>\n",
       "      <th></th>\n",
       "    </tr>\n",
       "  </thead>\n",
       "  <tbody>\n",
       "    <tr>\n",
       "      <th>No</th>\n",
       "      <td>2403</td>\n",
       "      <td>469</td>\n",
       "    </tr>\n",
       "    <tr>\n",
       "      <th>Yes</th>\n",
       "      <td>2771</td>\n",
       "      <td>1400</td>\n",
       "    </tr>\n",
       "  </tbody>\n",
       "</table>\n",
       "</div>"
      ],
      "text/plain": [
       "col_0                0     1\n",
       "PaperlessBilling            \n",
       "No                2403   469\n",
       "Yes               2771  1400"
      ]
     },
     "execution_count": 1098,
     "metadata": {},
     "output_type": "execute_result"
    }
   ],
   "source": [
    "cntTable = pandas.crosstab(index = trainData[pred], columns = Telco.y,margins = False, dropna = True)\n",
    "cntTable"
   ]
  },
  {
   "cell_type": "code",
   "execution_count": 1099,
   "id": "2cd26f14",
   "metadata": {},
   "outputs": [
    {
     "data": {
      "image/png": "[encoded data removed]",
      "text/plain": [
       "<Figure size 600x600 with 1 Axes>"
      ]
     },
     "metadata": {
      "needs_background": "light"
     },
     "output_type": "display_data"
    }
   ],
   "source": [
    "fig, (ax1) = plt.subplots(nrows = 1, ncols = 1, dpi = 100, figsize = \n",
    "(6,6))\n",
    "\n",
    "oddsTable = cntTable[1] / cntTable[0]\n",
    "ax1.bar(oddsTable.index, oddsTable, color = 'green')\n",
    "ax1.set_xlabel(pred)\n",
    "ax1.set_ylabel('Odds')\n",
    "ax1.set_xticks(oddsTable.index)\n",
    "ax1.set_title('Odd Ratio of Paperless Billing')\n",
    "ax1.grid(axis = 'y', linestyle = '--', linewidth = 0.5)\n",
    "\n",
    "plt.show()"
   ]
  },
  {
   "cell_type": "markdown",
   "id": "0bd6a794",
   "metadata": {},
   "source": [
    "Paperlessbilling subscriber is more likely to churn than those who did not sign up for paperless biling."
   ]
  },
  {
   "cell_type": "markdown",
   "id": "367319f4",
   "metadata": {},
   "source": [
    "## Categorical Variable Summary:\n",
    "According to the observation, predictors like Gender, phone services do not vary much in the odd ratio. In other word, they might not have too much predicting power to target variable. In constrast, predictors like Senior citizen partner, dependents, and different contact type varies  lot between attributes. "
   ]
  },
  {
   "cell_type": "markdown",
   "id": "53776613",
   "metadata": {},
   "source": [
    "# Question 1 b)"
   ]
  },
  {
   "cell_type": "markdown",
   "id": "6ec98411",
   "metadata": {},
   "source": [
    "For each interval predictor, generate a grouped boxplot that shows the distribution of the interval predictor.  The grouping variable, in this case, is the target variable.  Also, please comment on each interval predictor on whether it may affect the target variable."
   ]
  },
  {
   "cell_type": "code",
   "execution_count": 1100,
   "id": "4062d7b1",
   "metadata": {},
   "outputs": [],
   "source": [
    "import seaborn as sns\n"
   ]
  },
  {
   "cell_type": "code",
   "execution_count": 1101,
   "id": "67015207",
   "metadata": {},
   "outputs": [],
   "source": [
    "trainData['TotalCharges'] = trainData['TotalCharges'].replace(r'^\\s+$', 0, regex=True)"
   ]
  },
  {
   "cell_type": "code",
   "execution_count": 1102,
   "id": "54ba058a",
   "metadata": {},
   "outputs": [],
   "source": [
    "trainData['TotalCharges'] = pd.to_numeric(trainData['TotalCharges'])"
   ]
  },
  {
   "cell_type": "code",
   "execution_count": 1103,
   "id": "227f4ec5",
   "metadata": {},
   "outputs": [],
   "source": [
    "trainData['TotalCharges'] = trainData['TotalCharges'].astype('int')"
   ]
  },
  {
   "cell_type": "code",
   "execution_count": 1104,
   "id": "d3f71a64",
   "metadata": {},
   "outputs": [
    {
     "name": "stdout",
     "output_type": "stream",
     "text": [
      "MonthlyCharges\n"
     ]
    },
    {
     "data": {
      "image/png": "[encoded data removed]",
      "text/plain": [
       "<Figure size 432x288 with 1 Axes>"
      ]
     },
     "metadata": {
      "needs_background": "light"
     },
     "output_type": "display_data"
    },
    {
     "name": "stdout",
     "output_type": "stream",
     "text": [
      "TotalCharges\n"
     ]
    },
    {
     "data": {
      "image/png": "[encoded data removed]",
      "text/plain": [
       "<Figure size 432x288 with 1 Axes>"
      ]
     },
     "metadata": {
      "needs_background": "light"
     },
     "output_type": "display_data"
    },
    {
     "name": "stdout",
     "output_type": "stream",
     "text": [
      "tenure\n"
     ]
    },
    {
     "data": {
      "image/png": "[encoded data removed]",
      "text/plain": [
       "<Figure size 432x288 with 1 Axes>"
      ]
     },
     "metadata": {
      "needs_background": "light"
     },
     "output_type": "display_data"
    }
   ],
   "source": [
    "for col in X_cont:\n",
    "    print(col)\n",
    "    sns.boxplot(data=trainData, x=col, y='Churn')\n",
    "    plt.title(col)\n",
    "    plt.tight_layout()\n",
    "    plt.show()"
   ]
  },
  {
   "cell_type": "markdown",
   "id": "2fe81265",
   "metadata": {},
   "source": [
    "Monthly charge varies between Churn yes and no. However, it is slightly higher in churn customer.\n",
    "Total charges is interesting to look at. Churn customer has lower medium however a lot of outliers. \n",
    "In Tenure, churn customer has lower medium but a few outliers. "
   ]
  },
  {
   "cell_type": "markdown",
   "id": "1decd032",
   "metadata": {},
   "source": [
    "# Question 2 a)"
   ]
  },
  {
   "cell_type": "markdown",
   "id": "64dac09e",
   "metadata": {},
   "source": [
    "Enter the predictors into your model using Forward Selection.  The Entry Threshold is 0.001."
   ]
  },
  {
   "cell_type": "markdown",
   "id": "d82cfa95",
   "metadata": {},
   "source": [
    "a)\tPlease provide a summary report of the Forward Selection. The report should include (1) the step number, (2) the predictor entered, (3) the number of non-aliased parameters in the current model, (4) the log-likelihood value of the current model, (5) the Deviance Chi-squares statistic between the current and the previous models, (6) the corresponding Deviance Degree of Freedom, and (7) the corresponding Chi-square significance."
   ]
  },
  {
   "cell_type": "code",
   "execution_count": 1105,
   "id": "27d3f405",
   "metadata": {},
   "outputs": [
    {
     "name": "stderr",
     "output_type": "stream",
     "text": [
      "<ipython-input-1105-9e706edd65e3>:1: UserWarning: Pandas doesn't allow columns to be created via a new attribute name - see https://pandas.pydata.org/pandas-docs/stable/indexing.html#attribute-access\n",
      "  trainData.y = trainData.iloc[:,0]\n"
     ]
    }
   ],
   "source": [
    "trainData.y = trainData.iloc[:,0]"
   ]
  },
  {
   "cell_type": "code",
   "execution_count": 1106,
   "id": "cb7e6d20",
   "metadata": {},
   "outputs": [],
   "source": [
    "trainData.y = pd.Series(np.where(trainData.y.values == 'Yes', 1, 0),\n",
    "          trainData.y.index)"
   ]
  },
  {
   "cell_type": "code",
   "execution_count": 1107,
   "id": "99250f65",
   "metadata": {},
   "outputs": [],
   "source": [
    "for pred in X_cat:\n",
    "    u = trainData[pred].astype('category').copy()\n",
    "    u_freq = u.value_counts(ascending = True)\n",
    "    trainData[pred] = u.cat.reorder_categories(list(u_freq.index)).copy()"
   ]
  },
  {
   "cell_type": "code",
   "execution_count": 1108,
   "id": "6afd0b96",
   "metadata": {},
   "outputs": [],
   "source": [
    "# Generate a column of Intercept\n",
    "X0_train = trainData[['Churn']].copy()\n",
    "X0_train.insert(0, 'Intercept', 1.0)\n",
    "X0_train.drop(columns = ['Churn'], inplace = True)\n",
    "y_train = trainData.y.copy()"
   ]
  },
  {
   "cell_type": "code",
   "execution_count": 1109,
   "id": "39568e14",
   "metadata": {},
   "outputs": [],
   "source": [
    "maxIter = 20\n",
    "tolS = 1e-7\n",
    "stepSummary = pandas.DataFrame()"
   ]
  },
  {
   "cell_type": "code",
   "execution_count": 1110,
   "id": "d7dcb406",
   "metadata": {},
   "outputs": [],
   "source": [
    "# Intercept only model\n",
    "resultList_intercept = Regression.BLogisticModel (X0_train, y_train, offset = None, maxIter =\n",
    "maxIter, tolSweep = tolS)\n",
    "llk0 = resultList_intercept[3]\n",
    "df0 = len(resultList_intercept[4])\n",
    "stepSummary = stepSummary.append([['Intercept', ' ', df0, llk0, numpy.NaN, \n",
    "numpy.NaN, numpy.NaN]], ignore_index = True)\n",
    "stepSummary.columns = ['Predictor', 'Type', 'ModelDF', 'ModelLLK', 'DevChiSq', \n",
    "'DevDF', 'DevSig']"
   ]
  },
  {
   "cell_type": "code",
   "execution_count": 1111,
   "id": "cf09ba90",
   "metadata": {},
   "outputs": [
    {
     "data": {
      "text/plain": [
       "-4075.072949509806"
      ]
     },
     "execution_count": 1111,
     "metadata": {},
     "output_type": "execute_result"
    }
   ],
   "source": [
    "resultList_intercept[3]"
   ]
  },
  {
   "cell_type": "code",
   "execution_count": 1112,
   "id": "90dbb4dd",
   "metadata": {},
   "outputs": [
    {
     "name": "stdout",
     "output_type": "stream",
     "text": [
      "======= Step Detail =======\n",
      "Step =  0\n",
      "Step Statistics:\n",
      "   Predictor Type  ModelDF   ModelLLK  DevChiSq  DevDF  DevSig\n",
      "0  Intercept             1 -4.075e+03       NaN    NaN     NaN\n"
     ]
    }
   ],
   "source": [
    "print('======= Step Detail =======')\n",
    "print('Step = ', 0)\n",
    "print('Step Statistics:')\n",
    "print(stepSummary)"
   ]
  },
  {
   "cell_type": "code",
   "execution_count": 1113,
   "id": "958471e5",
   "metadata": {},
   "outputs": [],
   "source": [
    "cName = X_cat.copy()\n",
    "iName = X_cont.copy()\n",
    "entryThreshold = 0.001"
   ]
  },
  {
   "cell_type": "code",
   "execution_count": 1114,
   "id": "0b169855",
   "metadata": {},
   "outputs": [],
   "source": [
    "nPredictor = len(X_cat) + len(X_cont)"
   ]
  },
  {
   "cell_type": "code",
   "execution_count": 1115,
   "id": "f39c66d7",
   "metadata": {},
   "outputs": [],
   "source": [
    "for step in range(nPredictor):\n",
    "    enterName = ''\n",
    "    stepDetail = pandas.DataFrame()\n",
    "    # Enter the next predictor\n",
    "    for X_name in cName:\n",
    "        X_train = pandas.get_dummies(trainData[[X_name]])\n",
    "        X_train = X0_train.join(X_train)\n",
    "        resultList = Regression.BLogisticModel (X_train, y_train, offset = None, \n",
    "maxIter = maxIter, tolSweep = tolS)\n",
    "        llk1 = resultList[3]\n",
    "        df1 = len(resultList[4])\n",
    "        devChiSq = 2.0 * (llk1 - llk0)\n",
    "        devDF = df1 - df0\n",
    "        devSig = chi2.sf(devChiSq, devDF)\n",
    "        stepDetail = stepDetail.append([[X_name, 'categorical', df1, llk1, \n",
    "devChiSq, devDF, devSig]], ignore_index = True)\n",
    "    for X_name in iName:\n",
    "        X_train = trainData[[X_name]]\n",
    "        X_train = X0_train.join(X_train)\n",
    "        resultList = Regression.BLogisticModel (X_train, y_train, offset = None, \n",
    "maxIter = maxIter, tolSweep = tolS)\n",
    "        llk1 = resultList[3]\n",
    "        df1 = len(resultList[4])\n",
    "        devChiSq = 2.0 * (llk1 - llk0)\n",
    "        devDF = df1 - df0\n",
    "        devSig = chi2.sf(devChiSq, devDF)\n",
    "        stepDetail = stepDetail.append([[X_name, 'interval', df1, llk1, devChiSq, \n",
    "devDF, devSig]], ignore_index = True)\n",
    "    stepDetail.columns = ['Predictor', 'Type', 'ModelDF', 'ModelLLK', 'DevChiSq', \n",
    "'DevDF', 'DevSig']\n",
    "    # Find a predictor to enter, if any\n",
    "    stepDetail.sort_values(by = 'DevSig', axis = 0, ascending = True, inplace = \n",
    "True)\n",
    "    enterRow = stepDetail.iloc[0].copy()\n",
    "    minPValue = enterRow['DevSig']\n",
    "    if (minPValue <= entryThreshold):\n",
    "        stepSummary = stepSummary.append([enterRow], ignore_index = True)\n",
    "        df0 = enterRow['ModelDF']\n",
    "        llk0 = enterRow['ModelLLK']\n",
    "        enterName = enterRow['Predictor']\n",
    "        enterType = enterRow['Type']\n",
    "        if (enterType == 'categorical'):\n",
    "            X_train = pandas.get_dummies(trainData[[enterName]].astype('category'))\n",
    "            X0_train = X0_train.join(X_train)\n",
    "            cName.remove(enterName)\n",
    "        elif (enterType == 'interval'):\n",
    "            X_train = trainData[[enterName]]\n",
    "            X0_train = X0_train.join(X_train)\n",
    "            iName.remove(enterName)\n",
    "    else:\n",
    "        break"
   ]
  },
  {
   "cell_type": "code",
   "execution_count": 1119,
   "id": "cd17b1b6",
   "metadata": {},
   "outputs": [
    {
     "name": "stdout",
     "output_type": "stream",
     "text": [
      "======= Step Detail =======\n",
      "Step =  8\n",
      "Step Statistics:\n",
      "       Predictor         Type  ModelDF   ModelLLK  DevChiSq  DevDF   DevSig\n",
      "3  MultipleLines  categorical       10 -2.999e+03     7.745      1 0.005387\n",
      "2     Dependents  categorical       10 -2.999e+03     6.818      1 0.009024\n",
      "1        Partner  categorical       10 -3.002e+03    0.7764      1   0.3783\n",
      "0         gender  categorical       10 -3.002e+03   0.02045      1   0.8863\n",
      "Enter predictor =  \n",
      "Minimum P-Value = 0.005387031160130798\n",
      "\n",
      "\n"
     ]
    }
   ],
   "source": [
    "# Print debugging output\n",
    "print('======= Step Detail =======')\n",
    "print('Step = ', step+1)\n",
    "print('Step Statistics:')\n",
    "print(stepDetail)\n",
    "print('Enter predictor = ', enterName)\n",
    "print('Minimum P-Value =', minPValue)\n",
    "print('\\n')"
   ]
  },
  {
   "cell_type": "code",
   "execution_count": 1120,
   "id": "cfcb4ea6",
   "metadata": {},
   "outputs": [
    {
     "name": "stdout",
     "output_type": "stream",
     "text": [
      "======= Step Summary =======\n",
      "          Predictor         Type  ModelDF   ModelLLK  DevChiSq  DevDF     DevSig\n",
      "0         Intercept                     1 -4.075e+03       NaN    NaN        NaN\n",
      "1          Contract  categorical        3 -3.382e+03 1.387e+03    2.0 7.213e-302\n",
      "2    MonthlyCharges     interval        4 -3.242e+03     279.3    1.0  1.069e-62\n",
      "3            tenure     interval        5 -3.073e+03     338.2    1.0  1.603e-75\n",
      "4      PhoneService  categorical        6 -3.042e+03     62.36    1.0  2.855e-15\n",
      "5  PaperlessBilling  categorical        7 -3.022e+03     39.53    1.0  3.238e-10\n",
      "6     SeniorCitizen  categorical        8  -3.01e+03     23.94    1.0  9.926e-07\n",
      "7      TotalCharges     interval        9 -3.002e+03      15.2    1.0  9.664e-05\n"
     ]
    }
   ],
   "source": [
    "# End of forward selection\n",
    "print('======= Step Summary =======')\n",
    "print(stepSummary)"
   ]
  },
  {
   "cell_type": "markdown",
   "id": "ec5e770c",
   "metadata": {},
   "source": [
    "# Question 2 b)"
   ]
  },
  {
   "cell_type": "markdown",
   "id": "b2a2b558",
   "metadata": {},
   "source": [
    "Please show a table of the complete set of parameters of your final model (including the aliased parameters).  Besides the parameter estimates, please also include the standard errors, and the 95% asymptotic confidence intervals.  Conventionally, aliased parameters have missing standard errors and confidence intervals.)."
   ]
  },
  {
   "cell_type": "code",
   "execution_count": 1121,
   "id": "13577a2b",
   "metadata": {},
   "outputs": [],
   "source": [
    "# Final model\n",
    "resultList = Regression.BLogisticModel (X0_train, y_train, offset = None, maxIter =\n",
    "maxIter, tolSweep = tolS)"
   ]
  },
  {
   "cell_type": "code",
   "execution_count": 1122,
   "id": "3ac591a9",
   "metadata": {},
   "outputs": [
    {
     "data": {
      "text/html": [
       "<div>\n",
       "<style scoped>\n",
       "    .dataframe tbody tr th:only-of-type {\n",
       "        vertical-align: middle;\n",
       "    }\n",
       "\n",
       "    .dataframe tbody tr th {\n",
       "        vertical-align: top;\n",
       "    }\n",
       "\n",
       "    .dataframe thead th {\n",
       "        text-align: right;\n",
       "    }\n",
       "</style>\n",
       "<table border=\"1\" class=\"dataframe\">\n",
       "  <thead>\n",
       "    <tr style=\"text-align: right;\">\n",
       "      <th></th>\n",
       "      <th>Estimate</th>\n",
       "      <th>Standard Error</th>\n",
       "      <th>Lower 95% CI</th>\n",
       "      <th>Upper 95% CI</th>\n",
       "    </tr>\n",
       "  </thead>\n",
       "  <tbody>\n",
       "    <tr>\n",
       "      <th>Intercept</th>\n",
       "      <td>-1.33</td>\n",
       "      <td>0.1408</td>\n",
       "      <td>-1.606</td>\n",
       "      <td>-1.054</td>\n",
       "    </tr>\n",
       "    <tr>\n",
       "      <th>Contract_One year</th>\n",
       "      <td>-0.9563</td>\n",
       "      <td>0.1029</td>\n",
       "      <td>-1.158</td>\n",
       "      <td>-0.7547</td>\n",
       "    </tr>\n",
       "    <tr>\n",
       "      <th>Contract_Two year</th>\n",
       "      <td>-1.901</td>\n",
       "      <td>0.1702</td>\n",
       "      <td>-2.234</td>\n",
       "      <td>-1.567</td>\n",
       "    </tr>\n",
       "    <tr>\n",
       "      <th>Contract_Month-to-month</th>\n",
       "      <td>0.0</td>\n",
       "      <td>0.0</td>\n",
       "      <td>0.0</td>\n",
       "      <td>0.0</td>\n",
       "    </tr>\n",
       "    <tr>\n",
       "      <th>MonthlyCharges</th>\n",
       "      <td>0.0252</td>\n",
       "      <td>0.001939</td>\n",
       "      <td>0.0214</td>\n",
       "      <td>0.029</td>\n",
       "    </tr>\n",
       "    <tr>\n",
       "      <th>tenure</th>\n",
       "      <td>-0.06052</td>\n",
       "      <td>0.006038</td>\n",
       "      <td>-0.07235</td>\n",
       "      <td>-0.04869</td>\n",
       "    </tr>\n",
       "    <tr>\n",
       "      <th>PhoneService_No</th>\n",
       "      <td>0.8946</td>\n",
       "      <td>0.1203</td>\n",
       "      <td>0.6589</td>\n",
       "      <td>1.13</td>\n",
       "    </tr>\n",
       "    <tr>\n",
       "      <th>PhoneService_Yes</th>\n",
       "      <td>0.0</td>\n",
       "      <td>0.0</td>\n",
       "      <td>0.0</td>\n",
       "      <td>0.0</td>\n",
       "    </tr>\n",
       "    <tr>\n",
       "      <th>PaperlessBilling_No</th>\n",
       "      <td>-0.4379</td>\n",
       "      <td>0.07237</td>\n",
       "      <td>-0.5798</td>\n",
       "      <td>-0.2961</td>\n",
       "    </tr>\n",
       "    <tr>\n",
       "      <th>PaperlessBilling_Yes</th>\n",
       "      <td>0.0</td>\n",
       "      <td>0.0</td>\n",
       "      <td>0.0</td>\n",
       "      <td>0.0</td>\n",
       "    </tr>\n",
       "    <tr>\n",
       "      <th>SeniorCitizen_1</th>\n",
       "      <td>0.3932</td>\n",
       "      <td>0.08051</td>\n",
       "      <td>0.2354</td>\n",
       "      <td>0.551</td>\n",
       "    </tr>\n",
       "    <tr>\n",
       "      <th>SeniorCitizen_0</th>\n",
       "      <td>0.0</td>\n",
       "      <td>0.0</td>\n",
       "      <td>0.0</td>\n",
       "      <td>0.0</td>\n",
       "    </tr>\n",
       "    <tr>\n",
       "      <th>TotalCharges</th>\n",
       "      <td>0.0002606</td>\n",
       "      <td>6.772e-05</td>\n",
       "      <td>0.0001279</td>\n",
       "      <td>0.0003933</td>\n",
       "    </tr>\n",
       "  </tbody>\n",
       "</table>\n",
       "</div>"
      ],
      "text/plain": [
       "                         Estimate  Standard Error  Lower 95% CI  Upper 95% CI\n",
       "Intercept                   -1.33          0.1408        -1.606        -1.054\n",
       "Contract_One year         -0.9563          0.1029        -1.158       -0.7547\n",
       "Contract_Two year          -1.901          0.1702        -2.234        -1.567\n",
       "Contract_Month-to-month       0.0             0.0           0.0           0.0\n",
       "MonthlyCharges             0.0252        0.001939        0.0214         0.029\n",
       "tenure                   -0.06052        0.006038      -0.07235      -0.04869\n",
       "PhoneService_No            0.8946          0.1203        0.6589          1.13\n",
       "PhoneService_Yes              0.0             0.0           0.0           0.0\n",
       "PaperlessBilling_No       -0.4379         0.07237       -0.5798       -0.2961\n",
       "PaperlessBilling_Yes          0.0             0.0           0.0           0.0\n",
       "SeniorCitizen_1            0.3932         0.08051        0.2354         0.551\n",
       "SeniorCitizen_0               0.0             0.0           0.0           0.0\n",
       "TotalCharges            0.0002606       6.772e-05     0.0001279     0.0003933"
      ]
     },
     "execution_count": 1122,
     "metadata": {},
     "output_type": "execute_result"
    }
   ],
   "source": [
    "resultList[0]"
   ]
  },
  {
   "cell_type": "markdown",
   "id": "8b0ae76c",
   "metadata": {},
   "source": [
    "aliased parameters: Contract_Month to month, Multipleline_Yes,  ParperlessBilling_Yes, and SeniorCitizen_No"
   ]
  },
  {
   "cell_type": "markdown",
   "id": "e5a9064d",
   "metadata": {},
   "source": [
    "# Question 3"
   ]
  },
  {
   "cell_type": "markdown",
   "id": "3dd58303",
   "metadata": {},
   "source": [
    "## a. Please calculate the McFadden’s R-squared, the Cox-Snell’s R-squared, the Nagelkerke’s R-squared, and the Tjur’s Coefficient of Discrimination."
   ]
  },
  {
   "cell_type": "code",
   "execution_count": 1123,
   "id": "23cd62f5",
   "metadata": {},
   "outputs": [],
   "source": [
    "ModelLLK0 = resultList_intercept[3]\n",
    "ModelLLK07 = llk1"
   ]
  },
  {
   "cell_type": "code",
   "execution_count": 702,
   "id": "c0e76144",
   "metadata": {},
   "outputs": [
    {
     "data": {
      "text/plain": [
       "0.2641727638936914"
      ]
     },
     "execution_count": 702,
     "metadata": {},
     "output_type": "execute_result"
    }
   ],
   "source": [
    "R_MF = 1.0 - (ModelLLK07 /ModelLLK0 )\n",
    "n_sample = trainData.shape[0]\n",
    "R_CS = numpy.exp(ModelLLK0 - ModelLLK07 )\n",
    "R_CS = 1.0 - numpy.power(R_CS, (2.0 / n_sample))\n",
    "upbound = 1.0 - numpy.power(numpy.exp(resultList_intercept[3]), (2.0 / n_sample))\n",
    "R_N = R_CS / upbound\n",
    "predprob_event = resultList[6][1]\n",
    "S1 = numpy.mean(predprob_event[trainData.y==1])\n",
    "S0 = numpy.mean(predprob_event[trainData.y==0])\n",
    "R_TJ= S1 - S0\n"
   ]
  },
  {
   "cell_type": "code",
   "execution_count": 1126,
   "id": "a2187e2b",
   "metadata": {},
   "outputs": [
    {
     "name": "stdout",
     "output_type": "stream",
     "text": [
      "R_MF =  0.2641727638936914 \n",
      " R_CS =  1.0 \n",
      " R_N =  1.0 \n",
      " R_TJ= 0.28210455199673856\n"
     ]
    }
   ],
   "source": [
    "print ( \"R_MF = \",R_MF, \"\\n\", \"R_CS = \",R_CS,\"\\n\", \"R_N = \",R_N, \"\\n\", \"R_TJ=\",R_TJ)"
   ]
  },
  {
   "cell_type": "markdown",
   "id": "f52aa4d4",
   "metadata": {},
   "source": [
    "## Please calculate the Area Under Curve statistic and the Root Average Squared Error."
   ]
  },
  {
   "cell_type": "code",
   "execution_count": 749,
   "id": "39e64e8b",
   "metadata": {
    "code_folding": []
   },
   "outputs": [],
   "source": [
    "def binary_model_metric (target, valueEvent, valueNonEvent, predProbEvent, \n",
    "eventProbThreshold = 0.5):\n",
    "   '''Calculate metrics for a binary classification model\n",
    "   Parameter\n",
    "   ---------\n",
    "   target: Panda Series that contains values of target variable\n",
    "   valueEvent: Formatted value of target variable that indicates an event\n",
    "   valueNonEvent: Formatted value of target variable that indicates a non-event\n",
    "   predProbEvent: Panda Series that contains predicted probability that the event \n",
    "will occur\n",
    "   eventProbThreshold: Threshold for event probability to indicate a success\n",
    "   Return\n",
    "   ------\n",
    "   outSeries: Pandas Series that contain the following statistics\n",
    "              ASE: Average Squared Error\n",
    "              RASE: Root Average Squared Error\n",
    "              MCE: Misclassification Rate\n",
    "              AUC: Area Under Curve\n",
    "   '''\n",
    "   # Number of observations\n",
    "   nObs = len(target)\n",
    "   # Aggregate observations by the target values and the predicted probabilities\n",
    "   aggrProb = pandas.crosstab(predProbEvent, target, dropna = True)\n",
    "   # Calculate the root average square error\n",
    "   ase = (numpy.sum(aggrProb[valueEvent] * (1.0 - aggrProb.index)**2) +\n",
    "          numpy.sum(aggrProb[valueNonEvent] * (0.0 - aggrProb.index)**2)) / nObs\n",
    "   if (ase > 0.0):\n",
    "      rase = numpy.sqrt(ase)\n",
    "   else:\n",
    "      rase = 0.0\n",
    "   # Calculate the misclassification error rate\n",
    "   nFP = numpy.sum(aggrProb[valueEvent].iloc[aggrProb.index < eventProbThreshold])\n",
    "   nFN = numpy.sum(aggrProb[valueNonEvent].iloc[aggrProb.index >= eventProbThreshold])\n",
    "   mce = (nFP + nFN) / nObs\n",
    "   # Calculate the number of concordant, discordant, and tied pairs\n",
    "   nConcordant = 0.0\n",
    "   nDiscordant = 0.0\n",
    "   nTied = 0.0\n",
    "   # Loop over the predicted event probabilities from the Event column\n",
    "   predEP = aggrProb.index\n",
    "   eventFreq = aggrProb[valueEvent]\n",
    "   for i in range(len(predEP)):\n",
    "      eProb = predEP[i]\n",
    "      eFreq = eventFreq.loc[eProb]\n",
    "      if (eFreq > 0.0):\n",
    "         nConcordant = nConcordant + numpy.sum(eFreq * \n",
    "aggrProb[valueNonEvent].iloc[eProb > aggrProb.index])\n",
    "         nDiscordant = nDiscordant + numpy.sum(eFreq * \n",
    "aggrProb[valueNonEvent].iloc[eProb < aggrProb.index])\n",
    "         nTied = nTied + numpy.sum(eFreq * aggrProb[valueNonEvent].iloc[eProb == \n",
    "aggrProb.index])\n",
    "   auc = 0.5 + 0.5 * (nConcordant - nDiscordant) / (nConcordant + nDiscordant + \n",
    "nTied)\n",
    "   outSeries = pandas.Series({'ASE': ase, 'RASE': rase, 'MCE': mce, 'AUC': auc})\n",
    "   return(outSeries)"
   ]
  },
  {
   "cell_type": "code",
   "execution_count": 942,
   "id": "69c36d15",
   "metadata": {},
   "outputs": [
    {
     "name": "stdout",
     "output_type": "stream",
     "text": [
      "ASE    0.1391\n",
      "RASE   0.3729\n",
      "MCE    0.2015\n",
      "AUC    0.8378\n",
      "dtype: float64\n"
     ]
    }
   ],
   "source": [
    "outSeries = binary_model_metric (trainData.y, 1, 0, predprob_event, eventProbThreshold = 0.5)\n",
    "print(round(outSeries,4))"
   ]
  },
  {
   "cell_type": "markdown",
   "id": "8cc312f2",
   "metadata": {},
   "source": [
    "## According to the F1 Score, please suggest the probability threshold for Churn.  Using this threshold, what is the misclassification rate?"
   ]
  },
  {
   "cell_type": "code",
   "execution_count": 1050,
   "id": "23723323",
   "metadata": {},
   "outputs": [
    {
     "data": {
      "text/plain": [
       "0.2653698707936959"
      ]
     },
     "execution_count": 1050,
     "metadata": {},
     "output_type": "execute_result"
    }
   ],
   "source": [
    "NoskillLine = numpy.sum(trainData.y)/nObs\n",
    "NoskillLine"
   ]
  },
  {
   "cell_type": "code",
   "execution_count": 905,
   "id": "a62e992a",
   "metadata": {},
   "outputs": [],
   "source": [
    "thredhold = [0.2,0.3,0.4,0.5,0.6,0.7,0.8,0.9,1]"
   ]
  },
  {
   "cell_type": "code",
   "execution_count": 1034,
   "id": "ab409af2",
   "metadata": {
    "code_folding": []
   },
   "outputs": [
    {
     "name": "stdout",
     "output_type": "stream",
     "text": [
      "0.2 precision   0.8796\n",
      "recall      0.4579\n",
      "F1score     0.6023\n",
      "dtype: float64\n",
      "0.3 precision   0.7747\n",
      "recall      0.5142\n",
      "F1score     0.6181\n",
      "dtype: float64\n",
      "0.4 precision   0.6715\n",
      "recall      0.5692\n",
      "F1score     0.6161\n",
      "dtype: float64\n",
      "0.5 precision   0.5233\n",
      "recall      0.6494\n",
      "F1score     0.5796\n",
      "dtype: float64\n",
      "0.6 precision    0.321\n",
      "recall      0.7282\n",
      "F1score     0.4456\n",
      "dtype: float64\n",
      "0.7 precision    0.114\n",
      "recall      0.8161\n",
      "F1score        0.2\n",
      "dtype: float64\n",
      "0.8 precision   0.01124\n",
      "recall        0.875\n",
      "F1score     0.02219\n",
      "dtype: float64\n",
      "0.9 precision   0.0\n",
      "recall      NaN\n",
      "F1score     NaN\n",
      "dtype: float64\n",
      "1 precision   0.0\n",
      "recall      NaN\n",
      "F1score     NaN\n",
      "dtype: float64\n"
     ]
    }
   ],
   "source": [
    "for i in thredhold:    \n",
    "    nFP = numpy.sum((aggrProb[1]).iloc[aggrProb.index < i])\n",
    "    nFN = numpy.sum((aggrProb[0]).iloc[aggrProb.index >= i])\n",
    "    nTP = numpy.sum((aggrProb).iloc[aggrProb.index >= i])\n",
    "    nTN = numpy.sum((aggrProb).iloc[aggrProb.index < i])\n",
    "    precision= nTP/(nFP+nTP)\n",
    "    recall = nTP/(nFN + nTP)\n",
    "    F1score= 1 / ((1 / precision + 1 / recall) / 2)\n",
    "    output = pandas.Series({'precision': precision[1], 'recall': recall[1], 'F1score': F1score[1]})\n",
    "    print(i,output)"
   ]
  },
  {
   "cell_type": "code",
   "execution_count": 1032,
   "id": "9af8ca4b",
   "metadata": {},
   "outputs": [],
   "source": [
    "thredhold = [0.2,0.3,0.4,0.5,0.6,0.7,0.8,0.9,1]\n",
    "F1score = [0.60,0.618,0.616,0.58,0.44,0.2,0.02,0,0]\n",
    "F1_th = {'thredhold':thredhold,'F1score':F1score}"
   ]
  },
  {
   "cell_type": "code",
   "execution_count": 1033,
   "id": "87068988",
   "metadata": {},
   "outputs": [
    {
     "data": {
      "text/plain": [
       "<AxesSubplot:xlabel='thredhold', ylabel='F1score'>"
      ]
     },
     "execution_count": 1033,
     "metadata": {},
     "output_type": "execute_result"
    },
    {
     "data": {
      "image/png": "[encoded data removed]",
      "text/plain": [
       "<Figure size 432x288 with 1 Axes>"
      ]
     },
     "metadata": {
      "needs_background": "light"
     },
     "output_type": "display_data"
    }
   ],
   "source": [
    "sns.lineplot(data = F1_th,x='thredhold',y='F1score') "
   ]
  },
  {
   "cell_type": "code",
   "execution_count": 1052,
   "id": "a277f9b9",
   "metadata": {},
   "outputs": [
    {
     "name": "stdout",
     "output_type": "stream",
     "text": [
      "Misclassification Rate at 0.4:  0.22206446116711628\n"
     ]
    }
   ],
   "source": [
    "nFP = numpy.sum(aggrProb[1].iloc[aggrProb.index < 0.4])\n",
    "nFN = numpy.sum(aggrProb[0].iloc[aggrProb.index >= 0.4])\n",
    "nObs = len(trainData.y)\n",
    "mce = (nFP + nFN) / nObs\n",
    "print (\"Misclassification Rate at 0.4: \",mce)"
   ]
  },
  {
   "cell_type": "markdown",
   "id": "1b21888c",
   "metadata": {},
   "source": [
    "### Finding: \n",
    "The F1 Score attains its maximum when the threshold is 0.4.\n",
    "With this threshold, the Sensitivity is 0.57\n",
    "and the 1 – Specificity is 0.40.\n",
    "The False Positive Rate is 40% and the\n",
    "True Positive Rate is 57%.\n",
    "With this threshold, the Misclassification Rate is 3/11 = 0.22\n",
    "\n",
    "This model is good before p = 0.7 when points are above the No-Skill Line."
   ]
  },
  {
   "cell_type": "code",
   "execution_count": null,
   "id": "7404a065",
   "metadata": {},
   "outputs": [],
   "source": []
  }
 ],
 "metadata": {
  "kernelspec": {
   "display_name": "Python 3",
   "language": "python",
   "name": "python3"
  },
  "language_info": {
   "codemirror_mode": {
    "name": "ipython",
    "version": 3
   },
   "file_extension": ".py",
   "mimetype": "text/x-python",
   "name": "python",
   "nbconvert_exporter": "python",
   "pygments_lexer": "ipython3",
   "version": "3.8.8"
  },
  "toc": {
   "base_numbering": 1,
   "nav_menu": {},
   "number_sections": true,
   "sideBar": true,
   "skip_h1_title": false,
   "title_cell": "Table of Contents",
   "title_sidebar": "Contents",
   "toc_cell": false,
   "toc_position": {
    "height": "calc(100% - 180px)",
    "left": "10px",
    "top": "150px",
    "width": "384px"
   },
   "toc_section_display": true,
   "toc_window_display": true
  }
 },
 "nbformat": 4,
 "nbformat_minor": 5
}
