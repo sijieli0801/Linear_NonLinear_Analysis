{
 "cells": [
  {
   "cell_type": "markdown",
   "id": "bb8e16d4",
   "metadata": {
    "heading_collapsed": true
   },
   "source": [
    "# MSCA31010\n",
    "## Sijie Li\n",
    "## Assignment 2"
   ]
  },
  {
   "cell_type": "markdown",
   "id": "f52295a8",
   "metadata": {},
   "source": [
    "# Import pacakages"
   ]
  },
  {
   "cell_type": "code",
   "execution_count": 2,
   "id": "545b5252",
   "metadata": {},
   "outputs": [],
   "source": [
    "\n",
    "import matplotlib.pyplot as plt\n",
    "import numpy\n",
    "import pandas\n",
    "import sys\n",
    "\n",
    "from scipy.special import loggamma\n",
    "from scipy.stats import norm\n",
    "\n",
    "sys.path.append(r'C:\\Users\\Sijie Li\\OneDrive - The University of Chicago\\Documents\\MSCA\\Winter2021\\MSCA31010 Linear')\n",
    "import Regression\n",
    "\n",
    "from scipy.stats import chi2"
   ]
  },
  {
   "cell_type": "markdown",
   "id": "290fa693",
   "metadata": {},
   "source": [
    "# Import data and format data"
   ]
  },
  {
   "cell_type": "code",
   "execution_count": 3,
   "id": "9822589f",
   "metadata": {},
   "outputs": [
    {
     "data": {
      "text/html": [
       "<div>\n",
       "<style scoped>\n",
       "    .dataframe tbody tr th:only-of-type {\n",
       "        vertical-align: middle;\n",
       "    }\n",
       "\n",
       "    .dataframe tbody tr th {\n",
       "        vertical-align: top;\n",
       "    }\n",
       "\n",
       "    .dataframe thead th {\n",
       "        text-align: right;\n",
       "    }\n",
       "</style>\n",
       "<table border=\"1\" class=\"dataframe\">\n",
       "  <thead>\n",
       "    <tr style=\"text-align: right;\">\n",
       "      <th></th>\n",
       "      <th>index</th>\n",
       "      <th>CLM_COUNT</th>\n",
       "      <th>EXPOSURE</th>\n",
       "      <th>HOMEKIDS</th>\n",
       "      <th>KIDSDRIV</th>\n",
       "      <th>CAR_TYPE</th>\n",
       "      <th>MSTATUS</th>\n",
       "      <th>REVOKED</th>\n",
       "      <th>URBANICITY</th>\n",
       "      <th>MVR_PTS</th>\n",
       "      <th>TIF</th>\n",
       "      <th>TRAVTIME</th>\n",
       "      <th>CAR_AGE</th>\n",
       "    </tr>\n",
       "  </thead>\n",
       "  <tbody>\n",
       "    <tr>\n",
       "      <th>0</th>\n",
       "      <td>0</td>\n",
       "      <td>0</td>\n",
       "      <td>0.189</td>\n",
       "      <td>0</td>\n",
       "      <td>0</td>\n",
       "      <td>Minivan</td>\n",
       "      <td>No</td>\n",
       "      <td>No</td>\n",
       "      <td>Highly Urban/ Urban</td>\n",
       "      <td>3</td>\n",
       "      <td>11</td>\n",
       "      <td>14</td>\n",
       "      <td>18.0</td>\n",
       "    </tr>\n",
       "    <tr>\n",
       "      <th>1</th>\n",
       "      <td>1</td>\n",
       "      <td>0</td>\n",
       "      <td>1.000</td>\n",
       "      <td>0</td>\n",
       "      <td>0</td>\n",
       "      <td>Minivan</td>\n",
       "      <td>No</td>\n",
       "      <td>No</td>\n",
       "      <td>Highly Urban/ Urban</td>\n",
       "      <td>0</td>\n",
       "      <td>1</td>\n",
       "      <td>22</td>\n",
       "      <td>1.0</td>\n",
       "    </tr>\n",
       "    <tr>\n",
       "      <th>2</th>\n",
       "      <td>2</td>\n",
       "      <td>0</td>\n",
       "      <td>1.000</td>\n",
       "      <td>0</td>\n",
       "      <td>0</td>\n",
       "      <td>Van</td>\n",
       "      <td>No</td>\n",
       "      <td>No</td>\n",
       "      <td>Highly Urban/ Urban</td>\n",
       "      <td>2</td>\n",
       "      <td>1</td>\n",
       "      <td>26</td>\n",
       "      <td>10.0</td>\n",
       "    </tr>\n",
       "    <tr>\n",
       "      <th>3</th>\n",
       "      <td>3</td>\n",
       "      <td>0</td>\n",
       "      <td>0.828</td>\n",
       "      <td>1</td>\n",
       "      <td>0</td>\n",
       "      <td>SUV</td>\n",
       "      <td>Yes</td>\n",
       "      <td>No</td>\n",
       "      <td>Highly Urban/ Urban</td>\n",
       "      <td>3</td>\n",
       "      <td>4</td>\n",
       "      <td>5</td>\n",
       "      <td>10.0</td>\n",
       "    </tr>\n",
       "    <tr>\n",
       "      <th>4</th>\n",
       "      <td>4</td>\n",
       "      <td>0</td>\n",
       "      <td>0.729</td>\n",
       "      <td>0</td>\n",
       "      <td>0</td>\n",
       "      <td>Minivan</td>\n",
       "      <td>Yes</td>\n",
       "      <td>No</td>\n",
       "      <td>Highly Urban/ Urban</td>\n",
       "      <td>0</td>\n",
       "      <td>7</td>\n",
       "      <td>32</td>\n",
       "      <td>6.0</td>\n",
       "    </tr>\n",
       "  </tbody>\n",
       "</table>\n",
       "</div>"
      ],
      "text/plain": [
       "   index  CLM_COUNT  EXPOSURE  HOMEKIDS  KIDSDRIV CAR_TYPE MSTATUS REVOKED  \\\n",
       "0      0          0     0.189         0         0  Minivan      No      No   \n",
       "1      1          0     1.000         0         0  Minivan      No      No   \n",
       "2      2          0     1.000         0         0      Van      No      No   \n",
       "3      3          0     0.828         1         0      SUV     Yes      No   \n",
       "4      4          0     0.729         0         0  Minivan     Yes      No   \n",
       "\n",
       "            URBANICITY  MVR_PTS  TIF  TRAVTIME  CAR_AGE  \n",
       "0  Highly Urban/ Urban        3   11        14     18.0  \n",
       "1  Highly Urban/ Urban        0    1        22      1.0  \n",
       "2  Highly Urban/ Urban        2    1        26     10.0  \n",
       "3  Highly Urban/ Urban        3    4         5     10.0  \n",
       "4  Highly Urban/ Urban        0    7        32      6.0  "
      ]
     },
     "execution_count": 3,
     "metadata": {},
     "output_type": "execute_result"
    }
   ],
   "source": [
    "#import file and select predictors\n",
    "claim_history = pandas.read_csv(r'C:\\Users\\Sijie Li\\OneDrive - The University of Chicago\\Documents\\MSCA\\Winter2021\\MSCA31010 Linear\\Wk3\\claim_history.csv')\n",
    "\n",
    "trainData = claim_history[['CLM_COUNT', 'EXPOSURE', 'HOMEKIDS', 'KIDSDRIV','CAR_TYPE','MSTATUS','REVOKED','URBANICITY','MVR_PTS', 'TIF', 'TRAVTIME','CAR_AGE']].dropna()\n",
    "\n",
    "trainData.reset_index(inplace = True)\n",
    "\n",
    "trainData.head()"
   ]
  },
  {
   "cell_type": "code",
   "execution_count": 4,
   "id": "56e6518d",
   "metadata": {},
   "outputs": [],
   "source": [
    "# Set some options for printing all the columns\n",
    "numpy.set_printoptions(precision = 10, threshold = sys.maxsize)\n",
    "numpy.set_printoptions(linewidth = numpy.inf)\n",
    "\n",
    "pandas.set_option('display.max_columns', None)\n",
    "pandas.set_option('display.expand_frame_repr', False)\n",
    "pandas.set_option('max_colwidth', None)\n",
    "pandas.set_option('precision', 10)\n",
    "\n",
    "pandas.options.display.float_format = '{:,.7e}'.format"
   ]
  },
  {
   "cell_type": "code",
   "execution_count": 5,
   "id": "c23cd358",
   "metadata": {},
   "outputs": [],
   "source": [
    "trainData['MSTATUS'].replace(('Yes', 'No'), (\"Myes\", \"Mno\"), inplace=True)\n",
    "trainData['REVOKED'].replace(('Yes', 'No'), (\"Ryes\", \"Rno\"), inplace=True)"
   ]
  },
  {
   "cell_type": "code",
   "execution_count": 6,
   "id": "49eae4d4",
   "metadata": {},
   "outputs": [],
   "source": [
    "# Reorder the categories in ascending order of frequencies of the target field\n",
    "#CAR_TYPE\n",
    "u = trainData['CAR_TYPE'].astype('category')\n",
    "u_freq = u.value_counts(ascending = True)\n",
    "pm = u.cat.reorder_categories(list(u_freq.index))\n",
    "term_car_type = pandas.get_dummies(pm)\n",
    "\n",
    "#MSTATUS & REVOKED\n",
    "\n",
    "s = trainData['MSTATUS'].astype('category')\n",
    "s_freq = s.value_counts(ascending = True)\n",
    "pm2 = s.cat.reorder_categories(list(s_freq.index))\n",
    "term_mstatus = pandas.get_dummies(pm2)\n",
    "\n",
    "a = trainData['REVOKED'].astype('category')\n",
    "a_freq = a.value_counts(ascending = True)\n",
    "pm3 = a.cat.reorder_categories(list(a_freq.index))\n",
    "term_revoked = pandas.get_dummies(pm3)\n",
    "\n",
    "\n",
    "# URBANICITY\n",
    "b = trainData['URBANICITY'].astype('category')\n",
    "b_freq = b.value_counts(ascending = True)\n",
    "pm4 = b.cat.reorder_categories(list(b_freq.index))\n",
    "term_urban_city = pandas.get_dummies(pm4)\n"
   ]
  },
  {
   "cell_type": "code",
   "execution_count": 7,
   "id": "a7cf0e29",
   "metadata": {},
   "outputs": [
    {
     "data": {
      "text/html": [
       "<div>\n",
       "<style scoped>\n",
       "    .dataframe tbody tr th:only-of-type {\n",
       "        vertical-align: middle;\n",
       "    }\n",
       "\n",
       "    .dataframe tbody tr th {\n",
       "        vertical-align: top;\n",
       "    }\n",
       "\n",
       "    .dataframe thead th {\n",
       "        text-align: right;\n",
       "    }\n",
       "</style>\n",
       "<table border=\"1\" class=\"dataframe\">\n",
       "  <thead>\n",
       "    <tr style=\"text-align: right;\">\n",
       "      <th></th>\n",
       "      <th>index</th>\n",
       "      <th>CLM_COUNT</th>\n",
       "      <th>EXPOSURE</th>\n",
       "      <th>HOMEKIDS</th>\n",
       "      <th>KIDSDRIV</th>\n",
       "      <th>CAR_TYPE</th>\n",
       "      <th>MSTATUS</th>\n",
       "      <th>REVOKED</th>\n",
       "      <th>URBANICITY</th>\n",
       "      <th>MVR_PTS</th>\n",
       "      <th>TIF</th>\n",
       "      <th>TRAVTIME</th>\n",
       "      <th>CAR_AGE</th>\n",
       "    </tr>\n",
       "  </thead>\n",
       "  <tbody>\n",
       "    <tr>\n",
       "      <th>0</th>\n",
       "      <td>0</td>\n",
       "      <td>0</td>\n",
       "      <td>1.8900000e-01</td>\n",
       "      <td>0</td>\n",
       "      <td>0</td>\n",
       "      <td>Minivan</td>\n",
       "      <td>Mno</td>\n",
       "      <td>Rno</td>\n",
       "      <td>Highly Urban/ Urban</td>\n",
       "      <td>3</td>\n",
       "      <td>11</td>\n",
       "      <td>14</td>\n",
       "      <td>1.8000000e+01</td>\n",
       "    </tr>\n",
       "    <tr>\n",
       "      <th>1</th>\n",
       "      <td>1</td>\n",
       "      <td>0</td>\n",
       "      <td>1.0000000e+00</td>\n",
       "      <td>0</td>\n",
       "      <td>0</td>\n",
       "      <td>Minivan</td>\n",
       "      <td>Mno</td>\n",
       "      <td>Rno</td>\n",
       "      <td>Highly Urban/ Urban</td>\n",
       "      <td>0</td>\n",
       "      <td>1</td>\n",
       "      <td>22</td>\n",
       "      <td>1.0000000e+00</td>\n",
       "    </tr>\n",
       "    <tr>\n",
       "      <th>2</th>\n",
       "      <td>2</td>\n",
       "      <td>0</td>\n",
       "      <td>1.0000000e+00</td>\n",
       "      <td>0</td>\n",
       "      <td>0</td>\n",
       "      <td>Van</td>\n",
       "      <td>Mno</td>\n",
       "      <td>Rno</td>\n",
       "      <td>Highly Urban/ Urban</td>\n",
       "      <td>2</td>\n",
       "      <td>1</td>\n",
       "      <td>26</td>\n",
       "      <td>1.0000000e+01</td>\n",
       "    </tr>\n",
       "    <tr>\n",
       "      <th>3</th>\n",
       "      <td>3</td>\n",
       "      <td>0</td>\n",
       "      <td>8.2800000e-01</td>\n",
       "      <td>1</td>\n",
       "      <td>0</td>\n",
       "      <td>SUV</td>\n",
       "      <td>Myes</td>\n",
       "      <td>Rno</td>\n",
       "      <td>Highly Urban/ Urban</td>\n",
       "      <td>3</td>\n",
       "      <td>4</td>\n",
       "      <td>5</td>\n",
       "      <td>1.0000000e+01</td>\n",
       "    </tr>\n",
       "    <tr>\n",
       "      <th>4</th>\n",
       "      <td>4</td>\n",
       "      <td>0</td>\n",
       "      <td>7.2900000e-01</td>\n",
       "      <td>0</td>\n",
       "      <td>0</td>\n",
       "      <td>Minivan</td>\n",
       "      <td>Myes</td>\n",
       "      <td>Rno</td>\n",
       "      <td>Highly Urban/ Urban</td>\n",
       "      <td>0</td>\n",
       "      <td>7</td>\n",
       "      <td>32</td>\n",
       "      <td>6.0000000e+00</td>\n",
       "    </tr>\n",
       "  </tbody>\n",
       "</table>\n",
       "</div>"
      ],
      "text/plain": [
       "   index  CLM_COUNT      EXPOSURE  HOMEKIDS  KIDSDRIV CAR_TYPE MSTATUS REVOKED           URBANICITY  MVR_PTS  TIF  TRAVTIME       CAR_AGE\n",
       "0      0          0 1.8900000e-01         0         0  Minivan     Mno     Rno  Highly Urban/ Urban        3   11        14 1.8000000e+01\n",
       "1      1          0 1.0000000e+00         0         0  Minivan     Mno     Rno  Highly Urban/ Urban        0    1        22 1.0000000e+00\n",
       "2      2          0 1.0000000e+00         0         0      Van     Mno     Rno  Highly Urban/ Urban        2    1        26 1.0000000e+01\n",
       "3      3          0 8.2800000e-01         1         0      SUV    Myes     Rno  Highly Urban/ Urban        3    4         5 1.0000000e+01\n",
       "4      4          0 7.2900000e-01         0         0  Minivan    Myes     Rno  Highly Urban/ Urban        0    7        32 6.0000000e+00"
      ]
     },
     "execution_count": 7,
     "metadata": {},
     "output_type": "execute_result"
    }
   ],
   "source": [
    "trainData.head()"
   ]
  },
  {
   "cell_type": "markdown",
   "id": "4fc870e9",
   "metadata": {},
   "source": [
    "# Question 1"
   ]
  },
  {
   "cell_type": "markdown",
   "id": "1b869cdf",
   "metadata": {},
   "source": [
    "## Visualize the CLM_COUNT versus CAR_TYPE"
   ]
  },
  {
   "cell_type": "code",
   "execution_count": 119,
   "id": "90c8cde2",
   "metadata": {},
   "outputs": [
    {
     "data": {
      "image/png": "[encoded data removed]",
      "text/plain": [
       "<Figure size 600x400 with 2 Axes>"
      ]
     },
     "metadata": {
      "needs_background": "light"
     },
     "output_type": "display_data"
    }
   ],
   "source": [
    "#  Visualize the CLM_COUNT versus CAR_TYPE\n",
    "plt.figure(dpi = 100)\n",
    "df = pandas.DataFrame(pm).join(trainData['CLM_COUNT'])\n",
    "df = pandas.DataFrame(df).join(trainData['EXPOSURE'])\n",
    "scatter = plt.scatter(df['CAR_TYPE'].sort_values(), df['CLM_COUNT'], s = 100, c = df['EXPOSURE'] )\n",
    "plt.xlabel('CAR_TYPE')\n",
    "plt.ylabel('CLM_COUNT')\n",
    "plt.yticks([0,1,2,3,4,5,6,7,8,9])\n",
    "cbar = plt.colorbar(scatter,label='EXPOSURE')\n",
    "cbar.set_ticks([0,0.1,0.2,0.3,0.4,0.5,0.6,0.7,0.8,0.9,1])\n",
    "plt.show()"
   ]
  },
  {
   "cell_type": "markdown",
   "id": "d9a01344",
   "metadata": {},
   "source": [
    "## Visualize the CLM_COUNT versus MSTATUS"
   ]
  },
  {
   "cell_type": "code",
   "execution_count": 120,
   "id": "979b9f48",
   "metadata": {},
   "outputs": [
    {
     "data": {
      "image/png": "[encoded data removed]",
      "text/plain": [
       "<Figure size 600x400 with 2 Axes>"
      ]
     },
     "metadata": {
      "needs_background": "light"
     },
     "output_type": "display_data"
    }
   ],
   "source": [
    "#  Visualize the CLM_COUNT versus MSTATUS\n",
    "plt.figure(dpi = 100)\n",
    "#df2 = pandas.DataFrame(trainData['MSTATUS']).join(trainData['CLM_COUNT'])\n",
    "#df2 = pandas.DataFrame(df2).join(trainData['EXPOSURE'])\n",
    "scatter2 = plt.scatter(trainData['MSTATUS'], trainData['CLM_COUNT'], s = 100, c = trainData['EXPOSURE'] )\n",
    "plt.xlabel('MSTATUS')\n",
    "plt.xticks([0,1])\n",
    "plt.ylabel('CLM_COUNT')\n",
    "plt.yticks([0,1,2,3,4,5,6,7,8,9])\n",
    "cbar = plt.colorbar(scatter2,label='EXPOSURE')\n",
    "cbar.set_ticks([0,0.1,0.2,0.3,0.4,0.5,0.6,0.7,0.8,0.9,1])\n",
    "plt.show()"
   ]
  },
  {
   "cell_type": "markdown",
   "id": "2ef2f5de",
   "metadata": {},
   "source": [
    "## Visualize the CLM_COUNT versus HOMEKIDS"
   ]
  },
  {
   "cell_type": "code",
   "execution_count": 126,
   "id": "42e4a258",
   "metadata": {},
   "outputs": [
    {
     "data": {
      "image/png": "[encoded data removed]",
      "text/plain": [
       "<Figure size 600x400 with 2 Axes>"
      ]
     },
     "metadata": {
      "needs_background": "light"
     },
     "output_type": "display_data"
    }
   ],
   "source": [
    "#  Visualize the CLM_COUNT versus HOMEKIDS\n",
    "plt.figure(dpi = 100)\n",
    "#df2 = pandas.DataFrame(trainData['MSTATUS']).join(trainData['CLM_COUNT'])\n",
    "#df2 = pandas.DataFrame(df2).join(trainData['EXPOSURE'])\n",
    "scatter2 = plt.scatter(trainData['HOMEKIDS'], trainData['CLM_COUNT'], s = 100, c = trainData['EXPOSURE'] )\n",
    "plt.xlabel('HOMEKIDS')\n",
    "plt.xticks(range(0,6))\n",
    "plt.ylabel('CLM_COUNT')\n",
    "plt.yticks([0,1,2,3,4,5,6,7,8,9])\n",
    "cbar = plt.colorbar(scatter2,label='EXPOSURE')\n",
    "cbar.set_ticks([0,0.1,0.2,0.3,0.4,0.5,0.6,0.7,0.8,0.9,1])\n",
    "plt.show()"
   ]
  },
  {
   "cell_type": "markdown",
   "id": "62fdabb9",
   "metadata": {},
   "source": [
    "## Visualize the CLM_COUNT versus KIDSDRIV"
   ]
  },
  {
   "cell_type": "code",
   "execution_count": 128,
   "id": "c2213309",
   "metadata": {},
   "outputs": [
    {
     "data": {
      "image/png": "[encoded data removed]",
      "text/plain": [
       "<Figure size 600x400 with 2 Axes>"
      ]
     },
     "metadata": {
      "needs_background": "light"
     },
     "output_type": "display_data"
    }
   ],
   "source": [
    "#  Visualize the CLM_COUNT versus KIDSDRIV\n",
    "plt.figure(dpi = 100)\n",
    "scatter2 = plt.scatter(trainData['KIDSDRIV'], trainData['CLM_COUNT'], s = 100, c = trainData['EXPOSURE'] )\n",
    "plt.xlabel('KIDSDRIV')\n",
    "plt.xticks(range(0,5))\n",
    "plt.ylabel('CLM_COUNT')\n",
    "plt.yticks([0,1,2,3,4,5,6,7,8,9])\n",
    "cbar = plt.colorbar(scatter2,label='EXPOSURE')\n",
    "cbar.set_ticks([0,0.1,0.2,0.3,0.4,0.5,0.6,0.7,0.8,0.9,1])\n",
    "plt.show()"
   ]
  },
  {
   "cell_type": "markdown",
   "id": "9c53bbd5",
   "metadata": {},
   "source": [
    "## Visualize the CLM_COUNT versus REVOKED"
   ]
  },
  {
   "cell_type": "code",
   "execution_count": 130,
   "id": "87a23aa0",
   "metadata": {},
   "outputs": [
    {
     "data": {
      "image/png": "[encoded data removed]",
      "text/plain": [
       "<Figure size 600x400 with 2 Axes>"
      ]
     },
     "metadata": {
      "needs_background": "light"
     },
     "output_type": "display_data"
    }
   ],
   "source": [
    "#  Visualize the CLM_COUNT versus REVOKED\n",
    "plt.figure(dpi = 100)\n",
    "scatter2 = plt.scatter(trainData['REVOKED'], trainData['CLM_COUNT'], s = 100, c = trainData['EXPOSURE'] )\n",
    "plt.xlabel('REVOKED')\n",
    "plt.xticks(range(0,2))\n",
    "plt.ylabel('CLM_COUNT')\n",
    "plt.yticks([0,1,2,3,4,5,6,7,8,9])\n",
    "cbar = plt.colorbar(scatter2,label='EXPOSURE')\n",
    "cbar.set_ticks([0,0.1,0.2,0.3,0.4,0.5,0.6,0.7,0.8,0.9,1])\n",
    "plt.show()"
   ]
  },
  {
   "cell_type": "markdown",
   "id": "619e048e",
   "metadata": {
    "heading_collapsed": true
   },
   "source": [
    "## Visualize the CLM_COUNT versus URBANICITY"
   ]
  },
  {
   "cell_type": "code",
   "execution_count": 133,
   "id": "e76acce6",
   "metadata": {
    "hidden": true
   },
   "outputs": [
    {
     "data": {
      "image/png": "[encoded data removed]",
      "text/plain": [
       "<Figure size 600x400 with 2 Axes>"
      ]
     },
     "metadata": {
      "needs_background": "light"
     },
     "output_type": "display_data"
    }
   ],
   "source": [
    "#  Visualize the CLM_COUNT versus URBANICITY\n",
    "plt.figure(dpi = 100)\n",
    "scatter2 = plt.scatter(trainData['URBANICITY'], trainData['CLM_COUNT'], s = 100, c = trainData['EXPOSURE'] )\n",
    "plt.xlabel('URBANICITY')\n",
    "plt.xticks(range(0,2))\n",
    "plt.ylabel('CLM_COUNT')\n",
    "plt.yticks([0,1,2,3,4,5,6,7,8,9])\n",
    "cbar = plt.colorbar(scatter2,label='EXPOSURE')\n",
    "cbar.set_ticks([0,0.1,0.2,0.3,0.4,0.5,0.6,0.7,0.8,0.9,1])\n",
    "plt.show()"
   ]
  },
  {
   "cell_type": "markdown",
   "id": "dcc51391",
   "metadata": {
    "heading_collapsed": true
   },
   "source": [
    "## Visualize the CLM_COUNT versus CAR_AGE"
   ]
  },
  {
   "cell_type": "code",
   "execution_count": 151,
   "id": "07cebc9f",
   "metadata": {
    "hidden": true
   },
   "outputs": [
    {
     "data": {
      "image/png": "[encoded data removed]",
      "text/plain": [
       "<Figure size 600x400 with 2 Axes>"
      ]
     },
     "metadata": {
      "needs_background": "light"
     },
     "output_type": "display_data"
    }
   ],
   "source": [
    "#  Visualize the CLM_COUNT versus CAR_AGE\n",
    "plt.figure(dpi = 100)\n",
    "scatter2 = plt.scatter(trainData['CAR_AGE'], trainData['CLM_COUNT'], s = 100, c = trainData['EXPOSURE'] )\n",
    "plt.xlabel('CAR_AGE')\n",
    "plt.xticks(range(0,30,2))\n",
    "plt.ylabel('CLM_COUNT')\n",
    "plt.yticks([0,1,2,3,4,5,6,7,8,9])\n",
    "cbar = plt.colorbar(scatter2,label='EXPOSURE')\n",
    "cbar.set_ticks([0,0.1,0.2,0.3,0.4,0.5,0.6,0.7,0.8,0.9,1])\n",
    "plt.show()"
   ]
  },
  {
   "cell_type": "markdown",
   "id": "ac4130a3",
   "metadata": {
    "heading_collapsed": true
   },
   "source": [
    "## Visualize the CLM_COUNT versus MVR_PTS"
   ]
  },
  {
   "cell_type": "code",
   "execution_count": 156,
   "id": "26f3cac1",
   "metadata": {
    "hidden": true
   },
   "outputs": [
    {
     "data": {
      "image/png": "[encoded data removed]",
      "text/plain": [
       "<Figure size 600x400 with 2 Axes>"
      ]
     },
     "metadata": {
      "needs_background": "light"
     },
     "output_type": "display_data"
    }
   ],
   "source": [
    "#  Visualize the CLM_COUNT versus MVR_PTS\n",
    "plt.figure(dpi = 100)\n",
    "scatter2 = plt.scatter(trainData['MVR_PTS'], trainData['CLM_COUNT'], s = 100, c = trainData['EXPOSURE'] )\n",
    "plt.xlabel('MVR_PTS')\n",
    "plt.xticks(range(0,14,1))\n",
    "plt.ylabel('CLM_COUNT')\n",
    "plt.yticks([0,1,2,3,4,5,6,7,8,9])\n",
    "cbar = plt.colorbar(scatter2,label='EXPOSURE')\n",
    "cbar.set_ticks([0,0.1,0.2,0.3,0.4,0.5,0.6,0.7,0.8,0.9,1])\n",
    "plt.show()"
   ]
  },
  {
   "cell_type": "markdown",
   "id": "dff0cd32",
   "metadata": {
    "heading_collapsed": true
   },
   "source": [
    "## Visualize the CLM_COUNT versus TIF"
   ]
  },
  {
   "cell_type": "code",
   "execution_count": 159,
   "id": "06bf81ab",
   "metadata": {
    "hidden": true
   },
   "outputs": [
    {
     "data": {
      "image/png": "[encoded data removed]",
      "text/plain": [
       "<Figure size 600x400 with 2 Axes>"
      ]
     },
     "metadata": {
      "needs_background": "light"
     },
     "output_type": "display_data"
    }
   ],
   "source": [
    "#  Visualize the CLM_COUNT versus TIF\n",
    "plt.figure(dpi = 100)\n",
    "scatter2 = plt.scatter(trainData['TIF'], trainData['CLM_COUNT'], s = 100, c = trainData['EXPOSURE'] )\n",
    "plt.xlabel('TIF')\n",
    "plt.xticks(range(0,26,2))\n",
    "plt.ylabel('CLM_COUNT')\n",
    "plt.yticks([0,1,2,3,4,5,6,7,8,9])\n",
    "cbar = plt.colorbar(scatter2,label='EXPOSURE')\n",
    "cbar.set_ticks([0,0.1,0.2,0.3,0.4,0.5,0.6,0.7,0.8,0.9,1])\n",
    "plt.show()"
   ]
  },
  {
   "cell_type": "markdown",
   "id": "eaba37f1",
   "metadata": {
    "heading_collapsed": true
   },
   "source": [
    "## Visualize the CLM_COUNT versus TRAVTIME"
   ]
  },
  {
   "cell_type": "code",
   "execution_count": 160,
   "id": "25fd03fe",
   "metadata": {
    "hidden": true
   },
   "outputs": [
    {
     "data": {
      "image/png": "[encoded data removed]",
      "text/plain": [
       "<Figure size 600x400 with 2 Axes>"
      ]
     },
     "metadata": {
      "needs_background": "light"
     },
     "output_type": "display_data"
    }
   ],
   "source": [
    "#  Visualize the CLM_COUNT versus TRAVTIME\n",
    "plt.figure(dpi = 100)\n",
    "scatter2 = plt.scatter(trainData['TRAVTIME'], trainData['CLM_COUNT'], s = 100, c = trainData['EXPOSURE'] )\n",
    "plt.xlabel('TRAVTIME')\n",
    "plt.xticks(range(5,143,20))\n",
    "plt.ylabel('CLM_COUNT')\n",
    "plt.yticks([0,1,2,3,4,5,6,7,8,9])\n",
    "cbar = plt.colorbar(scatter2,label='EXPOSURE')\n",
    "cbar.set_ticks([0,0.1,0.2,0.3,0.4,0.5,0.6,0.7,0.8,0.9,1])\n",
    "plt.show()"
   ]
  },
  {
   "cell_type": "markdown",
   "id": "7329fb7b",
   "metadata": {},
   "source": [
    "# Question 2"
   ]
  },
  {
   "cell_type": "markdown",
   "id": "ee6b2ff6",
   "metadata": {},
   "source": [
    "### Set predictors and run model with intercept"
   ]
  },
  {
   "cell_type": "code",
   "execution_count": 8,
   "id": "e28ea911",
   "metadata": {},
   "outputs": [],
   "source": [
    "# Set predictors\n",
    "term_homekids = trainData['HOMEKIDS']\n",
    "term_kidsdriv = trainData['KIDSDRIV']\n",
    "term_car_age = trainData['CAR_AGE']\n",
    "term_mvr_pts = trainData['MVR_PTS']\n",
    "term_tif = trainData['TIF']\n",
    "term_travtime = trainData['TRAVTIME']\n",
    "#term_revoked = trainData['REVOKED']\n",
    "#term_mstatus = trainData['MSTATUS']\n",
    "\n",
    "y_train = trainData['CLM_COUNT']\n",
    "n_sample = len(y_train)\n",
    "e_train = trainData['EXPOSURE']\n",
    "o_train_X = numpy.log(e_train)"
   ]
  },
  {
   "cell_type": "code",
   "execution_count": 9,
   "id": "fd7b6834",
   "metadata": {},
   "outputs": [
    {
     "data": {
      "text/html": [
       "<div>\n",
       "<style scoped>\n",
       "    .dataframe tbody tr th:only-of-type {\n",
       "        vertical-align: middle;\n",
       "    }\n",
       "\n",
       "    .dataframe tbody tr th {\n",
       "        vertical-align: top;\n",
       "    }\n",
       "\n",
       "    .dataframe thead th {\n",
       "        text-align: right;\n",
       "    }\n",
       "</style>\n",
       "<table border=\"1\" class=\"dataframe\">\n",
       "  <thead>\n",
       "    <tr style=\"text-align: right;\">\n",
       "      <th></th>\n",
       "      <th>0</th>\n",
       "      <th>1</th>\n",
       "      <th>2</th>\n",
       "      <th>3</th>\n",
       "      <th>4</th>\n",
       "      <th>5</th>\n",
       "    </tr>\n",
       "  </thead>\n",
       "  <tbody>\n",
       "    <tr>\n",
       "      <th>0</th>\n",
       "      <td>Intercept</td>\n",
       "      <td>1</td>\n",
       "      <td>-1.7324418e+04</td>\n",
       "      <td>NaN</td>\n",
       "      <td>NaN</td>\n",
       "      <td>NaN</td>\n",
       "    </tr>\n",
       "  </tbody>\n",
       "</table>\n",
       "</div>"
      ],
      "text/plain": [
       "           0  1              2   3   4   5\n",
       "0  Intercept  1 -1.7324418e+04 NaN NaN NaN"
      ]
     },
     "execution_count": 9,
     "metadata": {},
     "output_type": "execute_result"
    }
   ],
   "source": [
    "# model Poisson GLM with Intercept only model\n",
    "X_train = trainData[['CLM_COUNT']].copy()\n",
    "X_train.insert(0, 'Intercept', 1.0)\n",
    "X_train.drop(columns = ['CLM_COUNT'], inplace = True)\n",
    "step_summary = pandas.DataFrame()\n",
    "outList = Regression.PoissonModel(X_train, y_train, o_train_X)\n",
    "llk_0 = outList[3]\n",
    "df_0 = len(outList[4])\n",
    "step_summary = step_summary.append([['Intercept', df_0, llk_0, numpy.nan, \n",
    "numpy.nan, numpy.nan]], ignore_index = True)\n",
    "step_summary"
   ]
  },
  {
   "cell_type": "markdown",
   "id": "a79b5a84",
   "metadata": {},
   "source": [
    "## a) Begain forward selection"
   ]
  },
  {
   "cell_type": "markdown",
   "id": "a21c8cfc",
   "metadata": {},
   "source": [
    "### Find first predictor"
   ]
  },
  {
   "cell_type": "code",
   "execution_count": 10,
   "id": "cca1d48a",
   "metadata": {},
   "outputs": [],
   "source": [
    "# Find the first predictor\n",
    "step_detail = pandas.DataFrame()\n",
    "\n",
    "# Try Intercept + CAR_TYPE\n",
    "X = X_train.join(term_car_type)\n",
    "outList = Regression.PoissonModel(X, y_train, o_train_X)\n",
    "llk_1 = outList[3]\n",
    "df_1 = len(outList[4])\n",
    "deviance_chisq = 2 * (llk_1 - llk_0)\n",
    "deviance_df = df_1 - df_0\n",
    "deviance_sig = chi2.sf(deviance_chisq, deviance_df)\n",
    "step_detail = step_detail.append([['+ CAR_TYPE', df_1, llk_1, deviance_chisq, \n",
    "deviance_df, deviance_sig]], ignore_index = True)"
   ]
  },
  {
   "cell_type": "code",
   "execution_count": 11,
   "id": "d85fc954",
   "metadata": {},
   "outputs": [],
   "source": [
    "# Try Intercept + HOMEKIDS\n",
    "X = X_train.join(term_homekids)\n",
    "outList = Regression.PoissonModel(X, y_train, o_train_X)\n",
    "llk_1 = outList[3]\n",
    "df_1 = len(outList[4])\n",
    "deviance_chisq = 2 * (llk_1 - llk_0)\n",
    "deviance_df = df_1 - df_0\n",
    "deviance_sig = chi2.sf(deviance_chisq, deviance_df)\n",
    "step_detail = step_detail.append([['+ HOMEKIDS', df_1, llk_1, deviance_chisq, \n",
    "deviance_df, deviance_sig]], ignore_index = True)\n"
   ]
  },
  {
   "cell_type": "code",
   "execution_count": 12,
   "id": "f4148a54",
   "metadata": {},
   "outputs": [],
   "source": [
    "# Try Intercept + KIDSDRIV\n",
    "X = X_train.join(term_kidsdriv)\n",
    "outList = Regression.PoissonModel(X, y_train, o_train_X)\n",
    "llk_1 = outList[3]\n",
    "df_1 = len(outList[4])\n",
    "deviance_chisq = 2 * (llk_1 - llk_0)\n",
    "deviance_df = df_1 - df_0\n",
    "deviance_sig = chi2.sf(deviance_chisq, deviance_df)\n",
    "step_detail = step_detail.append([['+ KIDSDRIV', df_1, llk_1, deviance_chisq, \n",
    "deviance_df, deviance_sig]], ignore_index = True)\n"
   ]
  },
  {
   "cell_type": "code",
   "execution_count": 13,
   "id": "5d774f6c",
   "metadata": {},
   "outputs": [],
   "source": [
    "# Try Intercept + CAR_AGE\n",
    "X = X_train.join(term_car_age)\n",
    "outList = Regression.PoissonModel(X, y_train, o_train_X)\n",
    "llk_1 = outList[3]\n",
    "df_1 = len(outList[4])\n",
    "deviance_chisq = 2 * (llk_1 - llk_0)\n",
    "deviance_df = df_1 - df_0\n",
    "deviance_sig = chi2.sf(deviance_chisq, deviance_df)\n",
    "step_detail = step_detail.append([['+ CAR_AGE', df_1, llk_1, deviance_chisq, \n",
    "deviance_df, deviance_sig]], ignore_index = True)\n"
   ]
  },
  {
   "cell_type": "code",
   "execution_count": 14,
   "id": "33edd318",
   "metadata": {},
   "outputs": [],
   "source": [
    "# Try Intercept + MVR_PTS\n",
    "X = X_train.join(term_mvr_pts)\n",
    "outList = Regression.PoissonModel(X, y_train, o_train_X)\n",
    "llk_1 = outList[3]\n",
    "df_1 = len(outList[4])\n",
    "deviance_chisq = 2 * (llk_1 - llk_0)\n",
    "deviance_df = df_1 - df_0\n",
    "deviance_sig = chi2.sf(deviance_chisq, deviance_df)\n",
    "step_detail = step_detail.append([['+ MVR_PTS', df_1, llk_1, deviance_chisq, \n",
    "deviance_df, deviance_sig]], ignore_index = True)\n"
   ]
  },
  {
   "cell_type": "code",
   "execution_count": 15,
   "id": "83107871",
   "metadata": {},
   "outputs": [],
   "source": [
    "# Try Intercept + TIF\n",
    "X = X_train.join(term_tif)\n",
    "outList = Regression.PoissonModel(X, y_train, o_train_X)\n",
    "llk_1 = outList[3]\n",
    "df_1 = len(outList[4])\n",
    "deviance_chisq = 2 * (llk_1 - llk_0)\n",
    "deviance_df = df_1 - df_0\n",
    "deviance_sig = chi2.sf(deviance_chisq, deviance_df)\n",
    "step_detail = step_detail.append([['+ TIF', df_1, llk_1, deviance_chisq, \n",
    "deviance_df, deviance_sig]], ignore_index = True)\n"
   ]
  },
  {
   "cell_type": "code",
   "execution_count": 16,
   "id": "904cb10f",
   "metadata": {},
   "outputs": [],
   "source": [
    "# Try Intercept + TRAVTIME\n",
    "X = X_train.join(term_travtime)\n",
    "outList = Regression.PoissonModel(X, y_train, o_train_X)\n",
    "llk_1 = outList[3]\n",
    "df_1 = len(outList[4])\n",
    "deviance_chisq = 2 * (llk_1 - llk_0)\n",
    "deviance_df = df_1 - df_0\n",
    "deviance_sig = chi2.sf(deviance_chisq, deviance_df)\n",
    "step_detail = step_detail.append([['+ TRAVTIME', df_1, llk_1, deviance_chisq, \n",
    "deviance_df, deviance_sig]], ignore_index = True)\n"
   ]
  },
  {
   "cell_type": "code",
   "execution_count": 17,
   "id": "21c1756e",
   "metadata": {},
   "outputs": [],
   "source": [
    "# Try Intercept + MSTATUS\n",
    "X = X_train.join(term_mstatus)\n",
    "outList = Regression.PoissonModel(X, y_train, o_train_X)\n",
    "llk_1 = outList[3]\n",
    "df_1 = len(outList[4])\n",
    "deviance_chisq = 2 * (llk_1 - llk_0)\n",
    "deviance_df = df_1 - df_0\n",
    "deviance_sig = chi2.sf(deviance_chisq, deviance_df)\n",
    "step_detail = step_detail.append([['+ MSTATUS', df_1, llk_1, deviance_chisq, \n",
    "deviance_df, deviance_sig]], ignore_index = True)"
   ]
  },
  {
   "cell_type": "code",
   "execution_count": 18,
   "id": "7e12c7ec",
   "metadata": {},
   "outputs": [],
   "source": [
    "# Try Intercept + REVOKED\n",
    "X = X_train.join(term_revoked)\n",
    "outList = Regression.PoissonModel(X, y_train, o_train_X)\n",
    "llk_1 = outList[3]\n",
    "df_1 = len(outList[4])\n",
    "deviance_chisq = 2 * (llk_1 - llk_0)\n",
    "deviance_df = df_1 - df_0\n",
    "deviance_sig = chi2.sf(deviance_chisq, deviance_df)\n",
    "step_detail = step_detail.append([['+ REVOKED', df_1, llk_1, deviance_chisq, \n",
    "deviance_df, deviance_sig]], ignore_index = True)"
   ]
  },
  {
   "cell_type": "code",
   "execution_count": 19,
   "id": "f6c870fd",
   "metadata": {},
   "outputs": [],
   "source": [
    "# Try Intercept + URBANICITY\n",
    "X = X_train.join(term_urban_city)\n",
    "outList = Regression.PoissonModel(X, y_train, o_train_X)\n",
    "llk_1 = outList[3]\n",
    "df_1 = len(outList[4])\n",
    "deviance_chisq = 2 * (llk_1 - llk_0)\n",
    "deviance_df = df_1 - df_0\n",
    "deviance_sig = chi2.sf(deviance_chisq, deviance_df)\n",
    "step_detail = step_detail.append([['+ URBANICITY', df_1, llk_1, deviance_chisq, \n",
    "deviance_df, deviance_sig]], ignore_index = True)"
   ]
  },
  {
   "cell_type": "code",
   "execution_count": 20,
   "id": "a32d5734",
   "metadata": {},
   "outputs": [
    {
     "data": {
      "text/html": [
       "<div>\n",
       "<style scoped>\n",
       "    .dataframe tbody tr th:only-of-type {\n",
       "        vertical-align: middle;\n",
       "    }\n",
       "\n",
       "    .dataframe tbody tr th {\n",
       "        vertical-align: top;\n",
       "    }\n",
       "\n",
       "    .dataframe thead th {\n",
       "        text-align: right;\n",
       "    }\n",
       "</style>\n",
       "<table border=\"1\" class=\"dataframe\">\n",
       "  <thead>\n",
       "    <tr style=\"text-align: right;\">\n",
       "      <th></th>\n",
       "      <th>0</th>\n",
       "      <th>1</th>\n",
       "      <th>2</th>\n",
       "      <th>3</th>\n",
       "      <th>4</th>\n",
       "      <th>5</th>\n",
       "    </tr>\n",
       "  </thead>\n",
       "  <tbody>\n",
       "    <tr>\n",
       "      <th>0</th>\n",
       "      <td>+ CAR_TYPE</td>\n",
       "      <td>6</td>\n",
       "      <td>-1.7117143e+04</td>\n",
       "      <td>4.1454849e+02</td>\n",
       "      <td>5</td>\n",
       "      <td>2.1690060e-87</td>\n",
       "    </tr>\n",
       "    <tr>\n",
       "      <th>1</th>\n",
       "      <td>+ HOMEKIDS</td>\n",
       "      <td>2</td>\n",
       "      <td>-1.7168230e+04</td>\n",
       "      <td>3.1237428e+02</td>\n",
       "      <td>1</td>\n",
       "      <td>6.6375895e-70</td>\n",
       "    </tr>\n",
       "    <tr>\n",
       "      <th>2</th>\n",
       "      <td>+ KIDSDRIV</td>\n",
       "      <td>2</td>\n",
       "      <td>-1.7209684e+04</td>\n",
       "      <td>2.2946760e+02</td>\n",
       "      <td>1</td>\n",
       "      <td>7.7884619e-52</td>\n",
       "    </tr>\n",
       "    <tr>\n",
       "      <th>3</th>\n",
       "      <td>+ CAR_AGE</td>\n",
       "      <td>2</td>\n",
       "      <td>-1.7170782e+04</td>\n",
       "      <td>3.0727097e+02</td>\n",
       "      <td>1</td>\n",
       "      <td>8.5848521e-69</td>\n",
       "    </tr>\n",
       "    <tr>\n",
       "      <th>4</th>\n",
       "      <td>+ MVR_PTS</td>\n",
       "      <td>2</td>\n",
       "      <td>-1.6816770e+04</td>\n",
       "      <td>1.0152957e+03</td>\n",
       "      <td>1</td>\n",
       "      <td>8.5025203e-223</td>\n",
       "    </tr>\n",
       "    <tr>\n",
       "      <th>5</th>\n",
       "      <td>+ TIF</td>\n",
       "      <td>2</td>\n",
       "      <td>-1.7249465e+04</td>\n",
       "      <td>1.4990488e+02</td>\n",
       "      <td>1</td>\n",
       "      <td>1.8186579e-34</td>\n",
       "    </tr>\n",
       "    <tr>\n",
       "      <th>6</th>\n",
       "      <td>+ TRAVTIME</td>\n",
       "      <td>2</td>\n",
       "      <td>-1.7285968e+04</td>\n",
       "      <td>7.6900009e+01</td>\n",
       "      <td>1</td>\n",
       "      <td>1.7983635e-18</td>\n",
       "    </tr>\n",
       "    <tr>\n",
       "      <th>7</th>\n",
       "      <td>+ MSTATUS</td>\n",
       "      <td>2</td>\n",
       "      <td>-1.7138676e+04</td>\n",
       "      <td>3.7148307e+02</td>\n",
       "      <td>1</td>\n",
       "      <td>8.8978669e-83</td>\n",
       "    </tr>\n",
       "    <tr>\n",
       "      <th>8</th>\n",
       "      <td>+ REVOKED</td>\n",
       "      <td>2</td>\n",
       "      <td>-1.7087785e+04</td>\n",
       "      <td>4.7326491e+02</td>\n",
       "      <td>1</td>\n",
       "      <td>6.2417433e-105</td>\n",
       "    </tr>\n",
       "    <tr>\n",
       "      <th>9</th>\n",
       "      <td>+ URBANICITY</td>\n",
       "      <td>2</td>\n",
       "      <td>-1.6480902e+04</td>\n",
       "      <td>1.6870313e+03</td>\n",
       "      <td>1</td>\n",
       "      <td>0.0000000e+00</td>\n",
       "    </tr>\n",
       "  </tbody>\n",
       "</table>\n",
       "</div>"
      ],
      "text/plain": [
       "              0  1              2             3  4              5\n",
       "0    + CAR_TYPE  6 -1.7117143e+04 4.1454849e+02  5  2.1690060e-87\n",
       "1    + HOMEKIDS  2 -1.7168230e+04 3.1237428e+02  1  6.6375895e-70\n",
       "2    + KIDSDRIV  2 -1.7209684e+04 2.2946760e+02  1  7.7884619e-52\n",
       "3     + CAR_AGE  2 -1.7170782e+04 3.0727097e+02  1  8.5848521e-69\n",
       "4     + MVR_PTS  2 -1.6816770e+04 1.0152957e+03  1 8.5025203e-223\n",
       "5         + TIF  2 -1.7249465e+04 1.4990488e+02  1  1.8186579e-34\n",
       "6    + TRAVTIME  2 -1.7285968e+04 7.6900009e+01  1  1.7983635e-18\n",
       "7     + MSTATUS  2 -1.7138676e+04 3.7148307e+02  1  8.8978669e-83\n",
       "8     + REVOKED  2 -1.7087785e+04 4.7326491e+02  1 6.2417433e-105\n",
       "9  + URBANICITY  2 -1.6480902e+04 1.6870313e+03  1  0.0000000e+00"
      ]
     },
     "execution_count": 20,
     "metadata": {},
     "output_type": "execute_result"
    }
   ],
   "source": [
    "step_detail"
   ]
  },
  {
   "cell_type": "markdown",
   "id": "8d55980f",
   "metadata": {},
   "source": [
    "#### URBANICITY has the lowest sig value, chose to insert to model"
   ]
  },
  {
   "cell_type": "code",
   "execution_count": 21,
   "id": "a72d1c91",
   "metadata": {},
   "outputs": [],
   "source": [
    "# Current model is Intercept + URBANICITY\n",
    "row = step_detail[step_detail[0] == '+ URBANICITY']\n",
    "llk_0 = row.iloc[0][2]\n",
    "df_0 = row.iloc[0][1]\n",
    "step_summary = step_summary.append(row, ignore_index = True)\n",
    "X_train = X_train.join(term_urban_city)"
   ]
  },
  {
   "cell_type": "code",
   "execution_count": 22,
   "id": "eb12f824",
   "metadata": {},
   "outputs": [
    {
     "data": {
      "text/html": [
       "<div>\n",
       "<style scoped>\n",
       "    .dataframe tbody tr th:only-of-type {\n",
       "        vertical-align: middle;\n",
       "    }\n",
       "\n",
       "    .dataframe tbody tr th {\n",
       "        vertical-align: top;\n",
       "    }\n",
       "\n",
       "    .dataframe thead th {\n",
       "        text-align: right;\n",
       "    }\n",
       "</style>\n",
       "<table border=\"1\" class=\"dataframe\">\n",
       "  <thead>\n",
       "    <tr style=\"text-align: right;\">\n",
       "      <th></th>\n",
       "      <th>0</th>\n",
       "      <th>1</th>\n",
       "      <th>2</th>\n",
       "      <th>3</th>\n",
       "      <th>4</th>\n",
       "      <th>5</th>\n",
       "    </tr>\n",
       "  </thead>\n",
       "  <tbody>\n",
       "    <tr>\n",
       "      <th>0</th>\n",
       "      <td>Intercept</td>\n",
       "      <td>1</td>\n",
       "      <td>-1.7324418e+04</td>\n",
       "      <td>NaN</td>\n",
       "      <td>NaN</td>\n",
       "      <td>NaN</td>\n",
       "    </tr>\n",
       "    <tr>\n",
       "      <th>1</th>\n",
       "      <td>+ URBANICITY</td>\n",
       "      <td>2</td>\n",
       "      <td>-1.6480902e+04</td>\n",
       "      <td>1.6870313e+03</td>\n",
       "      <td>1.0000000e+00</td>\n",
       "      <td>0.0000000e+00</td>\n",
       "    </tr>\n",
       "  </tbody>\n",
       "</table>\n",
       "</div>"
      ],
      "text/plain": [
       "              0  1              2             3             4             5\n",
       "0     Intercept  1 -1.7324418e+04           NaN           NaN           NaN\n",
       "1  + URBANICITY  2 -1.6480902e+04 1.6870313e+03 1.0000000e+00 0.0000000e+00"
      ]
     },
     "execution_count": 22,
     "metadata": {},
     "output_type": "execute_result"
    }
   ],
   "source": [
    "step_summary"
   ]
  },
  {
   "cell_type": "markdown",
   "id": "695d9a42",
   "metadata": {},
   "source": [
    "### Find second predictor"
   ]
  },
  {
   "cell_type": "code",
   "execution_count": 23,
   "id": "4dfeaaef",
   "metadata": {},
   "outputs": [],
   "source": [
    "# Find the second predictor\n",
    "step_detail = pandas.DataFrame()"
   ]
  },
  {
   "cell_type": "code",
   "execution_count": 24,
   "id": "224a477a",
   "metadata": {},
   "outputs": [],
   "source": [
    "# Try Intercept + URBANICITY + MSTATUS\n",
    "X = X_train.join(term_mstatus)\n",
    "outList = Regression.PoissonModel(X, y_train, o_train_X)\n",
    "llk_1 = outList[3]\n",
    "df_1 = len(outList[4])\n",
    "\n",
    "deviance_chisq = 2 * (llk_1 - llk_0)\n",
    "deviance_df = df_1 - df_0\n",
    "deviance_sig = chi2.sf(deviance_chisq, deviance_df)\n",
    "step_detail = step_detail.append([['+ MVR_PTS + MSTATUS', df_1, llk_1, deviance_chisq, deviance_df, deviance_sig]], ignore_index = True)"
   ]
  },
  {
   "cell_type": "code",
   "execution_count": 25,
   "id": "08d92cfa",
   "metadata": {},
   "outputs": [],
   "source": [
    "# Try Intercept + URBANICITY + CAR_TYPE\n",
    "X = X_train.join(term_car_type)\n",
    "outList = Regression.PoissonModel(X, y_train, o_train_X)\n",
    "llk_1 = outList[3]\n",
    "df_1 = len(outList[4])\n",
    "\n",
    "deviance_chisq = 2 * (llk_1 - llk_0)\n",
    "deviance_df = df_1 - df_0\n",
    "deviance_sig = chi2.sf(deviance_chisq, deviance_df)\n",
    "step_detail = step_detail.append([['+ MVR_PTS + CAR_TYPE', df_1, llk_1, deviance_chisq, deviance_df, deviance_sig]], ignore_index = True)"
   ]
  },
  {
   "cell_type": "code",
   "execution_count": 26,
   "id": "dc10798c",
   "metadata": {},
   "outputs": [],
   "source": [
    "# Try Intercept + URBANICITY + HOMEKIDS\n",
    "X = X_train.join(term_homekids)\n",
    "outList = Regression.PoissonModel(X, y_train, o_train_X)\n",
    "llk_1 = outList[3]\n",
    "df_1 = len(outList[4])\n",
    "\n",
    "deviance_chisq = 2 * (llk_1 - llk_0)\n",
    "deviance_df = df_1 - df_0\n",
    "deviance_sig = chi2.sf(deviance_chisq, deviance_df)\n",
    "step_detail = step_detail.append([['+ MVR_PTS + HOMEKIDS', df_1, llk_1, deviance_chisq, deviance_df, deviance_sig]], ignore_index = True)"
   ]
  },
  {
   "cell_type": "code",
   "execution_count": 27,
   "id": "3706e27d",
   "metadata": {},
   "outputs": [],
   "source": [
    "# Try Intercept + URBANICITY + KIDSDRIV\n",
    "X = X_train.join(term_kidsdriv)\n",
    "outList = Regression.PoissonModel(X, y_train, o_train_X)\n",
    "llk_1 = outList[3]\n",
    "df_1 = len(outList[4])\n",
    "\n",
    "deviance_chisq = 2 * (llk_1 - llk_0)\n",
    "deviance_df = df_1 - df_0\n",
    "deviance_sig = chi2.sf(deviance_chisq, deviance_df)\n",
    "step_detail = step_detail.append([['+ MVR_PTS + KIDSDRIV', df_1, llk_1, deviance_chisq, deviance_df, deviance_sig]], ignore_index = True)"
   ]
  },
  {
   "cell_type": "code",
   "execution_count": 28,
   "id": "9b9aeadf",
   "metadata": {},
   "outputs": [],
   "source": [
    "# Try Intercept + URBANICITY + REVOKED\n",
    "X = X_train.join(term_revoked)\n",
    "outList = Regression.PoissonModel(X, y_train, o_train_X)\n",
    "llk_1 = outList[3]\n",
    "df_1 = len(outList[4])\n",
    "\n",
    "deviance_chisq = 2 * (llk_1 - llk_0)\n",
    "deviance_df = df_1 - df_0\n",
    "deviance_sig = chi2.sf(deviance_chisq, deviance_df)\n",
    "step_detail = step_detail.append([['+ MVR_PTS + REVOKED', df_1, llk_1, deviance_chisq, deviance_df, deviance_sig]], ignore_index = True)"
   ]
  },
  {
   "cell_type": "code",
   "execution_count": 29,
   "id": "9614f7f5",
   "metadata": {},
   "outputs": [],
   "source": [
    "# Try Intercept + URBANICITY + MVR_PTS \n",
    "X = X_train.join(term_mvr_pts)\n",
    "outList = Regression.PoissonModel(X, y_train, o_train_X)\n",
    "llk_1 = outList[3]\n",
    "df_1 = len(outList[4])\n",
    "\n",
    "deviance_chisq = 2 * (llk_1 - llk_0)\n",
    "deviance_df = df_1 - df_0\n",
    "deviance_sig = chi2.sf(deviance_chisq, deviance_df)\n",
    "step_detail = step_detail.append([['+ URBANICITY + MVR_PTS', df_1, llk_1, deviance_chisq, deviance_df, deviance_sig]], ignore_index = True)"
   ]
  },
  {
   "cell_type": "code",
   "execution_count": 30,
   "id": "7159fea2",
   "metadata": {},
   "outputs": [],
   "source": [
    "# Try Intercept + URBANICITY + CAR_AGE\n",
    "X = X_train.join(term_car_age)\n",
    "outList = Regression.PoissonModel(X, y_train, o_train_X)\n",
    "llk_1 = outList[3]\n",
    "df_1 = len(outList[4])\n",
    "\n",
    "deviance_chisq = 2 * (llk_1 - llk_0)\n",
    "deviance_df = df_1 - df_0\n",
    "deviance_sig = chi2.sf(deviance_chisq, deviance_df)\n",
    "step_detail = step_detail.append([['+ MVR_PTS + CAR_AGE', df_1, llk_1, deviance_chisq, deviance_df, deviance_sig]], ignore_index = True)"
   ]
  },
  {
   "cell_type": "code",
   "execution_count": 31,
   "id": "4a1e2d4e",
   "metadata": {},
   "outputs": [],
   "source": [
    "# Try Intercept + URBANICITY + TIF\n",
    "X = X_train.join(term_tif)\n",
    "outList = Regression.PoissonModel(X, y_train, o_train_X)\n",
    "llk_1 = outList[3]\n",
    "df_1 = len(outList[4])\n",
    "\n",
    "deviance_chisq = 2 * (llk_1 - llk_0)\n",
    "deviance_df = df_1 - df_0\n",
    "deviance_sig = chi2.sf(deviance_chisq, deviance_df)\n",
    "step_detail = step_detail.append([['+ MVR_PTS + TIF', df_1, llk_1, deviance_chisq, deviance_df, deviance_sig]], ignore_index = True)"
   ]
  },
  {
   "cell_type": "code",
   "execution_count": 32,
   "id": "c74c99db",
   "metadata": {},
   "outputs": [],
   "source": [
    "# Try Intercept + URBANICITY + TRAVTIME\n",
    "X = X_train.join(term_travtime)\n",
    "outList = Regression.PoissonModel(X, y_train, o_train_X)\n",
    "llk_1 = outList[3]\n",
    "df_1 = len(outList[4])\n",
    "\n",
    "deviance_chisq = 2 * (llk_1 - llk_0)\n",
    "deviance_df = df_1 - df_0\n",
    "deviance_sig = chi2.sf(deviance_chisq, deviance_df)\n",
    "step_detail = step_detail.append([['+ MVR_PTS + TRAVTIME', df_1, llk_1, deviance_chisq, deviance_df, deviance_sig]], ignore_index = True)"
   ]
  },
  {
   "cell_type": "code",
   "execution_count": 33,
   "id": "442e534c",
   "metadata": {},
   "outputs": [
    {
     "data": {
      "text/html": [
       "<div>\n",
       "<style scoped>\n",
       "    .dataframe tbody tr th:only-of-type {\n",
       "        vertical-align: middle;\n",
       "    }\n",
       "\n",
       "    .dataframe tbody tr th {\n",
       "        vertical-align: top;\n",
       "    }\n",
       "\n",
       "    .dataframe thead th {\n",
       "        text-align: right;\n",
       "    }\n",
       "</style>\n",
       "<table border=\"1\" class=\"dataframe\">\n",
       "  <thead>\n",
       "    <tr style=\"text-align: right;\">\n",
       "      <th></th>\n",
       "      <th>0</th>\n",
       "      <th>1</th>\n",
       "      <th>2</th>\n",
       "      <th>3</th>\n",
       "      <th>4</th>\n",
       "      <th>5</th>\n",
       "    </tr>\n",
       "  </thead>\n",
       "  <tbody>\n",
       "    <tr>\n",
       "      <th>0</th>\n",
       "      <td>+ MVR_PTS + MSTATUS</td>\n",
       "      <td>3</td>\n",
       "      <td>-1.6293921e+04</td>\n",
       "      <td>3.7396190e+02</td>\n",
       "      <td>1</td>\n",
       "      <td>2.5678957e-83</td>\n",
       "    </tr>\n",
       "    <tr>\n",
       "      <th>1</th>\n",
       "      <td>+ MVR_PTS + CAR_TYPE</td>\n",
       "      <td>7</td>\n",
       "      <td>-1.6240861e+04</td>\n",
       "      <td>4.8008250e+02</td>\n",
       "      <td>5</td>\n",
       "      <td>1.5882329e-101</td>\n",
       "    </tr>\n",
       "    <tr>\n",
       "      <th>2</th>\n",
       "      <td>+ MVR_PTS + HOMEKIDS</td>\n",
       "      <td>3</td>\n",
       "      <td>-1.6285360e+04</td>\n",
       "      <td>3.9108366e+02</td>\n",
       "      <td>1</td>\n",
       "      <td>4.8079930e-87</td>\n",
       "    </tr>\n",
       "    <tr>\n",
       "      <th>3</th>\n",
       "      <td>+ MVR_PTS + KIDSDRIV</td>\n",
       "      <td>3</td>\n",
       "      <td>-1.6341902e+04</td>\n",
       "      <td>2.7800065e+02</td>\n",
       "      <td>1</td>\n",
       "      <td>2.0478305e-62</td>\n",
       "    </tr>\n",
       "    <tr>\n",
       "      <th>4</th>\n",
       "      <td>+ MVR_PTS + REVOKED</td>\n",
       "      <td>3</td>\n",
       "      <td>-1.6306860e+04</td>\n",
       "      <td>3.4808329e+02</td>\n",
       "      <td>1</td>\n",
       "      <td>1.1079845e-77</td>\n",
       "    </tr>\n",
       "    <tr>\n",
       "      <th>5</th>\n",
       "      <td>+ URBANICITY + MVR_PTS</td>\n",
       "      <td>3</td>\n",
       "      <td>-1.6132234e+04</td>\n",
       "      <td>6.9733640e+02</td>\n",
       "      <td>1</td>\n",
       "      <td>1.1348123e-153</td>\n",
       "    </tr>\n",
       "    <tr>\n",
       "      <th>6</th>\n",
       "      <td>+ MVR_PTS + CAR_AGE</td>\n",
       "      <td>3</td>\n",
       "      <td>-1.6200237e+04</td>\n",
       "      <td>5.6132939e+02</td>\n",
       "      <td>1</td>\n",
       "      <td>4.3194961e-124</td>\n",
       "    </tr>\n",
       "    <tr>\n",
       "      <th>7</th>\n",
       "      <td>+ MVR_PTS + TIF</td>\n",
       "      <td>3</td>\n",
       "      <td>-1.6401737e+04</td>\n",
       "      <td>1.5833090e+02</td>\n",
       "      <td>1</td>\n",
       "      <td>2.6202162e-36</td>\n",
       "    </tr>\n",
       "    <tr>\n",
       "      <th>8</th>\n",
       "      <td>+ MVR_PTS + TRAVTIME</td>\n",
       "      <td>3</td>\n",
       "      <td>-1.6364951e+04</td>\n",
       "      <td>2.3190220e+02</td>\n",
       "      <td>1</td>\n",
       "      <td>2.2935630e-52</td>\n",
       "    </tr>\n",
       "  </tbody>\n",
       "</table>\n",
       "</div>"
      ],
      "text/plain": [
       "                        0  1              2             3  4              5\n",
       "0     + MVR_PTS + MSTATUS  3 -1.6293921e+04 3.7396190e+02  1  2.5678957e-83\n",
       "1    + MVR_PTS + CAR_TYPE  7 -1.6240861e+04 4.8008250e+02  5 1.5882329e-101\n",
       "2    + MVR_PTS + HOMEKIDS  3 -1.6285360e+04 3.9108366e+02  1  4.8079930e-87\n",
       "3    + MVR_PTS + KIDSDRIV  3 -1.6341902e+04 2.7800065e+02  1  2.0478305e-62\n",
       "4     + MVR_PTS + REVOKED  3 -1.6306860e+04 3.4808329e+02  1  1.1079845e-77\n",
       "5  + URBANICITY + MVR_PTS  3 -1.6132234e+04 6.9733640e+02  1 1.1348123e-153\n",
       "6     + MVR_PTS + CAR_AGE  3 -1.6200237e+04 5.6132939e+02  1 4.3194961e-124\n",
       "7         + MVR_PTS + TIF  3 -1.6401737e+04 1.5833090e+02  1  2.6202162e-36\n",
       "8    + MVR_PTS + TRAVTIME  3 -1.6364951e+04 2.3190220e+02  1  2.2935630e-52"
      ]
     },
     "execution_count": 33,
     "metadata": {},
     "output_type": "execute_result"
    }
   ],
   "source": [
    "step_detail"
   ]
  },
  {
   "cell_type": "markdown",
   "id": "fe3dafdb",
   "metadata": {},
   "source": [
    "#### Insert MVR_PTS for the second predictor"
   ]
  },
  {
   "cell_type": "code",
   "execution_count": 34,
   "id": "ba30dba8",
   "metadata": {},
   "outputs": [],
   "source": [
    "# Current model is Intercept + URBANICITY + MVR_PTS \n",
    "row = step_detail[step_detail[0] == '+ URBANICITY + MVR_PTS']\n",
    "llk_0 = row.iloc[0][2]\n",
    "df_0 = row.iloc[0][1]\n",
    "step_summary = step_summary.append(row, ignore_index = True)\n",
    "X_train = X_train.join(term_mvr_pts)"
   ]
  },
  {
   "cell_type": "code",
   "execution_count": 35,
   "id": "ae07277d",
   "metadata": {},
   "outputs": [
    {
     "data": {
      "text/html": [
       "<div>\n",
       "<style scoped>\n",
       "    .dataframe tbody tr th:only-of-type {\n",
       "        vertical-align: middle;\n",
       "    }\n",
       "\n",
       "    .dataframe tbody tr th {\n",
       "        vertical-align: top;\n",
       "    }\n",
       "\n",
       "    .dataframe thead th {\n",
       "        text-align: right;\n",
       "    }\n",
       "</style>\n",
       "<table border=\"1\" class=\"dataframe\">\n",
       "  <thead>\n",
       "    <tr style=\"text-align: right;\">\n",
       "      <th></th>\n",
       "      <th>0</th>\n",
       "      <th>1</th>\n",
       "      <th>2</th>\n",
       "      <th>3</th>\n",
       "      <th>4</th>\n",
       "      <th>5</th>\n",
       "    </tr>\n",
       "  </thead>\n",
       "  <tbody>\n",
       "    <tr>\n",
       "      <th>0</th>\n",
       "      <td>Intercept</td>\n",
       "      <td>1</td>\n",
       "      <td>-1.7324418e+04</td>\n",
       "      <td>NaN</td>\n",
       "      <td>NaN</td>\n",
       "      <td>NaN</td>\n",
       "    </tr>\n",
       "    <tr>\n",
       "      <th>1</th>\n",
       "      <td>+ URBANICITY</td>\n",
       "      <td>2</td>\n",
       "      <td>-1.6480902e+04</td>\n",
       "      <td>1.6870313e+03</td>\n",
       "      <td>1.0000000e+00</td>\n",
       "      <td>0.0000000e+00</td>\n",
       "    </tr>\n",
       "    <tr>\n",
       "      <th>2</th>\n",
       "      <td>+ URBANICITY + MVR_PTS</td>\n",
       "      <td>3</td>\n",
       "      <td>-1.6132234e+04</td>\n",
       "      <td>6.9733640e+02</td>\n",
       "      <td>1.0000000e+00</td>\n",
       "      <td>1.1348123e-153</td>\n",
       "    </tr>\n",
       "  </tbody>\n",
       "</table>\n",
       "</div>"
      ],
      "text/plain": [
       "                        0  1              2             3             4              5\n",
       "0               Intercept  1 -1.7324418e+04           NaN           NaN            NaN\n",
       "1            + URBANICITY  2 -1.6480902e+04 1.6870313e+03 1.0000000e+00  0.0000000e+00\n",
       "2  + URBANICITY + MVR_PTS  3 -1.6132234e+04 6.9733640e+02 1.0000000e+00 1.1348123e-153"
      ]
     },
     "execution_count": 35,
     "metadata": {},
     "output_type": "execute_result"
    }
   ],
   "source": [
    "step_summary"
   ]
  },
  {
   "cell_type": "markdown",
   "id": "00277900",
   "metadata": {},
   "source": [
    "### Find the third predictor"
   ]
  },
  {
   "cell_type": "code",
   "execution_count": 36,
   "id": "b3a50e57",
   "metadata": {},
   "outputs": [],
   "source": [
    "# Find the third predictor\n",
    "step_detail = pandas.DataFrame()"
   ]
  },
  {
   "cell_type": "code",
   "execution_count": 37,
   "id": "9e196c30",
   "metadata": {},
   "outputs": [],
   "source": [
    "# Try Intercept + URBANICITY + MVR_PTS  + MSTATUS\n",
    "X = X_train.join(term_mstatus)\n",
    "outList = Regression.PoissonModel(X, y_train, o_train_X)\n",
    "llk_1 = outList[3]\n",
    "df_1 = len(outList[4])\n",
    "\n",
    "deviance_chisq = 2 * (llk_1 - llk_0)\n",
    "deviance_df = df_1 - df_0\n",
    "deviance_sig = chi2.sf(deviance_chisq, deviance_df)\n",
    "step_detail = step_detail.append([['+ URBANICITY + MVR_PTS  + MSTATUS', df_1, llk_1, deviance_chisq, deviance_df, deviance_sig]], ignore_index = True)"
   ]
  },
  {
   "cell_type": "code",
   "execution_count": 38,
   "id": "e261366d",
   "metadata": {},
   "outputs": [],
   "source": [
    "# Try Intercept + URBANICITY + MVR_PTS  + CAR_TYPE\n",
    "X = X_train.join(term_car_type)\n",
    "outList = Regression.PoissonModel(X, y_train, o_train_X)\n",
    "llk_1 = outList[3]\n",
    "df_1 = len(outList[4])\n",
    "\n",
    "deviance_chisq = 2 * (llk_1 - llk_0)\n",
    "deviance_df = df_1 - df_0\n",
    "deviance_sig = chi2.sf(deviance_chisq, deviance_df)\n",
    "step_detail = step_detail.append([['+ URBANICITY + MVR_PTS  + CAR_TYPE', df_1, llk_1, deviance_chisq, deviance_df, deviance_sig]], ignore_index = True)"
   ]
  },
  {
   "cell_type": "code",
   "execution_count": 39,
   "id": "cbf89f5b",
   "metadata": {},
   "outputs": [],
   "source": [
    "# Try Intercept + URBANICITY + MVR_PTS  + HOMEKIDS\n",
    "X = X_train.join(term_homekids)\n",
    "outList = Regression.PoissonModel(X, y_train, o_train_X)\n",
    "llk_1 = outList[3]\n",
    "df_1 = len(outList[4])\n",
    "\n",
    "deviance_chisq = 2 * (llk_1 - llk_0)\n",
    "deviance_df = df_1 - df_0\n",
    "deviance_sig = chi2.sf(deviance_chisq, deviance_df)\n",
    "step_detail = step_detail.append([['+ URBANICITY + MVR_PTS  + HOMEKIDS', df_1, llk_1, deviance_chisq, deviance_df, deviance_sig]], ignore_index = True)"
   ]
  },
  {
   "cell_type": "code",
   "execution_count": 40,
   "id": "c1bd4bf5",
   "metadata": {},
   "outputs": [],
   "source": [
    "# Try Intercept + URBANICITY + MVR_PTS + URBANICITY + KIDSDRIV\n",
    "X = X_train.join(term_kidsdriv)\n",
    "outList = Regression.PoissonModel(X, y_train, o_train_X)\n",
    "llk_1 = outList[3]\n",
    "df_1 = len(outList[4])\n",
    "\n",
    "deviance_chisq = 2 * (llk_1 - llk_0)\n",
    "deviance_df = df_1 - df_0\n",
    "deviance_sig = chi2.sf(deviance_chisq, deviance_df)\n",
    "step_detail = step_detail.append([['+ URBANICITY + MVR_PTS + URBANICITY + KIDSDRIV', df_1, llk_1, deviance_chisq, deviance_df, deviance_sig]], ignore_index = True)"
   ]
  },
  {
   "cell_type": "code",
   "execution_count": 41,
   "id": "e1d22105",
   "metadata": {},
   "outputs": [],
   "source": [
    "# Try Intercept + URBANICITY + MVR_PTS  + REVOKED\n",
    "X = X_train.join(term_revoked)\n",
    "outList = Regression.PoissonModel(X, y_train, o_train_X)\n",
    "llk_1 = outList[3]\n",
    "df_1 = len(outList[4])\n",
    "\n",
    "deviance_chisq = 2 * (llk_1 - llk_0)\n",
    "deviance_df = df_1 - df_0\n",
    "deviance_sig = chi2.sf(deviance_chisq, deviance_df)\n",
    "step_detail = step_detail.append([['+ URBANICITY + MVR_PTS  + REVOKED', df_1, llk_1, deviance_chisq, deviance_df, deviance_sig]], ignore_index = True)"
   ]
  },
  {
   "cell_type": "code",
   "execution_count": 51,
   "id": "9cb9ab33",
   "metadata": {},
   "outputs": [],
   "source": [
    "# Try Intercept + URBANICITY + MVR_PTS + CAR_AGE\n",
    "X = X_train.join(term_car_age)\n",
    "outList = Regression.PoissonModel(X, y_train, o_train_X)\n",
    "llk_1 = outList[3]\n",
    "df_1 = len(outList[4])\n",
    "\n",
    "deviance_chisq = 2 * (llk_1 - llk_0)\n",
    "deviance_df = df_1 - df_0\n",
    "deviance_sig = chi2.sf(deviance_chisq, deviance_df)\n",
    "step_detail = step_detail.append([['+ URBANICITY + MVR_PTS + CAR_AGE', df_1, llk_1, deviance_chisq, deviance_df, deviance_sig]], ignore_index = True)"
   ]
  },
  {
   "cell_type": "code",
   "execution_count": 52,
   "id": "b230b6b8",
   "metadata": {},
   "outputs": [],
   "source": [
    "# Try Intercept + URBANICITY + MVR_PTS + URBANICITY + TIF\n",
    "X = X_train.join(term_tif)\n",
    "outList = Regression.PoissonModel(X, y_train, o_train_X)\n",
    "llk_1 = outList[3]\n",
    "df_1 = len(outList[4])\n",
    "\n",
    "deviance_chisq = 2 * (llk_1 - llk_0)\n",
    "deviance_df = df_1 - df_0\n",
    "deviance_sig = chi2.sf(deviance_chisq, deviance_df)\n",
    "step_detail = step_detail.append([['+ URBANICITY + MVR_PTS + URBANICITY + TIF', df_1, llk_1, deviance_chisq, deviance_df, deviance_sig]], ignore_index = True)"
   ]
  },
  {
   "cell_type": "code",
   "execution_count": 53,
   "id": "5877d18e",
   "metadata": {},
   "outputs": [],
   "source": [
    "# Try Intercept + URBANICITY + URBANICITY + TRAVTIME\n",
    "X = X_train.join(term_travtime)\n",
    "outList = Regression.PoissonModel(X, y_train, o_train_X)\n",
    "llk_1 = outList[3]\n",
    "df_1 = len(outList[4])\n",
    "\n",
    "deviance_chisq = 2 * (llk_1 - llk_0)\n",
    "deviance_df = df_1 - df_0\n",
    "deviance_sig = chi2.sf(deviance_chisq, deviance_df)\n",
    "step_detail = step_detail.append([['+ URBANICITY + URBANICITY + TRAVTIME', df_1, llk_1, deviance_chisq, deviance_df, deviance_sig]], ignore_index = True)"
   ]
  },
  {
   "cell_type": "code",
   "execution_count": 54,
   "id": "af72a35e",
   "metadata": {},
   "outputs": [
    {
     "data": {
      "text/html": [
       "<div>\n",
       "<style scoped>\n",
       "    .dataframe tbody tr th:only-of-type {\n",
       "        vertical-align: middle;\n",
       "    }\n",
       "\n",
       "    .dataframe tbody tr th {\n",
       "        vertical-align: top;\n",
       "    }\n",
       "\n",
       "    .dataframe thead th {\n",
       "        text-align: right;\n",
       "    }\n",
       "</style>\n",
       "<table border=\"1\" class=\"dataframe\">\n",
       "  <thead>\n",
       "    <tr style=\"text-align: right;\">\n",
       "      <th></th>\n",
       "      <th>0</th>\n",
       "      <th>1</th>\n",
       "      <th>2</th>\n",
       "      <th>3</th>\n",
       "      <th>4</th>\n",
       "      <th>5</th>\n",
       "    </tr>\n",
       "  </thead>\n",
       "  <tbody>\n",
       "    <tr>\n",
       "      <th>0</th>\n",
       "      <td>+ MVR_PTS + URBANICITY + MSTATUS</td>\n",
       "      <td>4</td>\n",
       "      <td>-1.5975215e+04</td>\n",
       "      <td>3.1403717e+02</td>\n",
       "      <td>1</td>\n",
       "      <td>2.8825236e-70</td>\n",
       "    </tr>\n",
       "    <tr>\n",
       "      <th>1</th>\n",
       "      <td>+ URBANICITY + MVR_PTS  + CAR_TYPE</td>\n",
       "      <td>8</td>\n",
       "      <td>-1.5932299e+04</td>\n",
       "      <td>3.9987010e+02</td>\n",
       "      <td>5</td>\n",
       "      <td>3.1641902e-84</td>\n",
       "    </tr>\n",
       "    <tr>\n",
       "      <th>2</th>\n",
       "      <td>+ URBANICITY + MVR_PTS  + HOMEKIDS</td>\n",
       "      <td>4</td>\n",
       "      <td>-1.5982629e+04</td>\n",
       "      <td>2.9921031e+02</td>\n",
       "      <td>1</td>\n",
       "      <td>4.8957574e-67</td>\n",
       "    </tr>\n",
       "    <tr>\n",
       "      <th>3</th>\n",
       "      <td>+ URBANICITY + MVR_PTS + URBANICITY + KIDSDRIV</td>\n",
       "      <td>4</td>\n",
       "      <td>-1.6021390e+04</td>\n",
       "      <td>2.2168679e+02</td>\n",
       "      <td>1</td>\n",
       "      <td>3.8766688e-50</td>\n",
       "    </tr>\n",
       "    <tr>\n",
       "      <th>4</th>\n",
       "      <td>+ URBANICITY + MVR_PTS  + REVOKED</td>\n",
       "      <td>4</td>\n",
       "      <td>-1.5975839e+04</td>\n",
       "      <td>3.1278936e+02</td>\n",
       "      <td>1</td>\n",
       "      <td>5.3900256e-70</td>\n",
       "    </tr>\n",
       "    <tr>\n",
       "      <th>5</th>\n",
       "      <td>+ URBANICITY + MVR_PTS + CAR_AGE</td>\n",
       "      <td>4</td>\n",
       "      <td>-1.5898009e+04</td>\n",
       "      <td>4.6844946e+02</td>\n",
       "      <td>1</td>\n",
       "      <td>6.9691259e-104</td>\n",
       "    </tr>\n",
       "    <tr>\n",
       "      <th>6</th>\n",
       "      <td>+ MVR_PTS + URBANICITY + TIF</td>\n",
       "      <td>4</td>\n",
       "      <td>-1.6062675e+04</td>\n",
       "      <td>1.3911847e+02</td>\n",
       "      <td>1</td>\n",
       "      <td>4.1494372e-32</td>\n",
       "    </tr>\n",
       "    <tr>\n",
       "      <th>7</th>\n",
       "      <td>+ MVR_PTS + URBANICITY + TRAVTIME</td>\n",
       "      <td>4</td>\n",
       "      <td>-1.6034452e+04</td>\n",
       "      <td>1.9556367e+02</td>\n",
       "      <td>1</td>\n",
       "      <td>1.9408438e-44</td>\n",
       "    </tr>\n",
       "    <tr>\n",
       "      <th>8</th>\n",
       "      <td>+ URBANICITY + MVR_PTS + CAR_AGE</td>\n",
       "      <td>4</td>\n",
       "      <td>-1.5898009e+04</td>\n",
       "      <td>4.6844946e+02</td>\n",
       "      <td>1</td>\n",
       "      <td>6.9691259e-104</td>\n",
       "    </tr>\n",
       "    <tr>\n",
       "      <th>9</th>\n",
       "      <td>+ URBANICITY + MVR_PTS + URBANICITY + TIF</td>\n",
       "      <td>4</td>\n",
       "      <td>-1.6062675e+04</td>\n",
       "      <td>1.3911847e+02</td>\n",
       "      <td>1</td>\n",
       "      <td>4.1494372e-32</td>\n",
       "    </tr>\n",
       "    <tr>\n",
       "      <th>10</th>\n",
       "      <td>+ URBANICITY + URBANICITY + TRAVTIME</td>\n",
       "      <td>4</td>\n",
       "      <td>-1.6034452e+04</td>\n",
       "      <td>1.9556367e+02</td>\n",
       "      <td>1</td>\n",
       "      <td>1.9408438e-44</td>\n",
       "    </tr>\n",
       "  </tbody>\n",
       "</table>\n",
       "</div>"
      ],
      "text/plain": [
       "                                                 0  1              2             3  4              5\n",
       "0                 + MVR_PTS + URBANICITY + MSTATUS  4 -1.5975215e+04 3.1403717e+02  1  2.8825236e-70\n",
       "1               + URBANICITY + MVR_PTS  + CAR_TYPE  8 -1.5932299e+04 3.9987010e+02  5  3.1641902e-84\n",
       "2               + URBANICITY + MVR_PTS  + HOMEKIDS  4 -1.5982629e+04 2.9921031e+02  1  4.8957574e-67\n",
       "3   + URBANICITY + MVR_PTS + URBANICITY + KIDSDRIV  4 -1.6021390e+04 2.2168679e+02  1  3.8766688e-50\n",
       "4                + URBANICITY + MVR_PTS  + REVOKED  4 -1.5975839e+04 3.1278936e+02  1  5.3900256e-70\n",
       "5                 + URBANICITY + MVR_PTS + CAR_AGE  4 -1.5898009e+04 4.6844946e+02  1 6.9691259e-104\n",
       "6                     + MVR_PTS + URBANICITY + TIF  4 -1.6062675e+04 1.3911847e+02  1  4.1494372e-32\n",
       "7                + MVR_PTS + URBANICITY + TRAVTIME  4 -1.6034452e+04 1.9556367e+02  1  1.9408438e-44\n",
       "8                 + URBANICITY + MVR_PTS + CAR_AGE  4 -1.5898009e+04 4.6844946e+02  1 6.9691259e-104\n",
       "9        + URBANICITY + MVR_PTS + URBANICITY + TIF  4 -1.6062675e+04 1.3911847e+02  1  4.1494372e-32\n",
       "10            + URBANICITY + URBANICITY + TRAVTIME  4 -1.6034452e+04 1.9556367e+02  1  1.9408438e-44"
      ]
     },
     "execution_count": 54,
     "metadata": {},
     "output_type": "execute_result"
    }
   ],
   "source": [
    "step_detail"
   ]
  },
  {
   "cell_type": "markdown",
   "id": "5d2a499d",
   "metadata": {},
   "source": [
    "#### Insert CAR_AGE as the third predictor"
   ]
  },
  {
   "cell_type": "code",
   "execution_count": 55,
   "id": "877bf70d",
   "metadata": {},
   "outputs": [],
   "source": [
    "# Current model is Intercept + URBANICITY + MVR_PTS  + CAR_AGE\n",
    "row = step_detail[step_detail[0] == '+ URBANICITY + MVR_PTS + CAR_AGE']\n",
    "llk_0 = row.iloc[0][2]\n",
    "df_0 = row.iloc[0][1]\n",
    "step_summary = step_summary.append(row, ignore_index = True)\n",
    "X_train = X_train.join(term_car_age)"
   ]
  },
  {
   "cell_type": "code",
   "execution_count": 56,
   "id": "706b8cb6",
   "metadata": {},
   "outputs": [
    {
     "data": {
      "text/html": [
       "<div>\n",
       "<style scoped>\n",
       "    .dataframe tbody tr th:only-of-type {\n",
       "        vertical-align: middle;\n",
       "    }\n",
       "\n",
       "    .dataframe tbody tr th {\n",
       "        vertical-align: top;\n",
       "    }\n",
       "\n",
       "    .dataframe thead th {\n",
       "        text-align: right;\n",
       "    }\n",
       "</style>\n",
       "<table border=\"1\" class=\"dataframe\">\n",
       "  <thead>\n",
       "    <tr style=\"text-align: right;\">\n",
       "      <th></th>\n",
       "      <th>0</th>\n",
       "      <th>1</th>\n",
       "      <th>2</th>\n",
       "      <th>3</th>\n",
       "      <th>4</th>\n",
       "      <th>5</th>\n",
       "    </tr>\n",
       "  </thead>\n",
       "  <tbody>\n",
       "    <tr>\n",
       "      <th>0</th>\n",
       "      <td>Intercept</td>\n",
       "      <td>1</td>\n",
       "      <td>-1.7324418e+04</td>\n",
       "      <td>NaN</td>\n",
       "      <td>NaN</td>\n",
       "      <td>NaN</td>\n",
       "    </tr>\n",
       "    <tr>\n",
       "      <th>1</th>\n",
       "      <td>+ URBANICITY</td>\n",
       "      <td>2</td>\n",
       "      <td>-1.6480902e+04</td>\n",
       "      <td>1.6870313e+03</td>\n",
       "      <td>1.0000000e+00</td>\n",
       "      <td>0.0000000e+00</td>\n",
       "    </tr>\n",
       "    <tr>\n",
       "      <th>2</th>\n",
       "      <td>+ URBANICITY + MVR_PTS</td>\n",
       "      <td>3</td>\n",
       "      <td>-1.6132234e+04</td>\n",
       "      <td>6.9733640e+02</td>\n",
       "      <td>1.0000000e+00</td>\n",
       "      <td>1.1348123e-153</td>\n",
       "    </tr>\n",
       "    <tr>\n",
       "      <th>3</th>\n",
       "      <td>+ URBANICITY + MVR_PTS + CAR_AGE</td>\n",
       "      <td>4</td>\n",
       "      <td>-1.5898009e+04</td>\n",
       "      <td>4.6844946e+02</td>\n",
       "      <td>1.0000000e+00</td>\n",
       "      <td>6.9691259e-104</td>\n",
       "    </tr>\n",
       "    <tr>\n",
       "      <th>4</th>\n",
       "      <td>+ URBANICITY + MVR_PTS + CAR_AGE</td>\n",
       "      <td>4</td>\n",
       "      <td>-1.5898009e+04</td>\n",
       "      <td>4.6844946e+02</td>\n",
       "      <td>1.0000000e+00</td>\n",
       "      <td>6.9691259e-104</td>\n",
       "    </tr>\n",
       "  </tbody>\n",
       "</table>\n",
       "</div>"
      ],
      "text/plain": [
       "                                  0  1              2             3             4              5\n",
       "0                         Intercept  1 -1.7324418e+04           NaN           NaN            NaN\n",
       "1                      + URBANICITY  2 -1.6480902e+04 1.6870313e+03 1.0000000e+00  0.0000000e+00\n",
       "2            + URBANICITY + MVR_PTS  3 -1.6132234e+04 6.9733640e+02 1.0000000e+00 1.1348123e-153\n",
       "3  + URBANICITY + MVR_PTS + CAR_AGE  4 -1.5898009e+04 4.6844946e+02 1.0000000e+00 6.9691259e-104\n",
       "4  + URBANICITY + MVR_PTS + CAR_AGE  4 -1.5898009e+04 4.6844946e+02 1.0000000e+00 6.9691259e-104"
      ]
     },
     "execution_count": 56,
     "metadata": {},
     "output_type": "execute_result"
    }
   ],
   "source": [
    "step_summary"
   ]
  },
  {
   "cell_type": "markdown",
   "id": "908ac8f8",
   "metadata": {},
   "source": [
    "### Find the fourth predictor"
   ]
  },
  {
   "cell_type": "code",
   "execution_count": 57,
   "id": "367fbd73",
   "metadata": {},
   "outputs": [],
   "source": [
    "step_detail = pandas.DataFrame()"
   ]
  },
  {
   "cell_type": "code",
   "execution_count": 58,
   "id": "0cbcb5b3",
   "metadata": {},
   "outputs": [],
   "source": [
    "# Try Intercept + URBANICITY + MVR_PTS  + CAR_AGE + MSTATUS\n",
    "X = X_train.join(term_mstatus)\n",
    "outList = Regression.PoissonModel(X, y_train, o_train_X)\n",
    "llk_1 = outList[3]\n",
    "df_1 = len(outList[4])\n",
    "\n",
    "deviance_chisq = 2 * (llk_1 - llk_0)\n",
    "deviance_df = df_1 - df_0\n",
    "deviance_sig = chi2.sf(deviance_chisq, deviance_df)\n",
    "step_detail = step_detail.append([['+ URBANICITY + MVR_PTS  + CAR_AGE + MSTATUS', df_1, llk_1, deviance_chisq, deviance_df, deviance_sig]], ignore_index = True)"
   ]
  },
  {
   "cell_type": "code",
   "execution_count": 59,
   "id": "8d09a9c0",
   "metadata": {},
   "outputs": [],
   "source": [
    "# Try Intercept + URBANICITY + MVR_PTS + CAR_AGE + CAR_TYPE\n",
    "X = X_train.join(term_car_type)\n",
    "outList = Regression.PoissonModel(X, y_train, o_train_X)\n",
    "llk_1 = outList[3]\n",
    "df_1 = len(outList[4])\n",
    "\n",
    "deviance_chisq = 2 * (llk_1 - llk_0)\n",
    "deviance_df = df_1 - df_0\n",
    "deviance_sig = chi2.sf(deviance_chisq, deviance_df)\n",
    "step_detail = step_detail.append([['+ URBANICITY + MVR_PTS + CAR_AGE + CAR_TYPE', df_1, llk_1, deviance_chisq, deviance_df, deviance_sig]], ignore_index = True)"
   ]
  },
  {
   "cell_type": "code",
   "execution_count": 60,
   "id": "3ede8dd2",
   "metadata": {},
   "outputs": [],
   "source": [
    "# Try Intercept + URBANICITY + MVR_PTS + CAR_AGE + HOMEKIDS\n",
    "X = X_train.join(term_homekids)\n",
    "outList = Regression.PoissonModel(X, y_train, o_train_X)\n",
    "llk_1 = outList[3]\n",
    "df_1 = len(outList[4])\n",
    "\n",
    "deviance_chisq = 2 * (llk_1 - llk_0)\n",
    "deviance_df = df_1 - df_0\n",
    "deviance_sig = chi2.sf(deviance_chisq, deviance_df)\n",
    "step_detail = step_detail.append([['+ URBANICITY + MVR_PTS + CAR_AGE + HOMEKIDS', df_1, llk_1, deviance_chisq, deviance_df, deviance_sig]], ignore_index = True)"
   ]
  },
  {
   "cell_type": "code",
   "execution_count": 61,
   "id": "b521dc90",
   "metadata": {},
   "outputs": [],
   "source": [
    "# Try Intercept + URBANICITY + MVR_PTS  + CAR_AGE + KIDSDRIV\n",
    "X = X_train.join(term_kidsdriv)\n",
    "outList = Regression.PoissonModel(X, y_train, o_train_X)\n",
    "llk_1 = outList[3]\n",
    "df_1 = len(outList[4])\n",
    "\n",
    "deviance_chisq = 2 * (llk_1 - llk_0)\n",
    "deviance_df = df_1 - df_0\n",
    "deviance_sig = chi2.sf(deviance_chisq, deviance_df)\n",
    "step_detail = step_detail.append([['+ URBANICITY + MVR_PTS  + CAR_AGE + KIDSDRIV', df_1, llk_1, deviance_chisq, deviance_df, deviance_sig]], ignore_index = True)"
   ]
  },
  {
   "cell_type": "code",
   "execution_count": 62,
   "id": "db2b4ed8",
   "metadata": {},
   "outputs": [],
   "source": [
    "# Try Intercept + URBANICITY + MVR_PTS  + CAR_AGE + REVOKED\n",
    "X = X_train.join(term_revoked)\n",
    "outList = Regression.PoissonModel(X, y_train, o_train_X)\n",
    "llk_1 = outList[3]\n",
    "df_1 = len(outList[4])\n",
    "\n",
    "deviance_chisq = 2 * (llk_1 - llk_0)\n",
    "deviance_df = df_1 - df_0\n",
    "deviance_sig = chi2.sf(deviance_chisq, deviance_df)\n",
    "step_detail = step_detail.append([['+ URBANICITY + MVR_PTS  + CAR_AGE + REVOKED', df_1, llk_1, deviance_chisq, deviance_df, deviance_sig]], ignore_index = True)"
   ]
  },
  {
   "cell_type": "code",
   "execution_count": 63,
   "id": "8abe6ac1",
   "metadata": {},
   "outputs": [],
   "source": [
    "# Try Intercept+ URBANICITY + MVR_PTS  + CAR_AGE + TIF\n",
    "X = X_train.join(term_tif)\n",
    "outList = Regression.PoissonModel(X, y_train, o_train_X)\n",
    "llk_1 = outList[3]\n",
    "df_1 = len(outList[4])\n",
    "\n",
    "deviance_chisq = 2 * (llk_1 - llk_0)\n",
    "deviance_df = df_1 - df_0\n",
    "deviance_sig = chi2.sf(deviance_chisq, deviance_df)\n",
    "step_detail = step_detail.append([['+ URBANICITY + MVR_PTS  + CAR_AGE + TIF', df_1, llk_1, deviance_chisq, deviance_df, deviance_sig]], ignore_index = True)"
   ]
  },
  {
   "cell_type": "code",
   "execution_count": 64,
   "id": "77992a53",
   "metadata": {},
   "outputs": [],
   "source": [
    "# Try Intercept + URBANICITY + MVR_PTS  + CAR_AGE + TRAVTIME\n",
    "X = X_train.join(term_travtime)\n",
    "outList = Regression.PoissonModel(X, y_train, o_train_X)\n",
    "llk_1 = outList[3]\n",
    "df_1 = len(outList[4])\n",
    "\n",
    "deviance_chisq = 2 * (llk_1 - llk_0)\n",
    "deviance_df = df_1 - df_0\n",
    "deviance_sig = chi2.sf(deviance_chisq, deviance_df)\n",
    "step_detail = step_detail.append([['+ URBANICITY + MVR_PTS  + CAR_AGE + TRAVTIME', df_1, llk_1, deviance_chisq, deviance_df, deviance_sig]], ignore_index = True)"
   ]
  },
  {
   "cell_type": "code",
   "execution_count": 69,
   "id": "e1ff1ed0",
   "metadata": {},
   "outputs": [
    {
     "data": {
      "text/html": [
       "<div>\n",
       "<style scoped>\n",
       "    .dataframe tbody tr th:only-of-type {\n",
       "        vertical-align: middle;\n",
       "    }\n",
       "\n",
       "    .dataframe tbody tr th {\n",
       "        vertical-align: top;\n",
       "    }\n",
       "\n",
       "    .dataframe thead th {\n",
       "        text-align: right;\n",
       "    }\n",
       "</style>\n",
       "<table border=\"1\" class=\"dataframe\">\n",
       "  <thead>\n",
       "    <tr style=\"text-align: right;\">\n",
       "      <th></th>\n",
       "      <th>0</th>\n",
       "      <th>1</th>\n",
       "      <th>2</th>\n",
       "      <th>3</th>\n",
       "      <th>4</th>\n",
       "      <th>5</th>\n",
       "    </tr>\n",
       "  </thead>\n",
       "  <tbody>\n",
       "    <tr>\n",
       "      <th>0</th>\n",
       "      <td>+ URBANICITY + MVR_PTS  + CAR_AGE + MSTATUS</td>\n",
       "      <td>5</td>\n",
       "      <td>-1.5720053e+04</td>\n",
       "      <td>3.5591160e+02</td>\n",
       "      <td>1</td>\n",
       "      <td>2.1869339e-79</td>\n",
       "    </tr>\n",
       "    <tr>\n",
       "      <th>1</th>\n",
       "      <td>+ URBANICITY + MVR_PTS  + CAR_AGE + CAR_TYPE</td>\n",
       "      <td>9</td>\n",
       "      <td>-1.5722310e+04</td>\n",
       "      <td>3.5139907e+02</td>\n",
       "      <td>5</td>\n",
       "      <td>8.7474772e-74</td>\n",
       "    </tr>\n",
       "    <tr>\n",
       "      <th>2</th>\n",
       "      <td>+ URBANICITY + MVR_PTS + CAR_AGE + HOMEKIDS</td>\n",
       "      <td>5</td>\n",
       "      <td>-1.5800190e+04</td>\n",
       "      <td>1.9563899e+02</td>\n",
       "      <td>1</td>\n",
       "      <td>1.8687564e-44</td>\n",
       "    </tr>\n",
       "    <tr>\n",
       "      <th>3</th>\n",
       "      <td>+ URBANICITY + MVR_PTS  + CAR_AGE + KIDSDRIV</td>\n",
       "      <td>5</td>\n",
       "      <td>-1.5800253e+04</td>\n",
       "      <td>1.9551138e+02</td>\n",
       "      <td>1</td>\n",
       "      <td>1.9925214e-44</td>\n",
       "    </tr>\n",
       "    <tr>\n",
       "      <th>4</th>\n",
       "      <td>+ URBANICITY + MVR_PTS  + CAR_AGE + REVOKED</td>\n",
       "      <td>5</td>\n",
       "      <td>-1.5752249e+04</td>\n",
       "      <td>2.9152012e+02</td>\n",
       "      <td>1</td>\n",
       "      <td>2.3192087e-65</td>\n",
       "    </tr>\n",
       "    <tr>\n",
       "      <th>5</th>\n",
       "      <td>+ URBANICITY + MVR_PTS  + CAR_AGE + TIF</td>\n",
       "      <td>5</td>\n",
       "      <td>-1.5831659e+04</td>\n",
       "      <td>1.3269945e+02</td>\n",
       "      <td>1</td>\n",
       "      <td>1.0518942e-30</td>\n",
       "    </tr>\n",
       "    <tr>\n",
       "      <th>6</th>\n",
       "      <td>+ URBANICITY + MVR_PTS  + CAR_AGE + TRAVTIME</td>\n",
       "      <td>5</td>\n",
       "      <td>-1.5799473e+04</td>\n",
       "      <td>1.9707190e+02</td>\n",
       "      <td>1</td>\n",
       "      <td>9.0956166e-45</td>\n",
       "    </tr>\n",
       "  </tbody>\n",
       "</table>\n",
       "</div>"
      ],
      "text/plain": [
       "                                              0  1              2             3  4             5\n",
       "0   + URBANICITY + MVR_PTS  + CAR_AGE + MSTATUS  5 -1.5720053e+04 3.5591160e+02  1 2.1869339e-79\n",
       "1  + URBANICITY + MVR_PTS  + CAR_AGE + CAR_TYPE  9 -1.5722310e+04 3.5139907e+02  5 8.7474772e-74\n",
       "2   + URBANICITY + MVR_PTS + CAR_AGE + HOMEKIDS  5 -1.5800190e+04 1.9563899e+02  1 1.8687564e-44\n",
       "3  + URBANICITY + MVR_PTS  + CAR_AGE + KIDSDRIV  5 -1.5800253e+04 1.9551138e+02  1 1.9925214e-44\n",
       "4   + URBANICITY + MVR_PTS  + CAR_AGE + REVOKED  5 -1.5752249e+04 2.9152012e+02  1 2.3192087e-65\n",
       "5       + URBANICITY + MVR_PTS  + CAR_AGE + TIF  5 -1.5831659e+04 1.3269945e+02  1 1.0518942e-30\n",
       "6  + URBANICITY + MVR_PTS  + CAR_AGE + TRAVTIME  5 -1.5799473e+04 1.9707190e+02  1 9.0956166e-45"
      ]
     },
     "execution_count": 69,
     "metadata": {},
     "output_type": "execute_result"
    }
   ],
   "source": [
    "step_detail"
   ]
  },
  {
   "cell_type": "markdown",
   "id": "e09dbdc6",
   "metadata": {},
   "source": [
    "#### MSTATUS is the fourth predictor"
   ]
  },
  {
   "cell_type": "code",
   "execution_count": 73,
   "id": "399fec76",
   "metadata": {},
   "outputs": [],
   "source": [
    "# Current model is Intercept + MVR_PTS + URBANICITY + CAR_AGE + MSTATUS\n",
    "row = step_detail[step_detail[0] == '+ URBANICITY + MVR_PTS  + CAR_AGE + MSTATUS']\n",
    "llk_0 = row.iloc[0][2]\n",
    "df_0 = row.iloc[0][1]\n",
    "step_summary = step_summary.append(row, ignore_index = True)\n",
    "X_train = X_train.join(term_mstatus)"
   ]
  },
  {
   "cell_type": "code",
   "execution_count": 74,
   "id": "592e40d5",
   "metadata": {},
   "outputs": [
    {
     "data": {
      "text/html": [
       "<div>\n",
       "<style scoped>\n",
       "    .dataframe tbody tr th:only-of-type {\n",
       "        vertical-align: middle;\n",
       "    }\n",
       "\n",
       "    .dataframe tbody tr th {\n",
       "        vertical-align: top;\n",
       "    }\n",
       "\n",
       "    .dataframe thead th {\n",
       "        text-align: right;\n",
       "    }\n",
       "</style>\n",
       "<table border=\"1\" class=\"dataframe\">\n",
       "  <thead>\n",
       "    <tr style=\"text-align: right;\">\n",
       "      <th></th>\n",
       "      <th>0</th>\n",
       "      <th>1</th>\n",
       "      <th>2</th>\n",
       "      <th>3</th>\n",
       "      <th>4</th>\n",
       "      <th>5</th>\n",
       "    </tr>\n",
       "  </thead>\n",
       "  <tbody>\n",
       "    <tr>\n",
       "      <th>0</th>\n",
       "      <td>Intercept</td>\n",
       "      <td>1</td>\n",
       "      <td>-1.7324418e+04</td>\n",
       "      <td>NaN</td>\n",
       "      <td>NaN</td>\n",
       "      <td>NaN</td>\n",
       "    </tr>\n",
       "    <tr>\n",
       "      <th>1</th>\n",
       "      <td>+ URBANICITY</td>\n",
       "      <td>2</td>\n",
       "      <td>-1.6480902e+04</td>\n",
       "      <td>1.6870313e+03</td>\n",
       "      <td>1.0000000e+00</td>\n",
       "      <td>0.0000000e+00</td>\n",
       "    </tr>\n",
       "    <tr>\n",
       "      <th>2</th>\n",
       "      <td>+ URBANICITY + MVR_PTS</td>\n",
       "      <td>3</td>\n",
       "      <td>-1.6132234e+04</td>\n",
       "      <td>6.9733640e+02</td>\n",
       "      <td>1.0000000e+00</td>\n",
       "      <td>1.1348123e-153</td>\n",
       "    </tr>\n",
       "    <tr>\n",
       "      <th>3</th>\n",
       "      <td>+ URBANICITY + MVR_PTS + CAR_AGE</td>\n",
       "      <td>4</td>\n",
       "      <td>-1.5898009e+04</td>\n",
       "      <td>4.6844946e+02</td>\n",
       "      <td>1.0000000e+00</td>\n",
       "      <td>6.9691259e-104</td>\n",
       "    </tr>\n",
       "    <tr>\n",
       "      <th>4</th>\n",
       "      <td>+ URBANICITY + MVR_PTS + CAR_AGE</td>\n",
       "      <td>4</td>\n",
       "      <td>-1.5898009e+04</td>\n",
       "      <td>4.6844946e+02</td>\n",
       "      <td>1.0000000e+00</td>\n",
       "      <td>6.9691259e-104</td>\n",
       "    </tr>\n",
       "    <tr>\n",
       "      <th>5</th>\n",
       "      <td>+ URBANICITY + MVR_PTS  + CAR_AGE + MSTATUS</td>\n",
       "      <td>5</td>\n",
       "      <td>-1.5720053e+04</td>\n",
       "      <td>3.5591160e+02</td>\n",
       "      <td>1.0000000e+00</td>\n",
       "      <td>2.1869339e-79</td>\n",
       "    </tr>\n",
       "  </tbody>\n",
       "</table>\n",
       "</div>"
      ],
      "text/plain": [
       "                                             0  1              2             3             4              5\n",
       "0                                    Intercept  1 -1.7324418e+04           NaN           NaN            NaN\n",
       "1                                 + URBANICITY  2 -1.6480902e+04 1.6870313e+03 1.0000000e+00  0.0000000e+00\n",
       "2                       + URBANICITY + MVR_PTS  3 -1.6132234e+04 6.9733640e+02 1.0000000e+00 1.1348123e-153\n",
       "3             + URBANICITY + MVR_PTS + CAR_AGE  4 -1.5898009e+04 4.6844946e+02 1.0000000e+00 6.9691259e-104\n",
       "4             + URBANICITY + MVR_PTS + CAR_AGE  4 -1.5898009e+04 4.6844946e+02 1.0000000e+00 6.9691259e-104\n",
       "5  + URBANICITY + MVR_PTS  + CAR_AGE + MSTATUS  5 -1.5720053e+04 3.5591160e+02 1.0000000e+00  2.1869339e-79"
      ]
     },
     "execution_count": 74,
     "metadata": {},
     "output_type": "execute_result"
    }
   ],
   "source": [
    "step_summary"
   ]
  },
  {
   "cell_type": "markdown",
   "id": "e66057fe",
   "metadata": {},
   "source": [
    "### Find the fifth predictor"
   ]
  },
  {
   "cell_type": "code",
   "execution_count": 75,
   "id": "48fa79f9",
   "metadata": {},
   "outputs": [],
   "source": [
    "step_detail = pandas.DataFrame()"
   ]
  },
  {
   "cell_type": "code",
   "execution_count": 76,
   "id": "38ebcd52",
   "metadata": {
    "code_folding": []
   },
   "outputs": [],
   "source": [
    "# Try Intercept + URBANICITY + MVR_PTS + CAR_AGE + MSTATUS + CAR_TYPE\n",
    "X = X_train.join(term_car_type)\n",
    "outList = Regression.PoissonModel(X, y_train, o_train_X)\n",
    "llk_1 = outList[3]\n",
    "df_1 = len(outList[4])\n",
    "\n",
    "deviance_chisq = 2 * (llk_1 - llk_0)\n",
    "deviance_df = df_1 - df_0\n",
    "deviance_sig = chi2.sf(deviance_chisq, deviance_df)\n",
    "step_detail = step_detail.append([['+ URBANICITY + MVR_PTS + CAR_AGE + MSTATUS + CAR_TYPE', df_1, llk_1, deviance_chisq, deviance_df, deviance_sig]], ignore_index = True)"
   ]
  },
  {
   "cell_type": "code",
   "execution_count": 77,
   "id": "f496848c",
   "metadata": {},
   "outputs": [],
   "source": [
    "# Try Intercept  + URBANICITY + MVR_PTS + CAR_AGE + MSTATUS + HOMEKIDS\n",
    "X = X_train.join(term_homekids)\n",
    "outList = Regression.PoissonModel(X, y_train, o_train_X)\n",
    "llk_1 = outList[3]\n",
    "df_1 = len(outList[4])\n",
    "\n",
    "deviance_chisq = 2 * (llk_1 - llk_0)\n",
    "deviance_df = df_1 - df_0\n",
    "deviance_sig = chi2.sf(deviance_chisq, deviance_df)\n",
    "step_detail = step_detail.append([['+ URBANICITY + MVR_PTS + CAR_AGE + MSTATUS + HOMEKIDS', df_1, llk_1, deviance_chisq, deviance_df, deviance_sig]], ignore_index = True)"
   ]
  },
  {
   "cell_type": "code",
   "execution_count": 78,
   "id": "ba38ddc9",
   "metadata": {},
   "outputs": [],
   "source": [
    "# Try Intercept + URBANICITY + MVR_PTS + CAR_AGE + MSTATUS + KIDSDRIV\n",
    "X = X_train.join(term_kidsdriv)\n",
    "outList = Regression.PoissonModel(X, y_train, o_train_X)\n",
    "llk_1 = outList[3]\n",
    "df_1 = len(outList[4])\n",
    "\n",
    "deviance_chisq = 2 * (llk_1 - llk_0)\n",
    "deviance_df = df_1 - df_0\n",
    "deviance_sig = chi2.sf(deviance_chisq, deviance_df)\n",
    "step_detail = step_detail.append([['+ URBANICITY + MVR_PTS + CAR_AGE + MSTATUS + KIDSDRIV', df_1, llk_1, deviance_chisq, deviance_df, deviance_sig]], ignore_index = True)"
   ]
  },
  {
   "cell_type": "code",
   "execution_count": 79,
   "id": "5e7f2307",
   "metadata": {},
   "outputs": [],
   "source": [
    "# Try Intercept  + URBANICITY + MVR_PTS + CAR_AGE + MSTATUS + TIF\n",
    "X = X_train.join(term_tif)\n",
    "outList = Regression.PoissonModel(X, y_train, o_train_X)\n",
    "llk_1 = outList[3]\n",
    "df_1 = len(outList[4])\n",
    "\n",
    "deviance_chisq = 2 * (llk_1 - llk_0)\n",
    "deviance_df = df_1 - df_0\n",
    "deviance_sig = chi2.sf(deviance_chisq, deviance_df)\n",
    "step_detail = step_detail.append([['+ URBANICITY + MVR_PTS + CAR_AGE + MSTATUS + TIF', df_1, llk_1, deviance_chisq, deviance_df, deviance_sig]], ignore_index = True)"
   ]
  },
  {
   "cell_type": "code",
   "execution_count": 80,
   "id": "8a76c368",
   "metadata": {},
   "outputs": [],
   "source": [
    "# Try Intercept  + URBANICITY + MVR_PTS + CAR_AGE + MSTATUS + TRAVTIME\n",
    "X = X_train.join(term_travtime)\n",
    "outList = Regression.PoissonModel(X, y_train, o_train_X)\n",
    "llk_1 = outList[3]\n",
    "df_1 = len(outList[4])\n",
    "\n",
    "deviance_chisq = 2 * (llk_1 - llk_0)\n",
    "deviance_df = df_1 - df_0\n",
    "deviance_sig = chi2.sf(deviance_chisq, deviance_df)\n",
    "step_detail = step_detail.append([['+ URBANICITY + MVR_PTS + CAR_AGE + MSTATUS + TRAVTIME', df_1, llk_1, deviance_chisq, deviance_df, deviance_sig]], ignore_index = True)"
   ]
  },
  {
   "cell_type": "code",
   "execution_count": 81,
   "id": "3bcbef73",
   "metadata": {},
   "outputs": [],
   "source": [
    "# Try Intercept  + URBANICITY + MVR_PTS + CAR_AGE + MSTATUS + REVOKED\n",
    "X = X_train.join(term_revoked)\n",
    "outList = Regression.PoissonModel(X, y_train, o_train_X)\n",
    "llk_1 = outList[3]\n",
    "df_1 = len(outList[4])\n",
    "\n",
    "deviance_chisq = 2 * (llk_1 - llk_0)\n",
    "deviance_df = df_1 - df_0\n",
    "deviance_sig = chi2.sf(deviance_chisq, deviance_df)\n",
    "step_detail = step_detail.append([['+ URBANICITY + MVR_PTS + CAR_AGE + MSTATUS + REVOKED', df_1, llk_1, deviance_chisq, deviance_df, deviance_sig]], ignore_index = True)"
   ]
  },
  {
   "cell_type": "code",
   "execution_count": 82,
   "id": "cefa744f",
   "metadata": {},
   "outputs": [
    {
     "data": {
      "text/html": [
       "<div>\n",
       "<style scoped>\n",
       "    .dataframe tbody tr th:only-of-type {\n",
       "        vertical-align: middle;\n",
       "    }\n",
       "\n",
       "    .dataframe tbody tr th {\n",
       "        vertical-align: top;\n",
       "    }\n",
       "\n",
       "    .dataframe thead th {\n",
       "        text-align: right;\n",
       "    }\n",
       "</style>\n",
       "<table border=\"1\" class=\"dataframe\">\n",
       "  <thead>\n",
       "    <tr style=\"text-align: right;\">\n",
       "      <th></th>\n",
       "      <th>0</th>\n",
       "      <th>1</th>\n",
       "      <th>2</th>\n",
       "      <th>3</th>\n",
       "      <th>4</th>\n",
       "      <th>5</th>\n",
       "    </tr>\n",
       "  </thead>\n",
       "  <tbody>\n",
       "    <tr>\n",
       "      <th>0</th>\n",
       "      <td>+ URBANICITY + MVR_PTS + CAR_AGE + MSTATUS + CAR_TYPE</td>\n",
       "      <td>10</td>\n",
       "      <td>-1.5539157e+04</td>\n",
       "      <td>3.6179176e+02</td>\n",
       "      <td>5</td>\n",
       "      <td>5.0584841e-76</td>\n",
       "    </tr>\n",
       "    <tr>\n",
       "      <th>1</th>\n",
       "      <td>+ URBANICITY + MVR_PTS + CAR_AGE + MSTATUS + HOMEKIDS</td>\n",
       "      <td>6</td>\n",
       "      <td>-1.5603268e+04</td>\n",
       "      <td>2.3357106e+02</td>\n",
       "      <td>1</td>\n",
       "      <td>9.9215317e-53</td>\n",
       "    </tr>\n",
       "    <tr>\n",
       "      <th>2</th>\n",
       "      <td>+ URBANICITY + MVR_PTS + CAR_AGE + MSTATUS + KIDSDRIV</td>\n",
       "      <td>6</td>\n",
       "      <td>-1.5608020e+04</td>\n",
       "      <td>2.2406729e+02</td>\n",
       "      <td>1</td>\n",
       "      <td>1.1728448e-50</td>\n",
       "    </tr>\n",
       "    <tr>\n",
       "      <th>3</th>\n",
       "      <td>+ URBANICITY + MVR_PTS + CAR_AGE + MSTATUS + TIF</td>\n",
       "      <td>6</td>\n",
       "      <td>-1.5650360e+04</td>\n",
       "      <td>1.3938719e+02</td>\n",
       "      <td>1</td>\n",
       "      <td>3.6242851e-32</td>\n",
       "    </tr>\n",
       "    <tr>\n",
       "      <th>4</th>\n",
       "      <td>+ URBANICITY + MVR_PTS + CAR_AGE + MSTATUS + TRAVTIME</td>\n",
       "      <td>6</td>\n",
       "      <td>-1.5619911e+04</td>\n",
       "      <td>2.0028380e+02</td>\n",
       "      <td>1</td>\n",
       "      <td>1.8109281e-45</td>\n",
       "    </tr>\n",
       "    <tr>\n",
       "      <th>5</th>\n",
       "      <td>+ URBANICITY + MVR_PTS + CAR_AGE + MSTATUS + REVOKED</td>\n",
       "      <td>6</td>\n",
       "      <td>-1.5581687e+04</td>\n",
       "      <td>2.7673236e+02</td>\n",
       "      <td>1</td>\n",
       "      <td>3.8697696e-62</td>\n",
       "    </tr>\n",
       "  </tbody>\n",
       "</table>\n",
       "</div>"
      ],
      "text/plain": [
       "                                                       0   1              2             3  4             5\n",
       "0  + URBANICITY + MVR_PTS + CAR_AGE + MSTATUS + CAR_TYPE  10 -1.5539157e+04 3.6179176e+02  5 5.0584841e-76\n",
       "1  + URBANICITY + MVR_PTS + CAR_AGE + MSTATUS + HOMEKIDS   6 -1.5603268e+04 2.3357106e+02  1 9.9215317e-53\n",
       "2  + URBANICITY + MVR_PTS + CAR_AGE + MSTATUS + KIDSDRIV   6 -1.5608020e+04 2.2406729e+02  1 1.1728448e-50\n",
       "3       + URBANICITY + MVR_PTS + CAR_AGE + MSTATUS + TIF   6 -1.5650360e+04 1.3938719e+02  1 3.6242851e-32\n",
       "4  + URBANICITY + MVR_PTS + CAR_AGE + MSTATUS + TRAVTIME   6 -1.5619911e+04 2.0028380e+02  1 1.8109281e-45\n",
       "5   + URBANICITY + MVR_PTS + CAR_AGE + MSTATUS + REVOKED   6 -1.5581687e+04 2.7673236e+02  1 3.8697696e-62"
      ]
     },
     "execution_count": 82,
     "metadata": {},
     "output_type": "execute_result"
    }
   ],
   "source": [
    "step_detail"
   ]
  },
  {
   "cell_type": "markdown",
   "id": "109e36af",
   "metadata": {},
   "source": [
    "#### Car type as the fifth predictor"
   ]
  },
  {
   "cell_type": "code",
   "execution_count": 83,
   "id": "b9cb94ba",
   "metadata": {},
   "outputs": [],
   "source": [
    "# Current model is Intercept + MVR_PTS + URBANICITY + CAR_AGE + MSTATUS + CAR_TYPE\n",
    "row = step_detail[step_detail[0] == '+ URBANICITY + MVR_PTS + CAR_AGE + MSTATUS + CAR_TYPE']\n",
    "llk_0 = row.iloc[0][2]\n",
    "df_0 = row.iloc[0][1]\n",
    "step_summary = step_summary.append(row, ignore_index = True)\n",
    "X_train = X_train.join(term_car_type)"
   ]
  },
  {
   "cell_type": "code",
   "execution_count": 84,
   "id": "4bb186a2",
   "metadata": {},
   "outputs": [
    {
     "data": {
      "text/html": [
       "<div>\n",
       "<style scoped>\n",
       "    .dataframe tbody tr th:only-of-type {\n",
       "        vertical-align: middle;\n",
       "    }\n",
       "\n",
       "    .dataframe tbody tr th {\n",
       "        vertical-align: top;\n",
       "    }\n",
       "\n",
       "    .dataframe thead th {\n",
       "        text-align: right;\n",
       "    }\n",
       "</style>\n",
       "<table border=\"1\" class=\"dataframe\">\n",
       "  <thead>\n",
       "    <tr style=\"text-align: right;\">\n",
       "      <th></th>\n",
       "      <th>0</th>\n",
       "      <th>1</th>\n",
       "      <th>2</th>\n",
       "      <th>3</th>\n",
       "      <th>4</th>\n",
       "      <th>5</th>\n",
       "    </tr>\n",
       "  </thead>\n",
       "  <tbody>\n",
       "    <tr>\n",
       "      <th>0</th>\n",
       "      <td>Intercept</td>\n",
       "      <td>1</td>\n",
       "      <td>-1.7324418e+04</td>\n",
       "      <td>NaN</td>\n",
       "      <td>NaN</td>\n",
       "      <td>NaN</td>\n",
       "    </tr>\n",
       "    <tr>\n",
       "      <th>1</th>\n",
       "      <td>+ URBANICITY</td>\n",
       "      <td>2</td>\n",
       "      <td>-1.6480902e+04</td>\n",
       "      <td>1.6870313e+03</td>\n",
       "      <td>1.0000000e+00</td>\n",
       "      <td>0.0000000e+00</td>\n",
       "    </tr>\n",
       "    <tr>\n",
       "      <th>2</th>\n",
       "      <td>+ URBANICITY + MVR_PTS</td>\n",
       "      <td>3</td>\n",
       "      <td>-1.6132234e+04</td>\n",
       "      <td>6.9733640e+02</td>\n",
       "      <td>1.0000000e+00</td>\n",
       "      <td>1.1348123e-153</td>\n",
       "    </tr>\n",
       "    <tr>\n",
       "      <th>3</th>\n",
       "      <td>+ URBANICITY + MVR_PTS + CAR_AGE</td>\n",
       "      <td>4</td>\n",
       "      <td>-1.5898009e+04</td>\n",
       "      <td>4.6844946e+02</td>\n",
       "      <td>1.0000000e+00</td>\n",
       "      <td>6.9691259e-104</td>\n",
       "    </tr>\n",
       "    <tr>\n",
       "      <th>4</th>\n",
       "      <td>+ URBANICITY + MVR_PTS + CAR_AGE</td>\n",
       "      <td>4</td>\n",
       "      <td>-1.5898009e+04</td>\n",
       "      <td>4.6844946e+02</td>\n",
       "      <td>1.0000000e+00</td>\n",
       "      <td>6.9691259e-104</td>\n",
       "    </tr>\n",
       "    <tr>\n",
       "      <th>5</th>\n",
       "      <td>+ URBANICITY + MVR_PTS  + CAR_AGE + MSTATUS</td>\n",
       "      <td>5</td>\n",
       "      <td>-1.5720053e+04</td>\n",
       "      <td>3.5591160e+02</td>\n",
       "      <td>1.0000000e+00</td>\n",
       "      <td>2.1869339e-79</td>\n",
       "    </tr>\n",
       "    <tr>\n",
       "      <th>6</th>\n",
       "      <td>+ URBANICITY + MVR_PTS + CAR_AGE + MSTATUS + CAR_TYPE</td>\n",
       "      <td>10</td>\n",
       "      <td>-1.5539157e+04</td>\n",
       "      <td>3.6179176e+02</td>\n",
       "      <td>5.0000000e+00</td>\n",
       "      <td>5.0584841e-76</td>\n",
       "    </tr>\n",
       "  </tbody>\n",
       "</table>\n",
       "</div>"
      ],
      "text/plain": [
       "                                                       0   1              2             3             4              5\n",
       "0                                              Intercept   1 -1.7324418e+04           NaN           NaN            NaN\n",
       "1                                           + URBANICITY   2 -1.6480902e+04 1.6870313e+03 1.0000000e+00  0.0000000e+00\n",
       "2                                 + URBANICITY + MVR_PTS   3 -1.6132234e+04 6.9733640e+02 1.0000000e+00 1.1348123e-153\n",
       "3                       + URBANICITY + MVR_PTS + CAR_AGE   4 -1.5898009e+04 4.6844946e+02 1.0000000e+00 6.9691259e-104\n",
       "4                       + URBANICITY + MVR_PTS + CAR_AGE   4 -1.5898009e+04 4.6844946e+02 1.0000000e+00 6.9691259e-104\n",
       "5            + URBANICITY + MVR_PTS  + CAR_AGE + MSTATUS   5 -1.5720053e+04 3.5591160e+02 1.0000000e+00  2.1869339e-79\n",
       "6  + URBANICITY + MVR_PTS + CAR_AGE + MSTATUS + CAR_TYPE  10 -1.5539157e+04 3.6179176e+02 5.0000000e+00  5.0584841e-76"
      ]
     },
     "execution_count": 84,
     "metadata": {},
     "output_type": "execute_result"
    }
   ],
   "source": [
    "step_summary"
   ]
  },
  {
   "cell_type": "markdown",
   "id": "ad189797",
   "metadata": {},
   "source": [
    "### Find the sixth predictor"
   ]
  },
  {
   "cell_type": "code",
   "execution_count": 85,
   "id": "6fd3b071",
   "metadata": {},
   "outputs": [],
   "source": [
    "step_detail = pandas.DataFrame()"
   ]
  },
  {
   "cell_type": "code",
   "execution_count": 86,
   "id": "60dcda3b",
   "metadata": {},
   "outputs": [],
   "source": [
    "# Try Intercept + URBANICITY + MVR_PTS + CAR_AGE + MSTATUS + CARTYPE + HOMEKID\n",
    "X = X_train.join(term_homekids)\n",
    "outList = Regression.PoissonModel(X, y_train, o_train_X)\n",
    "llk_1 = outList[3]\n",
    "df_1 = len(outList[4])\n",
    "\n",
    "deviance_chisq = 2 * (llk_1 - llk_0)\n",
    "deviance_df = df_1 - df_0\n",
    "deviance_sig = chi2.sf(deviance_chisq, deviance_df)\n",
    "step_detail = step_detail.append([['+ URBANICITY + MVR_PTS + CAR_AGE + MSTATUS + CARTYPE + HOMEKID', df_1, llk_1, deviance_chisq, deviance_df, deviance_sig]], ignore_index = True)"
   ]
  },
  {
   "cell_type": "code",
   "execution_count": 87,
   "id": "cdd24aad",
   "metadata": {},
   "outputs": [],
   "source": [
    "# Try Intercept + URBANICITY + MVR_PTS + CAR_AGE + MSTATUS + CARTYPE + KIDSDRIV\n",
    "X = X_train.join(term_kidsdriv)\n",
    "outList = Regression.PoissonModel(X, y_train, o_train_X)\n",
    "llk_1 = outList[3]\n",
    "df_1 = len(outList[4])\n",
    "\n",
    "deviance_chisq = 2 * (llk_1 - llk_0)\n",
    "deviance_df = df_1 - df_0\n",
    "deviance_sig = chi2.sf(deviance_chisq, deviance_df)\n",
    "step_detail = step_detail.append([['+ URBANICITY + MVR_PTS + CAR_AGE + MSTATUS + CARTYPE + KIDSDRIV', df_1, llk_1, deviance_chisq, deviance_df, deviance_sig]], ignore_index = True)"
   ]
  },
  {
   "cell_type": "code",
   "execution_count": 88,
   "id": "909f8052",
   "metadata": {},
   "outputs": [],
   "source": [
    "# Try Intercept + URBANICITY + MVR_PTS + CAR_AGE + MSTATUS + CARTYPE + TIF\n",
    "X = X_train.join(term_tif)\n",
    "outList = Regression.PoissonModel(X, y_train, o_train_X)\n",
    "llk_1 = outList[3]\n",
    "df_1 = len(outList[4])\n",
    "\n",
    "deviance_chisq = 2 * (llk_1 - llk_0)\n",
    "deviance_df = df_1 - df_0\n",
    "deviance_sig = chi2.sf(deviance_chisq, deviance_df)\n",
    "step_detail = step_detail.append([['+ URBANICITY + MVR_PTS + CAR_AGE + MSTATUS + CARTYPE + TIF', df_1, llk_1, deviance_chisq, deviance_df, deviance_sig]], ignore_index = True)"
   ]
  },
  {
   "cell_type": "code",
   "execution_count": 89,
   "id": "4e804558",
   "metadata": {},
   "outputs": [],
   "source": [
    "# Try Intercept + URBANICITY + MVR_PTS + CAR_AGE + MSTATUS + CARTYPE + TRAVTIME\n",
    "X = X_train.join(term_travtime)\n",
    "outList = Regression.PoissonModel(X, y_train, o_train_X)\n",
    "llk_1 = outList[3]\n",
    "df_1 = len(outList[4])\n",
    "\n",
    "deviance_chisq = 2 * (llk_1 - llk_0)\n",
    "deviance_df = df_1 - df_0\n",
    "deviance_sig = chi2.sf(deviance_chisq, deviance_df)\n",
    "step_detail = step_detail.append([['+ URBANICITY + MVR_PTS + CAR_AGE + MSTATUS + CARTYPE + TRAVTIME', df_1, llk_1, deviance_chisq, deviance_df, deviance_sig]], ignore_index = True)"
   ]
  },
  {
   "cell_type": "code",
   "execution_count": 90,
   "id": "71b2ef2c",
   "metadata": {},
   "outputs": [],
   "source": [
    "# Try Intercept + URBANICITY + MVR_PTS + CAR_AGE + MSTATUS + CARTYPE + REVOKED\n",
    "X = X_train.join(term_revoked)\n",
    "outList = Regression.PoissonModel(X, y_train, o_train_X)\n",
    "llk_1 = outList[3]\n",
    "df_1 = len(outList[4])\n",
    "\n",
    "deviance_chisq = 2 * (llk_1 - llk_0)\n",
    "deviance_df = df_1 - df_0\n",
    "deviance_sig = chi2.sf(deviance_chisq, deviance_df)\n",
    "step_detail = step_detail.append([['+ URBANICITY + MVR_PTS + CAR_AGE + MSTATUS + CARTYPE + REVOKED', df_1, llk_1, deviance_chisq, deviance_df, deviance_sig]], ignore_index = True)"
   ]
  },
  {
   "cell_type": "code",
   "execution_count": 91,
   "id": "764eb70d",
   "metadata": {},
   "outputs": [
    {
     "data": {
      "text/html": [
       "<div>\n",
       "<style scoped>\n",
       "    .dataframe tbody tr th:only-of-type {\n",
       "        vertical-align: middle;\n",
       "    }\n",
       "\n",
       "    .dataframe tbody tr th {\n",
       "        vertical-align: top;\n",
       "    }\n",
       "\n",
       "    .dataframe thead th {\n",
       "        text-align: right;\n",
       "    }\n",
       "</style>\n",
       "<table border=\"1\" class=\"dataframe\">\n",
       "  <thead>\n",
       "    <tr style=\"text-align: right;\">\n",
       "      <th></th>\n",
       "      <th>0</th>\n",
       "      <th>1</th>\n",
       "      <th>2</th>\n",
       "      <th>3</th>\n",
       "      <th>4</th>\n",
       "      <th>5</th>\n",
       "    </tr>\n",
       "  </thead>\n",
       "  <tbody>\n",
       "    <tr>\n",
       "      <th>0</th>\n",
       "      <td>+ URBANICITY + MVR_PTS + CAR_AGE + MSTATUS + CARTYPE + HOMEKID</td>\n",
       "      <td>11</td>\n",
       "      <td>-1.5427671e+04</td>\n",
       "      <td>2.2297366e+02</td>\n",
       "      <td>1</td>\n",
       "      <td>2.0312906e-50</td>\n",
       "    </tr>\n",
       "    <tr>\n",
       "      <th>1</th>\n",
       "      <td>+ URBANICITY + MVR_PTS + CAR_AGE + MSTATUS + CARTYPE + KIDSDRIV</td>\n",
       "      <td>11</td>\n",
       "      <td>-1.5423807e+04</td>\n",
       "      <td>2.3070133e+02</td>\n",
       "      <td>1</td>\n",
       "      <td>4.1917451e-52</td>\n",
       "    </tr>\n",
       "    <tr>\n",
       "      <th>2</th>\n",
       "      <td>+ URBANICITY + MVR_PTS + CAR_AGE + MSTATUS + CARTYPE + TIF</td>\n",
       "      <td>11</td>\n",
       "      <td>-1.5467611e+04</td>\n",
       "      <td>1.4309284e+02</td>\n",
       "      <td>1</td>\n",
       "      <td>5.6096135e-33</td>\n",
       "    </tr>\n",
       "    <tr>\n",
       "      <th>3</th>\n",
       "      <td>+ URBANICITY + MVR_PTS + CAR_AGE + MSTATUS + CARTYPE + TRAVTIME</td>\n",
       "      <td>11</td>\n",
       "      <td>-1.5437587e+04</td>\n",
       "      <td>2.0314091e+02</td>\n",
       "      <td>1</td>\n",
       "      <td>4.3096304e-46</td>\n",
       "    </tr>\n",
       "    <tr>\n",
       "      <th>4</th>\n",
       "      <td>+ URBANICITY + MVR_PTS + CAR_AGE + MSTATUS + CARTYPE + REVOKED</td>\n",
       "      <td>11</td>\n",
       "      <td>-1.5403153e+04</td>\n",
       "      <td>2.7200815e+02</td>\n",
       "      <td>1</td>\n",
       "      <td>4.1423638e-61</td>\n",
       "    </tr>\n",
       "  </tbody>\n",
       "</table>\n",
       "</div>"
      ],
      "text/plain": [
       "                                                                 0   1              2             3  4             5\n",
       "0   + URBANICITY + MVR_PTS + CAR_AGE + MSTATUS + CARTYPE + HOMEKID  11 -1.5427671e+04 2.2297366e+02  1 2.0312906e-50\n",
       "1  + URBANICITY + MVR_PTS + CAR_AGE + MSTATUS + CARTYPE + KIDSDRIV  11 -1.5423807e+04 2.3070133e+02  1 4.1917451e-52\n",
       "2       + URBANICITY + MVR_PTS + CAR_AGE + MSTATUS + CARTYPE + TIF  11 -1.5467611e+04 1.4309284e+02  1 5.6096135e-33\n",
       "3  + URBANICITY + MVR_PTS + CAR_AGE + MSTATUS + CARTYPE + TRAVTIME  11 -1.5437587e+04 2.0314091e+02  1 4.3096304e-46\n",
       "4   + URBANICITY + MVR_PTS + CAR_AGE + MSTATUS + CARTYPE + REVOKED  11 -1.5403153e+04 2.7200815e+02  1 4.1423638e-61"
      ]
     },
     "execution_count": 91,
     "metadata": {},
     "output_type": "execute_result"
    }
   ],
   "source": [
    "step_detail"
   ]
  },
  {
   "cell_type": "markdown",
   "id": "7920aa39",
   "metadata": {},
   "source": [
    "#### insert REVOKED as the sixth predicator"
   ]
  },
  {
   "cell_type": "code",
   "execution_count": 92,
   "id": "7e1ffcf4",
   "metadata": {},
   "outputs": [],
   "source": [
    "# Current model is Intercept + URBANICITY + MVR_PTS + CAR_AGE + MSTATUS + CARTYPE + REVOKED\n",
    "row = step_detail[step_detail[0] == '+ URBANICITY + MVR_PTS + CAR_AGE + MSTATUS + CARTYPE + REVOKED']\n",
    "llk_0 = row.iloc[0][2]\n",
    "df_0 = row.iloc[0][1]\n",
    "step_summary = step_summary.append(row, ignore_index = True)\n",
    "X_train = X_train.join(term_revoked)"
   ]
  },
  {
   "cell_type": "code",
   "execution_count": 93,
   "id": "37adfb10",
   "metadata": {},
   "outputs": [
    {
     "data": {
      "text/html": [
       "<div>\n",
       "<style scoped>\n",
       "    .dataframe tbody tr th:only-of-type {\n",
       "        vertical-align: middle;\n",
       "    }\n",
       "\n",
       "    .dataframe tbody tr th {\n",
       "        vertical-align: top;\n",
       "    }\n",
       "\n",
       "    .dataframe thead th {\n",
       "        text-align: right;\n",
       "    }\n",
       "</style>\n",
       "<table border=\"1\" class=\"dataframe\">\n",
       "  <thead>\n",
       "    <tr style=\"text-align: right;\">\n",
       "      <th></th>\n",
       "      <th>0</th>\n",
       "      <th>1</th>\n",
       "      <th>2</th>\n",
       "      <th>3</th>\n",
       "      <th>4</th>\n",
       "      <th>5</th>\n",
       "    </tr>\n",
       "  </thead>\n",
       "  <tbody>\n",
       "    <tr>\n",
       "      <th>0</th>\n",
       "      <td>Intercept</td>\n",
       "      <td>1</td>\n",
       "      <td>-1.7324418e+04</td>\n",
       "      <td>NaN</td>\n",
       "      <td>NaN</td>\n",
       "      <td>NaN</td>\n",
       "    </tr>\n",
       "    <tr>\n",
       "      <th>1</th>\n",
       "      <td>+ URBANICITY</td>\n",
       "      <td>2</td>\n",
       "      <td>-1.6480902e+04</td>\n",
       "      <td>1.6870313e+03</td>\n",
       "      <td>1.0000000e+00</td>\n",
       "      <td>0.0000000e+00</td>\n",
       "    </tr>\n",
       "    <tr>\n",
       "      <th>2</th>\n",
       "      <td>+ URBANICITY + MVR_PTS</td>\n",
       "      <td>3</td>\n",
       "      <td>-1.6132234e+04</td>\n",
       "      <td>6.9733640e+02</td>\n",
       "      <td>1.0000000e+00</td>\n",
       "      <td>1.1348123e-153</td>\n",
       "    </tr>\n",
       "    <tr>\n",
       "      <th>3</th>\n",
       "      <td>+ URBANICITY + MVR_PTS + CAR_AGE</td>\n",
       "      <td>4</td>\n",
       "      <td>-1.5898009e+04</td>\n",
       "      <td>4.6844946e+02</td>\n",
       "      <td>1.0000000e+00</td>\n",
       "      <td>6.9691259e-104</td>\n",
       "    </tr>\n",
       "    <tr>\n",
       "      <th>4</th>\n",
       "      <td>+ URBANICITY + MVR_PTS + CAR_AGE</td>\n",
       "      <td>4</td>\n",
       "      <td>-1.5898009e+04</td>\n",
       "      <td>4.6844946e+02</td>\n",
       "      <td>1.0000000e+00</td>\n",
       "      <td>6.9691259e-104</td>\n",
       "    </tr>\n",
       "    <tr>\n",
       "      <th>5</th>\n",
       "      <td>+ URBANICITY + MVR_PTS  + CAR_AGE + MSTATUS</td>\n",
       "      <td>5</td>\n",
       "      <td>-1.5720053e+04</td>\n",
       "      <td>3.5591160e+02</td>\n",
       "      <td>1.0000000e+00</td>\n",
       "      <td>2.1869339e-79</td>\n",
       "    </tr>\n",
       "    <tr>\n",
       "      <th>6</th>\n",
       "      <td>+ URBANICITY + MVR_PTS + CAR_AGE + MSTATUS + CAR_TYPE</td>\n",
       "      <td>10</td>\n",
       "      <td>-1.5539157e+04</td>\n",
       "      <td>3.6179176e+02</td>\n",
       "      <td>5.0000000e+00</td>\n",
       "      <td>5.0584841e-76</td>\n",
       "    </tr>\n",
       "    <tr>\n",
       "      <th>7</th>\n",
       "      <td>+ URBANICITY + MVR_PTS + CAR_AGE + MSTATUS + CARTYPE + REVOKED</td>\n",
       "      <td>11</td>\n",
       "      <td>-1.5403153e+04</td>\n",
       "      <td>2.7200815e+02</td>\n",
       "      <td>1.0000000e+00</td>\n",
       "      <td>4.1423638e-61</td>\n",
       "    </tr>\n",
       "  </tbody>\n",
       "</table>\n",
       "</div>"
      ],
      "text/plain": [
       "                                                                0   1              2             3             4              5\n",
       "0                                                       Intercept   1 -1.7324418e+04           NaN           NaN            NaN\n",
       "1                                                    + URBANICITY   2 -1.6480902e+04 1.6870313e+03 1.0000000e+00  0.0000000e+00\n",
       "2                                          + URBANICITY + MVR_PTS   3 -1.6132234e+04 6.9733640e+02 1.0000000e+00 1.1348123e-153\n",
       "3                                + URBANICITY + MVR_PTS + CAR_AGE   4 -1.5898009e+04 4.6844946e+02 1.0000000e+00 6.9691259e-104\n",
       "4                                + URBANICITY + MVR_PTS + CAR_AGE   4 -1.5898009e+04 4.6844946e+02 1.0000000e+00 6.9691259e-104\n",
       "5                     + URBANICITY + MVR_PTS  + CAR_AGE + MSTATUS   5 -1.5720053e+04 3.5591160e+02 1.0000000e+00  2.1869339e-79\n",
       "6           + URBANICITY + MVR_PTS + CAR_AGE + MSTATUS + CAR_TYPE  10 -1.5539157e+04 3.6179176e+02 5.0000000e+00  5.0584841e-76\n",
       "7  + URBANICITY + MVR_PTS + CAR_AGE + MSTATUS + CARTYPE + REVOKED  11 -1.5403153e+04 2.7200815e+02 1.0000000e+00  4.1423638e-61"
      ]
     },
     "execution_count": 93,
     "metadata": {},
     "output_type": "execute_result"
    }
   ],
   "source": [
    "step_summary"
   ]
  },
  {
   "cell_type": "markdown",
   "id": "6b219cdd",
   "metadata": {},
   "source": [
    "### Find the seventh predictor"
   ]
  },
  {
   "cell_type": "code",
   "execution_count": 101,
   "id": "b0fb9fdb",
   "metadata": {},
   "outputs": [],
   "source": [
    "step_detail = pandas.DataFrame()"
   ]
  },
  {
   "cell_type": "code",
   "execution_count": 102,
   "id": "46a9b54b",
   "metadata": {},
   "outputs": [],
   "source": [
    "# Try Intercept + URBANICITY + MVR_PTS + CAR_AGE + MSTATUS + CARTYPE + REVOKED + HOMEKIDS\n",
    "X = X_train.join(term_homekids)\n",
    "outList = Regression.PoissonModel(X, y_train, o_train_X)\n",
    "llk_1 = outList[3]\n",
    "df_1 = len(outList[4])\n",
    "\n",
    "deviance_chisq = 2 * (llk_1 - llk_0)\n",
    "deviance_df = df_1 - df_0\n",
    "deviance_sig = chi2.sf(deviance_chisq, deviance_df)\n",
    "step_detail = step_detail.append([['+ URBANICITY + MVR_PTS + CAR_AGE + MSTATUS + CARTYPE + REVOKED + HOMEKIDS', df_1, llk_1, deviance_chisq, deviance_df, deviance_sig]], ignore_index = True)"
   ]
  },
  {
   "cell_type": "code",
   "execution_count": 103,
   "id": "0c8c0c84",
   "metadata": {},
   "outputs": [],
   "source": [
    "# Try Intercept + URBANICITY + MVR_PTS + CAR_AGE + MSTATUS + CARTYPE + REVOKED + KIDSDRIV\n",
    "X = X_train.join(term_kidsdriv)\n",
    "outList = Regression.PoissonModel(X, y_train, o_train_X)\n",
    "llk_1 = outList[3]\n",
    "df_1 = len(outList[4])\n",
    "\n",
    "deviance_chisq = 2 * (llk_1 - llk_0)\n",
    "deviance_df = df_1 - df_0\n",
    "deviance_sig = chi2.sf(deviance_chisq, deviance_df)\n",
    "step_detail = step_detail.append([['+ URBANICITY + MVR_PTS + CAR_AGE + MSTATUS + CARTYPE + REVOKED + KIDSDRIV', df_1, llk_1, deviance_chisq, deviance_df, deviance_sig]], ignore_index = True)"
   ]
  },
  {
   "cell_type": "code",
   "execution_count": 104,
   "id": "d1d3e6e4",
   "metadata": {},
   "outputs": [],
   "source": [
    "# Try Intercept + URBANICITY + MVR_PTS + CAR_AGE + MSTATUS + CARTYPE + REVOKED + TIF\n",
    "X = X_train.join(term_tif)\n",
    "outList = Regression.PoissonModel(X, y_train, o_train_X)\n",
    "llk_1 = outList[3]\n",
    "df_1 = len(outList[4])\n",
    "\n",
    "deviance_chisq = 2 * (llk_1 - llk_0)\n",
    "deviance_df = df_1 - df_0\n",
    "deviance_sig = chi2.sf(deviance_chisq, deviance_df)\n",
    "step_detail = step_detail.append([['+ URBANICITY + MVR_PTS + CAR_AGE + MSTATUS + CARTYPE + REVOKED + TIF', df_1, llk_1, deviance_chisq, deviance_df, deviance_sig]], ignore_index = True)"
   ]
  },
  {
   "cell_type": "code",
   "execution_count": 105,
   "id": "c0004a90",
   "metadata": {},
   "outputs": [],
   "source": [
    "# Try Intercept + URBANICITY + MVR_PTS + CAR_AGE + MSTATUS + CARTYPE + REVOKED + TRAVTIME\n",
    "X = X_train.join(term_travtime)\n",
    "outList = Regression.PoissonModel(X, y_train, o_train_X)\n",
    "llk_1 = outList[3]\n",
    "df_1 = len(outList[4])\n",
    "\n",
    "deviance_chisq = 2 * (llk_1 - llk_0)\n",
    "deviance_df = df_1 - df_0\n",
    "deviance_sig = chi2.sf(deviance_chisq, deviance_df)\n",
    "step_detail = step_detail.append([['+ URBANICITY + MVR_PTS + CAR_AGE + MSTATUS + CARTYPE + REVOKED + TRAVTIMEE', df_1, llk_1, deviance_chisq, deviance_df, deviance_sig]], ignore_index = True)"
   ]
  },
  {
   "cell_type": "code",
   "execution_count": 106,
   "id": "af1f66ee",
   "metadata": {},
   "outputs": [
    {
     "data": {
      "text/html": [
       "<div>\n",
       "<style scoped>\n",
       "    .dataframe tbody tr th:only-of-type {\n",
       "        vertical-align: middle;\n",
       "    }\n",
       "\n",
       "    .dataframe tbody tr th {\n",
       "        vertical-align: top;\n",
       "    }\n",
       "\n",
       "    .dataframe thead th {\n",
       "        text-align: right;\n",
       "    }\n",
       "</style>\n",
       "<table border=\"1\" class=\"dataframe\">\n",
       "  <thead>\n",
       "    <tr style=\"text-align: right;\">\n",
       "      <th></th>\n",
       "      <th>0</th>\n",
       "      <th>1</th>\n",
       "      <th>2</th>\n",
       "      <th>3</th>\n",
       "      <th>4</th>\n",
       "      <th>5</th>\n",
       "    </tr>\n",
       "  </thead>\n",
       "  <tbody>\n",
       "    <tr>\n",
       "      <th>0</th>\n",
       "      <td>+ URBANICITY + MVR_PTS + CAR_AGE + MSTATUS + CARTYPE + REVOKED + HOMEKIDS</td>\n",
       "      <td>12</td>\n",
       "      <td>-1.5302473e+04</td>\n",
       "      <td>2.0136027e+02</td>\n",
       "      <td>1</td>\n",
       "      <td>1.0543743e-45</td>\n",
       "    </tr>\n",
       "    <tr>\n",
       "      <th>1</th>\n",
       "      <td>+ URBANICITY + MVR_PTS + CAR_AGE + MSTATUS + CARTYPE + REVOKED + KIDSDRIV</td>\n",
       "      <td>12</td>\n",
       "      <td>-1.5299053e+04</td>\n",
       "      <td>2.0819974e+02</td>\n",
       "      <td>1</td>\n",
       "      <td>3.3934421e-47</td>\n",
       "    </tr>\n",
       "    <tr>\n",
       "      <th>2</th>\n",
       "      <td>+ URBANICITY + MVR_PTS + CAR_AGE + MSTATUS + CARTYPE + REVOKED + TIF</td>\n",
       "      <td>12</td>\n",
       "      <td>-1.5339027e+04</td>\n",
       "      <td>1.2825350e+02</td>\n",
       "      <td>1</td>\n",
       "      <td>9.8784436e-30</td>\n",
       "    </tr>\n",
       "    <tr>\n",
       "      <th>3</th>\n",
       "      <td>+ URBANICITY + MVR_PTS + CAR_AGE + MSTATUS + CARTYPE + REVOKED + TRAVTIMEE</td>\n",
       "      <td>12</td>\n",
       "      <td>-1.5305349e+04</td>\n",
       "      <td>1.9560842e+02</td>\n",
       "      <td>1</td>\n",
       "      <td>1.8976928e-44</td>\n",
       "    </tr>\n",
       "  </tbody>\n",
       "</table>\n",
       "</div>"
      ],
      "text/plain": [
       "                                                                            0   1              2             3  4             5\n",
       "0   + URBANICITY + MVR_PTS + CAR_AGE + MSTATUS + CARTYPE + REVOKED + HOMEKIDS  12 -1.5302473e+04 2.0136027e+02  1 1.0543743e-45\n",
       "1   + URBANICITY + MVR_PTS + CAR_AGE + MSTATUS + CARTYPE + REVOKED + KIDSDRIV  12 -1.5299053e+04 2.0819974e+02  1 3.3934421e-47\n",
       "2        + URBANICITY + MVR_PTS + CAR_AGE + MSTATUS + CARTYPE + REVOKED + TIF  12 -1.5339027e+04 1.2825350e+02  1 9.8784436e-30\n",
       "3  + URBANICITY + MVR_PTS + CAR_AGE + MSTATUS + CARTYPE + REVOKED + TRAVTIMEE  12 -1.5305349e+04 1.9560842e+02  1 1.8976928e-44"
      ]
     },
     "execution_count": 106,
     "metadata": {},
     "output_type": "execute_result"
    }
   ],
   "source": [
    "step_detail"
   ]
  },
  {
   "cell_type": "markdown",
   "id": "f34397d7",
   "metadata": {},
   "source": [
    "#### Insert KIDSDRIVE as seventh predictor"
   ]
  },
  {
   "cell_type": "code",
   "execution_count": 107,
   "id": "b8773266",
   "metadata": {},
   "outputs": [],
   "source": [
    "# Current model is Intercept + MVR_PTS + URBANICITY + CAR_AGE + MSTATUS + CARTYPE + REVOKED + KIDSDRIV\n",
    "row = step_detail[step_detail[0] == '+ URBANICITY + MVR_PTS + CAR_AGE + MSTATUS + CARTYPE + REVOKED + KIDSDRIV']\n",
    "llk_0 = row.iloc[0][2]\n",
    "df_0 = row.iloc[0][1]\n",
    "step_summary = step_summary.append(row, ignore_index = True)\n",
    "X_train = X_train.join(term_kidsdriv)"
   ]
  },
  {
   "cell_type": "code",
   "execution_count": 108,
   "id": "c3297e74",
   "metadata": {},
   "outputs": [
    {
     "data": {
      "text/html": [
       "<div>\n",
       "<style scoped>\n",
       "    .dataframe tbody tr th:only-of-type {\n",
       "        vertical-align: middle;\n",
       "    }\n",
       "\n",
       "    .dataframe tbody tr th {\n",
       "        vertical-align: top;\n",
       "    }\n",
       "\n",
       "    .dataframe thead th {\n",
       "        text-align: right;\n",
       "    }\n",
       "</style>\n",
       "<table border=\"1\" class=\"dataframe\">\n",
       "  <thead>\n",
       "    <tr style=\"text-align: right;\">\n",
       "      <th></th>\n",
       "      <th>0</th>\n",
       "      <th>1</th>\n",
       "      <th>2</th>\n",
       "      <th>3</th>\n",
       "      <th>4</th>\n",
       "      <th>5</th>\n",
       "    </tr>\n",
       "  </thead>\n",
       "  <tbody>\n",
       "    <tr>\n",
       "      <th>0</th>\n",
       "      <td>Intercept</td>\n",
       "      <td>1</td>\n",
       "      <td>-1.7324418e+04</td>\n",
       "      <td>NaN</td>\n",
       "      <td>NaN</td>\n",
       "      <td>NaN</td>\n",
       "    </tr>\n",
       "    <tr>\n",
       "      <th>1</th>\n",
       "      <td>+ URBANICITY</td>\n",
       "      <td>2</td>\n",
       "      <td>-1.6480902e+04</td>\n",
       "      <td>1.6870313e+03</td>\n",
       "      <td>1.0000000e+00</td>\n",
       "      <td>0.0000000e+00</td>\n",
       "    </tr>\n",
       "    <tr>\n",
       "      <th>2</th>\n",
       "      <td>+ URBANICITY + MVR_PTS</td>\n",
       "      <td>3</td>\n",
       "      <td>-1.6132234e+04</td>\n",
       "      <td>6.9733640e+02</td>\n",
       "      <td>1.0000000e+00</td>\n",
       "      <td>1.1348123e-153</td>\n",
       "    </tr>\n",
       "    <tr>\n",
       "      <th>3</th>\n",
       "      <td>+ URBANICITY + MVR_PTS + CAR_AGE</td>\n",
       "      <td>4</td>\n",
       "      <td>-1.5898009e+04</td>\n",
       "      <td>4.6844946e+02</td>\n",
       "      <td>1.0000000e+00</td>\n",
       "      <td>6.9691259e-104</td>\n",
       "    </tr>\n",
       "    <tr>\n",
       "      <th>4</th>\n",
       "      <td>+ URBANICITY + MVR_PTS + CAR_AGE</td>\n",
       "      <td>4</td>\n",
       "      <td>-1.5898009e+04</td>\n",
       "      <td>4.6844946e+02</td>\n",
       "      <td>1.0000000e+00</td>\n",
       "      <td>6.9691259e-104</td>\n",
       "    </tr>\n",
       "    <tr>\n",
       "      <th>5</th>\n",
       "      <td>+ URBANICITY + MVR_PTS  + CAR_AGE + MSTATUS</td>\n",
       "      <td>5</td>\n",
       "      <td>-1.5720053e+04</td>\n",
       "      <td>3.5591160e+02</td>\n",
       "      <td>1.0000000e+00</td>\n",
       "      <td>2.1869339e-79</td>\n",
       "    </tr>\n",
       "    <tr>\n",
       "      <th>6</th>\n",
       "      <td>+ URBANICITY + MVR_PTS + CAR_AGE + MSTATUS + CAR_TYPE</td>\n",
       "      <td>10</td>\n",
       "      <td>-1.5539157e+04</td>\n",
       "      <td>3.6179176e+02</td>\n",
       "      <td>5.0000000e+00</td>\n",
       "      <td>5.0584841e-76</td>\n",
       "    </tr>\n",
       "    <tr>\n",
       "      <th>7</th>\n",
       "      <td>+ URBANICITY + MVR_PTS + CAR_AGE + MSTATUS + CARTYPE + REVOKED</td>\n",
       "      <td>11</td>\n",
       "      <td>-1.5403153e+04</td>\n",
       "      <td>2.7200815e+02</td>\n",
       "      <td>1.0000000e+00</td>\n",
       "      <td>4.1423638e-61</td>\n",
       "    </tr>\n",
       "    <tr>\n",
       "      <th>8</th>\n",
       "      <td>+ URBANICITY + MVR_PTS + CAR_AGE + MSTATUS + CARTYPE + REVOKED + KIDSDRIV</td>\n",
       "      <td>12</td>\n",
       "      <td>-1.5299053e+04</td>\n",
       "      <td>2.0819974e+02</td>\n",
       "      <td>1.0000000e+00</td>\n",
       "      <td>3.3934421e-47</td>\n",
       "    </tr>\n",
       "  </tbody>\n",
       "</table>\n",
       "</div>"
      ],
      "text/plain": [
       "                                                                           0   1              2             3             4              5\n",
       "0                                                                  Intercept   1 -1.7324418e+04           NaN           NaN            NaN\n",
       "1                                                               + URBANICITY   2 -1.6480902e+04 1.6870313e+03 1.0000000e+00  0.0000000e+00\n",
       "2                                                     + URBANICITY + MVR_PTS   3 -1.6132234e+04 6.9733640e+02 1.0000000e+00 1.1348123e-153\n",
       "3                                           + URBANICITY + MVR_PTS + CAR_AGE   4 -1.5898009e+04 4.6844946e+02 1.0000000e+00 6.9691259e-104\n",
       "4                                           + URBANICITY + MVR_PTS + CAR_AGE   4 -1.5898009e+04 4.6844946e+02 1.0000000e+00 6.9691259e-104\n",
       "5                                + URBANICITY + MVR_PTS  + CAR_AGE + MSTATUS   5 -1.5720053e+04 3.5591160e+02 1.0000000e+00  2.1869339e-79\n",
       "6                      + URBANICITY + MVR_PTS + CAR_AGE + MSTATUS + CAR_TYPE  10 -1.5539157e+04 3.6179176e+02 5.0000000e+00  5.0584841e-76\n",
       "7             + URBANICITY + MVR_PTS + CAR_AGE + MSTATUS + CARTYPE + REVOKED  11 -1.5403153e+04 2.7200815e+02 1.0000000e+00  4.1423638e-61\n",
       "8  + URBANICITY + MVR_PTS + CAR_AGE + MSTATUS + CARTYPE + REVOKED + KIDSDRIV  12 -1.5299053e+04 2.0819974e+02 1.0000000e+00  3.3934421e-47"
      ]
     },
     "execution_count": 108,
     "metadata": {},
     "output_type": "execute_result"
    }
   ],
   "source": [
    "step_summary"
   ]
  },
  {
   "cell_type": "markdown",
   "id": "9e32a587",
   "metadata": {},
   "source": [
    "### Find the eighth predictor"
   ]
  },
  {
   "cell_type": "code",
   "execution_count": 109,
   "id": "a919aae3",
   "metadata": {},
   "outputs": [],
   "source": [
    "step_detail = pandas.DataFrame()"
   ]
  },
  {
   "cell_type": "code",
   "execution_count": 110,
   "id": "0b4bf4fc",
   "metadata": {},
   "outputs": [],
   "source": [
    "# Try Intercept + URBANICITY + MVR_PTS + CAR_AGE + MSTATUS + CARTYPE + REVOKED + KIDSDRIV + TRAVTIME \n",
    "X = X_train.join(term_travtime)\n",
    "outList = Regression.PoissonModel(X, y_train, o_train_X)\n",
    "llk_1 = outList[3]\n",
    "df_1 = len(outList[4])\n",
    "\n",
    "deviance_chisq = 2 * (llk_1 - llk_0)\n",
    "deviance_df = df_1 - df_0\n",
    "deviance_sig = chi2.sf(deviance_chisq, deviance_df)\n",
    "step_detail = step_detail.append([['+ URBANICITY + MVR_PTS + CAR_AGE + MSTATUS + CARTYPE + REVOKED + KIDSDRIV + TRAVTIME', df_1, llk_1, deviance_chisq, deviance_df, deviance_sig]], ignore_index = True)"
   ]
  },
  {
   "cell_type": "code",
   "execution_count": 111,
   "id": "3dad1a8a",
   "metadata": {},
   "outputs": [],
   "source": [
    "# Try Intercept + URBANICITY + MVR_PTS + CAR_AGE + MSTATUS + CARTYPE + REVOKED + KIDSDRIV + TIF \n",
    "X = X_train.join(term_tif)\n",
    "outList = Regression.PoissonModel(X, y_train, o_train_X)\n",
    "llk_1 = outList[3]\n",
    "df_1 = len(outList[4])\n",
    "\n",
    "deviance_chisq = 2 * (llk_1 - llk_0)\n",
    "deviance_df = df_1 - df_0\n",
    "deviance_sig = chi2.sf(deviance_chisq, deviance_df)\n",
    "step_detail = step_detail.append([['+ URBANICITY + MVR_PTS + CAR_AGE + MSTATUS + CARTYPE + REVOKED + KIDSDRIV + TIF', df_1, llk_1, deviance_chisq, deviance_df, deviance_sig]], ignore_index = True)"
   ]
  },
  {
   "cell_type": "code",
   "execution_count": 112,
   "id": "710bb7e4",
   "metadata": {},
   "outputs": [],
   "source": [
    "# Try Intercept + URBANICITY + MVR_PTS + CAR_AGE + MSTATUS + CARTYPE + REVOKED + KIDSDRIV + HOMEKIDS \n",
    "X = X_train.join(term_homekids)\n",
    "outList = Regression.PoissonModel(X, y_train, o_train_X)\n",
    "llk_1 = outList[3]\n",
    "df_1 = len(outList[4])\n",
    "\n",
    "deviance_chisq = 2 * (llk_1 - llk_0)\n",
    "deviance_df = df_1 - df_0\n",
    "deviance_sig = chi2.sf(deviance_chisq, deviance_df)\n",
    "step_detail = step_detail.append([['+ URBANICITY + MVR_PTS + CAR_AGE + MSTATUS + CARTYPE + REVOKED + KIDSDRIV + HOMEKIDS', df_1, llk_1, deviance_chisq, deviance_df, deviance_sig]], ignore_index = True)"
   ]
  },
  {
   "cell_type": "code",
   "execution_count": 113,
   "id": "c1bddf81",
   "metadata": {},
   "outputs": [
    {
     "data": {
      "text/html": [
       "<div>\n",
       "<style scoped>\n",
       "    .dataframe tbody tr th:only-of-type {\n",
       "        vertical-align: middle;\n",
       "    }\n",
       "\n",
       "    .dataframe tbody tr th {\n",
       "        vertical-align: top;\n",
       "    }\n",
       "\n",
       "    .dataframe thead th {\n",
       "        text-align: right;\n",
       "    }\n",
       "</style>\n",
       "<table border=\"1\" class=\"dataframe\">\n",
       "  <thead>\n",
       "    <tr style=\"text-align: right;\">\n",
       "      <th></th>\n",
       "      <th>0</th>\n",
       "      <th>1</th>\n",
       "      <th>2</th>\n",
       "      <th>3</th>\n",
       "      <th>4</th>\n",
       "      <th>5</th>\n",
       "    </tr>\n",
       "  </thead>\n",
       "  <tbody>\n",
       "    <tr>\n",
       "      <th>0</th>\n",
       "      <td>+ URBANICITY + MVR_PTS + CAR_AGE + MSTATUS + CARTYPE + REVOKED + KIDSDRIV + TRAVTIME</td>\n",
       "      <td>13</td>\n",
       "      <td>-1.5202055e+04</td>\n",
       "      <td>1.9399703e+02</td>\n",
       "      <td>1</td>\n",
       "      <td>4.2649355e-44</td>\n",
       "    </tr>\n",
       "    <tr>\n",
       "      <th>1</th>\n",
       "      <td>+ URBANICITY + MVR_PTS + CAR_AGE + MSTATUS + CARTYPE + REVOKED + KIDSDRIV + TIF</td>\n",
       "      <td>13</td>\n",
       "      <td>-1.5238763e+04</td>\n",
       "      <td>1.2058167e+02</td>\n",
       "      <td>1</td>\n",
       "      <td>4.7183874e-28</td>\n",
       "    </tr>\n",
       "    <tr>\n",
       "      <th>2</th>\n",
       "      <td>+ URBANICITY + MVR_PTS + CAR_AGE + MSTATUS + CARTYPE + REVOKED + KIDSDRIV + HOMEKIDS</td>\n",
       "      <td>13</td>\n",
       "      <td>-1.5261996e+04</td>\n",
       "      <td>7.4114833e+01</td>\n",
       "      <td>1</td>\n",
       "      <td>7.3702435e-18</td>\n",
       "    </tr>\n",
       "  </tbody>\n",
       "</table>\n",
       "</div>"
      ],
      "text/plain": [
       "                                                                                      0   1              2             3  4             5\n",
       "0  + URBANICITY + MVR_PTS + CAR_AGE + MSTATUS + CARTYPE + REVOKED + KIDSDRIV + TRAVTIME  13 -1.5202055e+04 1.9399703e+02  1 4.2649355e-44\n",
       "1       + URBANICITY + MVR_PTS + CAR_AGE + MSTATUS + CARTYPE + REVOKED + KIDSDRIV + TIF  13 -1.5238763e+04 1.2058167e+02  1 4.7183874e-28\n",
       "2  + URBANICITY + MVR_PTS + CAR_AGE + MSTATUS + CARTYPE + REVOKED + KIDSDRIV + HOMEKIDS  13 -1.5261996e+04 7.4114833e+01  1 7.3702435e-18"
      ]
     },
     "execution_count": 113,
     "metadata": {},
     "output_type": "execute_result"
    }
   ],
   "source": [
    "step_detail"
   ]
  },
  {
   "cell_type": "markdown",
   "id": "1cd274d3",
   "metadata": {},
   "source": [
    "#### insert TRAVELTIME as eighth predictor"
   ]
  },
  {
   "cell_type": "code",
   "execution_count": 114,
   "id": "eb0e8eef",
   "metadata": {},
   "outputs": [],
   "source": [
    "# Current model is Intercept + MVR_PTS + URBANICITY + CAR_AGE + MSTATUS + CARTYPE + REVOKED + KIDSDRIV + TRAVTIME\n",
    "row = step_detail[step_detail[0] == '+ URBANICITY + MVR_PTS + CAR_AGE + MSTATUS + CARTYPE + REVOKED + KIDSDRIV + TRAVTIME']\n",
    "llk_0 = row.iloc[0][2]\n",
    "df_0 = row.iloc[0][1]\n",
    "step_summary = step_summary.append(row, ignore_index = True)\n",
    "X_train = X_train.join(term_travtime)"
   ]
  },
  {
   "cell_type": "code",
   "execution_count": 115,
   "id": "3e59d6b9",
   "metadata": {},
   "outputs": [
    {
     "data": {
      "text/html": [
       "<div>\n",
       "<style scoped>\n",
       "    .dataframe tbody tr th:only-of-type {\n",
       "        vertical-align: middle;\n",
       "    }\n",
       "\n",
       "    .dataframe tbody tr th {\n",
       "        vertical-align: top;\n",
       "    }\n",
       "\n",
       "    .dataframe thead th {\n",
       "        text-align: right;\n",
       "    }\n",
       "</style>\n",
       "<table border=\"1\" class=\"dataframe\">\n",
       "  <thead>\n",
       "    <tr style=\"text-align: right;\">\n",
       "      <th></th>\n",
       "      <th>0</th>\n",
       "      <th>1</th>\n",
       "      <th>2</th>\n",
       "      <th>3</th>\n",
       "      <th>4</th>\n",
       "      <th>5</th>\n",
       "    </tr>\n",
       "  </thead>\n",
       "  <tbody>\n",
       "    <tr>\n",
       "      <th>0</th>\n",
       "      <td>Intercept</td>\n",
       "      <td>1</td>\n",
       "      <td>-1.7324418e+04</td>\n",
       "      <td>NaN</td>\n",
       "      <td>NaN</td>\n",
       "      <td>NaN</td>\n",
       "    </tr>\n",
       "    <tr>\n",
       "      <th>1</th>\n",
       "      <td>+ URBANICITY</td>\n",
       "      <td>2</td>\n",
       "      <td>-1.6480902e+04</td>\n",
       "      <td>1.6870313e+03</td>\n",
       "      <td>1.0000000e+00</td>\n",
       "      <td>0.0000000e+00</td>\n",
       "    </tr>\n",
       "    <tr>\n",
       "      <th>2</th>\n",
       "      <td>+ URBANICITY + MVR_PTS</td>\n",
       "      <td>3</td>\n",
       "      <td>-1.6132234e+04</td>\n",
       "      <td>6.9733640e+02</td>\n",
       "      <td>1.0000000e+00</td>\n",
       "      <td>1.1348123e-153</td>\n",
       "    </tr>\n",
       "    <tr>\n",
       "      <th>3</th>\n",
       "      <td>+ URBANICITY + MVR_PTS + CAR_AGE</td>\n",
       "      <td>4</td>\n",
       "      <td>-1.5898009e+04</td>\n",
       "      <td>4.6844946e+02</td>\n",
       "      <td>1.0000000e+00</td>\n",
       "      <td>6.9691259e-104</td>\n",
       "    </tr>\n",
       "    <tr>\n",
       "      <th>4</th>\n",
       "      <td>+ URBANICITY + MVR_PTS + CAR_AGE</td>\n",
       "      <td>4</td>\n",
       "      <td>-1.5898009e+04</td>\n",
       "      <td>4.6844946e+02</td>\n",
       "      <td>1.0000000e+00</td>\n",
       "      <td>6.9691259e-104</td>\n",
       "    </tr>\n",
       "    <tr>\n",
       "      <th>5</th>\n",
       "      <td>+ URBANICITY + MVR_PTS  + CAR_AGE + MSTATUS</td>\n",
       "      <td>5</td>\n",
       "      <td>-1.5720053e+04</td>\n",
       "      <td>3.5591160e+02</td>\n",
       "      <td>1.0000000e+00</td>\n",
       "      <td>2.1869339e-79</td>\n",
       "    </tr>\n",
       "    <tr>\n",
       "      <th>6</th>\n",
       "      <td>+ URBANICITY + MVR_PTS + CAR_AGE + MSTATUS + CAR_TYPE</td>\n",
       "      <td>10</td>\n",
       "      <td>-1.5539157e+04</td>\n",
       "      <td>3.6179176e+02</td>\n",
       "      <td>5.0000000e+00</td>\n",
       "      <td>5.0584841e-76</td>\n",
       "    </tr>\n",
       "    <tr>\n",
       "      <th>7</th>\n",
       "      <td>+ URBANICITY + MVR_PTS + CAR_AGE + MSTATUS + CARTYPE + REVOKED</td>\n",
       "      <td>11</td>\n",
       "      <td>-1.5403153e+04</td>\n",
       "      <td>2.7200815e+02</td>\n",
       "      <td>1.0000000e+00</td>\n",
       "      <td>4.1423638e-61</td>\n",
       "    </tr>\n",
       "    <tr>\n",
       "      <th>8</th>\n",
       "      <td>+ URBANICITY + MVR_PTS + CAR_AGE + MSTATUS + CARTYPE + REVOKED + KIDSDRIV</td>\n",
       "      <td>12</td>\n",
       "      <td>-1.5299053e+04</td>\n",
       "      <td>2.0819974e+02</td>\n",
       "      <td>1.0000000e+00</td>\n",
       "      <td>3.3934421e-47</td>\n",
       "    </tr>\n",
       "    <tr>\n",
       "      <th>9</th>\n",
       "      <td>+ URBANICITY + MVR_PTS + CAR_AGE + MSTATUS + CARTYPE + REVOKED + KIDSDRIV + TRAVTIME</td>\n",
       "      <td>13</td>\n",
       "      <td>-1.5202055e+04</td>\n",
       "      <td>1.9399703e+02</td>\n",
       "      <td>1.0000000e+00</td>\n",
       "      <td>4.2649355e-44</td>\n",
       "    </tr>\n",
       "  </tbody>\n",
       "</table>\n",
       "</div>"
      ],
      "text/plain": [
       "                                                                                      0   1              2             3             4              5\n",
       "0                                                                             Intercept   1 -1.7324418e+04           NaN           NaN            NaN\n",
       "1                                                                          + URBANICITY   2 -1.6480902e+04 1.6870313e+03 1.0000000e+00  0.0000000e+00\n",
       "2                                                                + URBANICITY + MVR_PTS   3 -1.6132234e+04 6.9733640e+02 1.0000000e+00 1.1348123e-153\n",
       "3                                                      + URBANICITY + MVR_PTS + CAR_AGE   4 -1.5898009e+04 4.6844946e+02 1.0000000e+00 6.9691259e-104\n",
       "4                                                      + URBANICITY + MVR_PTS + CAR_AGE   4 -1.5898009e+04 4.6844946e+02 1.0000000e+00 6.9691259e-104\n",
       "5                                           + URBANICITY + MVR_PTS  + CAR_AGE + MSTATUS   5 -1.5720053e+04 3.5591160e+02 1.0000000e+00  2.1869339e-79\n",
       "6                                 + URBANICITY + MVR_PTS + CAR_AGE + MSTATUS + CAR_TYPE  10 -1.5539157e+04 3.6179176e+02 5.0000000e+00  5.0584841e-76\n",
       "7                        + URBANICITY + MVR_PTS + CAR_AGE + MSTATUS + CARTYPE + REVOKED  11 -1.5403153e+04 2.7200815e+02 1.0000000e+00  4.1423638e-61\n",
       "8             + URBANICITY + MVR_PTS + CAR_AGE + MSTATUS + CARTYPE + REVOKED + KIDSDRIV  12 -1.5299053e+04 2.0819974e+02 1.0000000e+00  3.3934421e-47\n",
       "9  + URBANICITY + MVR_PTS + CAR_AGE + MSTATUS + CARTYPE + REVOKED + KIDSDRIV + TRAVTIME  13 -1.5202055e+04 1.9399703e+02 1.0000000e+00  4.2649355e-44"
      ]
     },
     "execution_count": 115,
     "metadata": {},
     "output_type": "execute_result"
    }
   ],
   "source": [
    "step_summary"
   ]
  },
  {
   "cell_type": "markdown",
   "id": "bfff7f99",
   "metadata": {},
   "source": [
    "### Find the nineth predictor"
   ]
  },
  {
   "cell_type": "code",
   "execution_count": 116,
   "id": "81d17649",
   "metadata": {},
   "outputs": [],
   "source": [
    "step_detail = pandas.DataFrame()"
   ]
  },
  {
   "cell_type": "code",
   "execution_count": 117,
   "id": "b2adffaa",
   "metadata": {},
   "outputs": [],
   "source": [
    "# Try Intercept + URBANICITY + MVR_PTS + CAR_AGE + MSTATUS + CARTYPE + REVOKED + KIDSDRIV + TRAVTIME + TIF\n",
    "X = X_train.join(term_tif)\n",
    "outList = Regression.PoissonModel(X, y_train, o_train_X)\n",
    "llk_1 = outList[3]\n",
    "df_1 = len(outList[4])\n",
    "\n",
    "deviance_chisq = 2 * (llk_1 - llk_0)\n",
    "deviance_df = df_1 - df_0\n",
    "deviance_sig = chi2.sf(deviance_chisq, deviance_df)\n",
    "step_detail = step_detail.append([['+ URBANICITY + MVR_PTS + CAR_AGE + MSTATUS + CARTYPE + REVOKED + KIDSDRIV + TRAVTIME + TIF', df_1, llk_1, deviance_chisq, deviance_df, deviance_sig]], ignore_index = True)"
   ]
  },
  {
   "cell_type": "code",
   "execution_count": 118,
   "id": "90b49aaf",
   "metadata": {},
   "outputs": [],
   "source": [
    "# Try Intercept + URBANICITY + MVR_PTS + CAR_AGE + MSTATUS + CARTYPE + REVOKED + KIDSDRIV + TRAVTIME + HOMEKIDS\n",
    "X = X_train.join(term_homekids)\n",
    "outList = Regression.PoissonModel(X, y_train, o_train_X)\n",
    "llk_1 = outList[3]\n",
    "df_1 = len(outList[4])\n",
    "\n",
    "deviance_chisq = 2 * (llk_1 - llk_0)\n",
    "deviance_df = df_1 - df_0\n",
    "deviance_sig = chi2.sf(deviance_chisq, deviance_df)\n",
    "step_detail = step_detail.append([['+ URBANICITY + MVR_PTS + CAR_AGE + MSTATUS + CARTYPE + REVOKED + KIDSDRIV + TRAVTIME + HOMEKIDS', df_1, llk_1, deviance_chisq, deviance_df, deviance_sig]], ignore_index = True)"
   ]
  },
  {
   "cell_type": "code",
   "execution_count": 119,
   "id": "074c331b",
   "metadata": {},
   "outputs": [
    {
     "data": {
      "text/html": [
       "<div>\n",
       "<style scoped>\n",
       "    .dataframe tbody tr th:only-of-type {\n",
       "        vertical-align: middle;\n",
       "    }\n",
       "\n",
       "    .dataframe tbody tr th {\n",
       "        vertical-align: top;\n",
       "    }\n",
       "\n",
       "    .dataframe thead th {\n",
       "        text-align: right;\n",
       "    }\n",
       "</style>\n",
       "<table border=\"1\" class=\"dataframe\">\n",
       "  <thead>\n",
       "    <tr style=\"text-align: right;\">\n",
       "      <th></th>\n",
       "      <th>0</th>\n",
       "      <th>1</th>\n",
       "      <th>2</th>\n",
       "      <th>3</th>\n",
       "      <th>4</th>\n",
       "      <th>5</th>\n",
       "    </tr>\n",
       "  </thead>\n",
       "  <tbody>\n",
       "    <tr>\n",
       "      <th>0</th>\n",
       "      <td>+ URBANICITY + MVR_PTS + CAR_AGE + MSTATUS + CARTYPE + REVOKED + KIDSDRIV + TRAVTIME + TIF</td>\n",
       "      <td>14</td>\n",
       "      <td>-1.5145287e+04</td>\n",
       "      <td>1.1353589e+02</td>\n",
       "      <td>1</td>\n",
       "      <td>1.6467361e-26</td>\n",
       "    </tr>\n",
       "    <tr>\n",
       "      <th>1</th>\n",
       "      <td>+ URBANICITY + MVR_PTS + CAR_AGE + MSTATUS + CARTYPE + REVOKED + KIDSDRIV + TRAVTIME + HOMEKIDS</td>\n",
       "      <td>14</td>\n",
       "      <td>-1.5160473e+04</td>\n",
       "      <td>8.3163802e+01</td>\n",
       "      <td>1</td>\n",
       "      <td>7.5528183e-20</td>\n",
       "    </tr>\n",
       "  </tbody>\n",
       "</table>\n",
       "</div>"
      ],
      "text/plain": [
       "                                                                                                 0   1              2             3  4             5\n",
       "0       + URBANICITY + MVR_PTS + CAR_AGE + MSTATUS + CARTYPE + REVOKED + KIDSDRIV + TRAVTIME + TIF  14 -1.5145287e+04 1.1353589e+02  1 1.6467361e-26\n",
       "1  + URBANICITY + MVR_PTS + CAR_AGE + MSTATUS + CARTYPE + REVOKED + KIDSDRIV + TRAVTIME + HOMEKIDS  14 -1.5160473e+04 8.3163802e+01  1 7.5528183e-20"
      ]
     },
     "execution_count": 119,
     "metadata": {},
     "output_type": "execute_result"
    }
   ],
   "source": [
    "step_detail"
   ]
  },
  {
   "cell_type": "markdown",
   "id": "99934c2d",
   "metadata": {},
   "source": [
    "#### Insert TIF as the nineth predictor"
   ]
  },
  {
   "cell_type": "code",
   "execution_count": 120,
   "id": "b740599d",
   "metadata": {},
   "outputs": [],
   "source": [
    "# Current model is Intercept + MVR_PTS + URBANICITY + CAR_AGE + MSTATUS + CARTYPE + REVOKED + KIDSDRIV + TRAVTIME + TIF\n",
    "row = step_detail[step_detail[0] == '+ URBANICITY + MVR_PTS + CAR_AGE + MSTATUS + CARTYPE + REVOKED + KIDSDRIV + TRAVTIME + TIF']\n",
    "llk_0 = row.iloc[0][2]\n",
    "df_0 = row.iloc[0][1]\n",
    "step_summary = step_summary.append(row, ignore_index = True)\n",
    "X_train = X_train.join(term_tif)"
   ]
  },
  {
   "cell_type": "code",
   "execution_count": 110,
   "id": "37fdfbb6",
   "metadata": {},
   "outputs": [
    {
     "data": {
      "text/html": [
       "<div>\n",
       "<style scoped>\n",
       "    .dataframe tbody tr th:only-of-type {\n",
       "        vertical-align: middle;\n",
       "    }\n",
       "\n",
       "    .dataframe tbody tr th {\n",
       "        vertical-align: top;\n",
       "    }\n",
       "\n",
       "    .dataframe thead th {\n",
       "        text-align: right;\n",
       "    }\n",
       "</style>\n",
       "<table border=\"1\" class=\"dataframe\">\n",
       "  <thead>\n",
       "    <tr style=\"text-align: right;\">\n",
       "      <th></th>\n",
       "      <th>0</th>\n",
       "      <th>1</th>\n",
       "      <th>2</th>\n",
       "      <th>3</th>\n",
       "      <th>4</th>\n",
       "      <th>5</th>\n",
       "    </tr>\n",
       "  </thead>\n",
       "  <tbody>\n",
       "    <tr>\n",
       "      <th>0</th>\n",
       "      <td>Intercept</td>\n",
       "      <td>1</td>\n",
       "      <td>-1.7324418e+04</td>\n",
       "      <td>NaN</td>\n",
       "      <td>NaN</td>\n",
       "      <td>NaN</td>\n",
       "    </tr>\n",
       "    <tr>\n",
       "      <th>1</th>\n",
       "      <td>+ MVR_PTS</td>\n",
       "      <td>2</td>\n",
       "      <td>-1.6816770e+04</td>\n",
       "      <td>1.0152957e+03</td>\n",
       "      <td>1.0000000e+00</td>\n",
       "      <td>8.5025203e-223</td>\n",
       "    </tr>\n",
       "    <tr>\n",
       "      <th>2</th>\n",
       "      <td>+ MVR_PTS + URBANICITY</td>\n",
       "      <td>3</td>\n",
       "      <td>-1.6132234e+04</td>\n",
       "      <td>1.3690720e+03</td>\n",
       "      <td>1.0000000e+00</td>\n",
       "      <td>1.1046068e-299</td>\n",
       "    </tr>\n",
       "    <tr>\n",
       "      <th>3</th>\n",
       "      <td>+ MVR_PTS + URBANICITY + CAR_AGE</td>\n",
       "      <td>4</td>\n",
       "      <td>-1.5898009e+04</td>\n",
       "      <td>4.6844946e+02</td>\n",
       "      <td>1.0000000e+00</td>\n",
       "      <td>6.9691259e-104</td>\n",
       "    </tr>\n",
       "    <tr>\n",
       "      <th>4</th>\n",
       "      <td>+ MVR_PTS + URBANICITY + CAR_AGE + MSTATUS</td>\n",
       "      <td>5</td>\n",
       "      <td>-1.5720053e+04</td>\n",
       "      <td>3.5591160e+02</td>\n",
       "      <td>1.0000000e+00</td>\n",
       "      <td>2.1869339e-79</td>\n",
       "    </tr>\n",
       "    <tr>\n",
       "      <th>5</th>\n",
       "      <td>+ MVR_PTS + URBANICITY + CAR_AGE + MSTATUS + CAR_TYPE</td>\n",
       "      <td>10</td>\n",
       "      <td>-1.5539157e+04</td>\n",
       "      <td>3.6179176e+02</td>\n",
       "      <td>5.0000000e+00</td>\n",
       "      <td>5.0584841e-76</td>\n",
       "    </tr>\n",
       "    <tr>\n",
       "      <th>6</th>\n",
       "      <td>+ MVR_PTS + URBANICITY + CAR_AGE + MSTATUS + CARTYPE + REVOKED</td>\n",
       "      <td>11</td>\n",
       "      <td>-1.5403153e+04</td>\n",
       "      <td>2.7200815e+02</td>\n",
       "      <td>1.0000000e+00</td>\n",
       "      <td>4.1423638e-61</td>\n",
       "    </tr>\n",
       "    <tr>\n",
       "      <th>7</th>\n",
       "      <td>+ MVR_PTS + URBANICITY + CAR_AGE + MSTATUS + CARTYPE + REVOKED + KIDSDRIV</td>\n",
       "      <td>12</td>\n",
       "      <td>-1.5299053e+04</td>\n",
       "      <td>2.0819974e+02</td>\n",
       "      <td>1.0000000e+00</td>\n",
       "      <td>3.3934421e-47</td>\n",
       "    </tr>\n",
       "    <tr>\n",
       "      <th>8</th>\n",
       "      <td>+ MVR_PTS + URBANICITY + CAR_AGE + MSTATUS + CARTYPE + REVOKED + KIDSDRIV + TRAVTIME</td>\n",
       "      <td>13</td>\n",
       "      <td>-1.5202055e+04</td>\n",
       "      <td>1.9399703e+02</td>\n",
       "      <td>1.0000000e+00</td>\n",
       "      <td>4.2649355e-44</td>\n",
       "    </tr>\n",
       "    <tr>\n",
       "      <th>9</th>\n",
       "      <td>+ MVR_PTS + URBANICITY + CAR_AGE + MSTATUS + CARTYPE + REVOKED + KIDSDRIV + TRAVTIME + TIF</td>\n",
       "      <td>14</td>\n",
       "      <td>-1.5145287e+04</td>\n",
       "      <td>1.1353589e+02</td>\n",
       "      <td>1.0000000e+00</td>\n",
       "      <td>1.6467361e-26</td>\n",
       "    </tr>\n",
       "  </tbody>\n",
       "</table>\n",
       "</div>"
      ],
      "text/plain": [
       "                                                                                            0   1              2             3             4              5\n",
       "0                                                                                   Intercept   1 -1.7324418e+04           NaN           NaN            NaN\n",
       "1                                                                                   + MVR_PTS   2 -1.6816770e+04 1.0152957e+03 1.0000000e+00 8.5025203e-223\n",
       "2                                                                      + MVR_PTS + URBANICITY   3 -1.6132234e+04 1.3690720e+03 1.0000000e+00 1.1046068e-299\n",
       "3                                                            + MVR_PTS + URBANICITY + CAR_AGE   4 -1.5898009e+04 4.6844946e+02 1.0000000e+00 6.9691259e-104\n",
       "4                                                  + MVR_PTS + URBANICITY + CAR_AGE + MSTATUS   5 -1.5720053e+04 3.5591160e+02 1.0000000e+00  2.1869339e-79\n",
       "5                                       + MVR_PTS + URBANICITY + CAR_AGE + MSTATUS + CAR_TYPE  10 -1.5539157e+04 3.6179176e+02 5.0000000e+00  5.0584841e-76\n",
       "6                              + MVR_PTS + URBANICITY + CAR_AGE + MSTATUS + CARTYPE + REVOKED  11 -1.5403153e+04 2.7200815e+02 1.0000000e+00  4.1423638e-61\n",
       "7                   + MVR_PTS + URBANICITY + CAR_AGE + MSTATUS + CARTYPE + REVOKED + KIDSDRIV  12 -1.5299053e+04 2.0819974e+02 1.0000000e+00  3.3934421e-47\n",
       "8        + MVR_PTS + URBANICITY + CAR_AGE + MSTATUS + CARTYPE + REVOKED + KIDSDRIV + TRAVTIME  13 -1.5202055e+04 1.9399703e+02 1.0000000e+00  4.2649355e-44\n",
       "9  + MVR_PTS + URBANICITY + CAR_AGE + MSTATUS + CARTYPE + REVOKED + KIDSDRIV + TRAVTIME + TIF  14 -1.5145287e+04 1.1353589e+02 1.0000000e+00  1.6467361e-26"
      ]
     },
     "execution_count": 110,
     "metadata": {},
     "output_type": "execute_result"
    }
   ],
   "source": [
    "step_summary"
   ]
  },
  {
   "cell_type": "markdown",
   "id": "eba48519",
   "metadata": {},
   "source": [
    "### Find the tenth predictor"
   ]
  },
  {
   "cell_type": "code",
   "execution_count": 121,
   "id": "67f9161d",
   "metadata": {},
   "outputs": [],
   "source": [
    "step_detail = pandas.DataFrame()"
   ]
  },
  {
   "cell_type": "code",
   "execution_count": 122,
   "id": "0eba255f",
   "metadata": {},
   "outputs": [],
   "source": [
    "# Try Intercept + URBANICITY + MVR_PTS + CAR_AGE + MSTATUS + CARTYPE + REVOKED + KIDSDRIV + TRAVTIME + TIF + HOMEKIDS\n",
    "X = X_train.join(term_homekids)\n",
    "outList = Regression.PoissonModel(X, y_train, o_train_X)\n",
    "llk_1 = outList[3]\n",
    "df_1 = len(outList[4])\n",
    "\n",
    "deviance_chisq = 2 * (llk_1 - llk_0)\n",
    "deviance_df = df_1 - df_0\n",
    "deviance_sig = chi2.sf(deviance_chisq, deviance_df)\n",
    "step_detail = step_detail.append([['+ URBANICITY + MVR_PTS + CAR_AGE + MSTATUS + CARTYPE + REVOKED + KIDSDRIV + TRAVTIME + TIF + HOMEKIDS', df_1, llk_1, deviance_chisq, deviance_df, deviance_sig]], ignore_index = True)"
   ]
  },
  {
   "cell_type": "code",
   "execution_count": 123,
   "id": "d5c31b08",
   "metadata": {},
   "outputs": [
    {
     "data": {
      "text/html": [
       "<div>\n",
       "<style scoped>\n",
       "    .dataframe tbody tr th:only-of-type {\n",
       "        vertical-align: middle;\n",
       "    }\n",
       "\n",
       "    .dataframe tbody tr th {\n",
       "        vertical-align: top;\n",
       "    }\n",
       "\n",
       "    .dataframe thead th {\n",
       "        text-align: right;\n",
       "    }\n",
       "</style>\n",
       "<table border=\"1\" class=\"dataframe\">\n",
       "  <thead>\n",
       "    <tr style=\"text-align: right;\">\n",
       "      <th></th>\n",
       "      <th>0</th>\n",
       "      <th>1</th>\n",
       "      <th>2</th>\n",
       "      <th>3</th>\n",
       "      <th>4</th>\n",
       "      <th>5</th>\n",
       "    </tr>\n",
       "  </thead>\n",
       "  <tbody>\n",
       "    <tr>\n",
       "      <th>0</th>\n",
       "      <td>+ URBANICITY + MVR_PTS + CAR_AGE + MSTATUS + CARTYPE + REVOKED + KIDSDRIV + TRAVTIME + TIF + HOMEKIDS</td>\n",
       "      <td>15</td>\n",
       "      <td>-1.5102010e+04</td>\n",
       "      <td>8.6553304e+01</td>\n",
       "      <td>1</td>\n",
       "      <td>1.3602126e-20</td>\n",
       "    </tr>\n",
       "  </tbody>\n",
       "</table>\n",
       "</div>"
      ],
      "text/plain": [
       "                                                                                                       0   1              2             3  4             5\n",
       "0  + URBANICITY + MVR_PTS + CAR_AGE + MSTATUS + CARTYPE + REVOKED + KIDSDRIV + TRAVTIME + TIF + HOMEKIDS  15 -1.5102010e+04 8.6553304e+01  1 1.3602126e-20"
      ]
     },
     "execution_count": 123,
     "metadata": {},
     "output_type": "execute_result"
    }
   ],
   "source": [
    "step_detail"
   ]
  },
  {
   "cell_type": "markdown",
   "id": "14d2bbed",
   "metadata": {},
   "source": [
    "#### Insert HOMEKIDS as the tenth predictor"
   ]
  },
  {
   "cell_type": "code",
   "execution_count": 124,
   "id": "707b5dfc",
   "metadata": {},
   "outputs": [],
   "source": [
    "# Current model is Intercept + + URBANICITY + MVR_PTS + CAR_AGE + MSTATUS + CARTYPE + REVOKED + KIDSDRIV + TRAVTIME + TIF + HOMEKIDS\n",
    "row = step_detail[step_detail[0] == '+ URBANICITY + MVR_PTS + CAR_AGE + MSTATUS + CARTYPE + REVOKED + KIDSDRIV + TRAVTIME + TIF + HOMEKIDS']\n",
    "llk_0 = row.iloc[0][2]\n",
    "df_0 = row.iloc[0][1]\n",
    "step_summary = step_summary.append(row, ignore_index = True)\n",
    "X_train = X_train.join(term_homekids)"
   ]
  },
  {
   "cell_type": "code",
   "execution_count": 125,
   "id": "06a4bac5",
   "metadata": {},
   "outputs": [],
   "source": [
    "ita_name = ['Model','# of Non-aliased Parameters','Log-likelihood','Deviance','Degree of freedom','Significance']"
   ]
  },
  {
   "cell_type": "code",
   "execution_count": 126,
   "id": "0996fb0f",
   "metadata": {},
   "outputs": [],
   "source": [
    "step_summary.columns = [ita_name]"
   ]
  },
  {
   "cell_type": "markdown",
   "id": "705473e5",
   "metadata": {},
   "source": [
    "### The Forward Selection Summary, the significance increased when more predictors entered"
   ]
  },
  {
   "cell_type": "code",
   "execution_count": 127,
   "id": "aee41d7c",
   "metadata": {},
   "outputs": [
    {
     "data": {
      "text/html": [
       "<div>\n",
       "<style scoped>\n",
       "    .dataframe tbody tr th:only-of-type {\n",
       "        vertical-align: middle;\n",
       "    }\n",
       "\n",
       "    .dataframe tbody tr th {\n",
       "        vertical-align: top;\n",
       "    }\n",
       "\n",
       "    .dataframe thead tr th {\n",
       "        text-align: left;\n",
       "    }\n",
       "</style>\n",
       "<table border=\"1\" class=\"dataframe\">\n",
       "  <thead>\n",
       "    <tr>\n",
       "      <th></th>\n",
       "      <th>Model</th>\n",
       "      <th># of Non-aliased Parameters</th>\n",
       "      <th>Log-likelihood</th>\n",
       "      <th>Deviance</th>\n",
       "      <th>Degree of freedom</th>\n",
       "      <th>Significance</th>\n",
       "    </tr>\n",
       "  </thead>\n",
       "  <tbody>\n",
       "    <tr>\n",
       "      <th>0</th>\n",
       "      <td>Intercept</td>\n",
       "      <td>1</td>\n",
       "      <td>-1.7324418e+04</td>\n",
       "      <td>NaN</td>\n",
       "      <td>NaN</td>\n",
       "      <td>NaN</td>\n",
       "    </tr>\n",
       "    <tr>\n",
       "      <th>1</th>\n",
       "      <td>+ URBANICITY</td>\n",
       "      <td>2</td>\n",
       "      <td>-1.6480902e+04</td>\n",
       "      <td>1.6870313e+03</td>\n",
       "      <td>1.0000000e+00</td>\n",
       "      <td>0.0000000e+00</td>\n",
       "    </tr>\n",
       "    <tr>\n",
       "      <th>2</th>\n",
       "      <td>+ URBANICITY + MVR_PTS</td>\n",
       "      <td>3</td>\n",
       "      <td>-1.6132234e+04</td>\n",
       "      <td>6.9733640e+02</td>\n",
       "      <td>1.0000000e+00</td>\n",
       "      <td>1.1348123e-153</td>\n",
       "    </tr>\n",
       "    <tr>\n",
       "      <th>3</th>\n",
       "      <td>+ URBANICITY + MVR_PTS + CAR_AGE</td>\n",
       "      <td>4</td>\n",
       "      <td>-1.5898009e+04</td>\n",
       "      <td>4.6844946e+02</td>\n",
       "      <td>1.0000000e+00</td>\n",
       "      <td>6.9691259e-104</td>\n",
       "    </tr>\n",
       "    <tr>\n",
       "      <th>4</th>\n",
       "      <td>+ URBANICITY + MVR_PTS + CAR_AGE</td>\n",
       "      <td>4</td>\n",
       "      <td>-1.5898009e+04</td>\n",
       "      <td>4.6844946e+02</td>\n",
       "      <td>1.0000000e+00</td>\n",
       "      <td>6.9691259e-104</td>\n",
       "    </tr>\n",
       "    <tr>\n",
       "      <th>5</th>\n",
       "      <td>+ URBANICITY + MVR_PTS  + CAR_AGE + MSTATUS</td>\n",
       "      <td>5</td>\n",
       "      <td>-1.5720053e+04</td>\n",
       "      <td>3.5591160e+02</td>\n",
       "      <td>1.0000000e+00</td>\n",
       "      <td>2.1869339e-79</td>\n",
       "    </tr>\n",
       "    <tr>\n",
       "      <th>6</th>\n",
       "      <td>+ URBANICITY + MVR_PTS + CAR_AGE + MSTATUS + CAR_TYPE</td>\n",
       "      <td>10</td>\n",
       "      <td>-1.5539157e+04</td>\n",
       "      <td>3.6179176e+02</td>\n",
       "      <td>5.0000000e+00</td>\n",
       "      <td>5.0584841e-76</td>\n",
       "    </tr>\n",
       "    <tr>\n",
       "      <th>7</th>\n",
       "      <td>+ URBANICITY + MVR_PTS + CAR_AGE + MSTATUS + CARTYPE + REVOKED</td>\n",
       "      <td>11</td>\n",
       "      <td>-1.5403153e+04</td>\n",
       "      <td>2.7200815e+02</td>\n",
       "      <td>1.0000000e+00</td>\n",
       "      <td>4.1423638e-61</td>\n",
       "    </tr>\n",
       "    <tr>\n",
       "      <th>8</th>\n",
       "      <td>+ URBANICITY + MVR_PTS + CAR_AGE + MSTATUS + CARTYPE + REVOKED + KIDSDRIV</td>\n",
       "      <td>12</td>\n",
       "      <td>-1.5299053e+04</td>\n",
       "      <td>2.0819974e+02</td>\n",
       "      <td>1.0000000e+00</td>\n",
       "      <td>3.3934421e-47</td>\n",
       "    </tr>\n",
       "    <tr>\n",
       "      <th>9</th>\n",
       "      <td>+ URBANICITY + MVR_PTS + CAR_AGE + MSTATUS + CARTYPE + REVOKED + KIDSDRIV + TRAVTIME</td>\n",
       "      <td>13</td>\n",
       "      <td>-1.5202055e+04</td>\n",
       "      <td>1.9399703e+02</td>\n",
       "      <td>1.0000000e+00</td>\n",
       "      <td>4.2649355e-44</td>\n",
       "    </tr>\n",
       "    <tr>\n",
       "      <th>10</th>\n",
       "      <td>+ URBANICITY + MVR_PTS + CAR_AGE + MSTATUS + CARTYPE + REVOKED + KIDSDRIV + TRAVTIME + TIF</td>\n",
       "      <td>14</td>\n",
       "      <td>-1.5145287e+04</td>\n",
       "      <td>1.1353589e+02</td>\n",
       "      <td>1.0000000e+00</td>\n",
       "      <td>1.6467361e-26</td>\n",
       "    </tr>\n",
       "    <tr>\n",
       "      <th>11</th>\n",
       "      <td>+ URBANICITY + MVR_PTS + CAR_AGE + MSTATUS + CARTYPE + REVOKED + KIDSDRIV + TRAVTIME + TIF + HOMEKIDS</td>\n",
       "      <td>15</td>\n",
       "      <td>-1.5102010e+04</td>\n",
       "      <td>8.6553304e+01</td>\n",
       "      <td>1.0000000e+00</td>\n",
       "      <td>1.3602126e-20</td>\n",
       "    </tr>\n",
       "  </tbody>\n",
       "</table>\n",
       "</div>"
      ],
      "text/plain": [
       "                                                                                                    Model # of Non-aliased Parameters Log-likelihood      Deviance Degree of freedom   Significance\n",
       "0                                                                                               Intercept                           1 -1.7324418e+04           NaN               NaN            NaN\n",
       "1                                                                                            + URBANICITY                           2 -1.6480902e+04 1.6870313e+03     1.0000000e+00  0.0000000e+00\n",
       "2                                                                                  + URBANICITY + MVR_PTS                           3 -1.6132234e+04 6.9733640e+02     1.0000000e+00 1.1348123e-153\n",
       "3                                                                        + URBANICITY + MVR_PTS + CAR_AGE                           4 -1.5898009e+04 4.6844946e+02     1.0000000e+00 6.9691259e-104\n",
       "4                                                                        + URBANICITY + MVR_PTS + CAR_AGE                           4 -1.5898009e+04 4.6844946e+02     1.0000000e+00 6.9691259e-104\n",
       "5                                                             + URBANICITY + MVR_PTS  + CAR_AGE + MSTATUS                           5 -1.5720053e+04 3.5591160e+02     1.0000000e+00  2.1869339e-79\n",
       "6                                                   + URBANICITY + MVR_PTS + CAR_AGE + MSTATUS + CAR_TYPE                          10 -1.5539157e+04 3.6179176e+02     5.0000000e+00  5.0584841e-76\n",
       "7                                          + URBANICITY + MVR_PTS + CAR_AGE + MSTATUS + CARTYPE + REVOKED                          11 -1.5403153e+04 2.7200815e+02     1.0000000e+00  4.1423638e-61\n",
       "8                               + URBANICITY + MVR_PTS + CAR_AGE + MSTATUS + CARTYPE + REVOKED + KIDSDRIV                          12 -1.5299053e+04 2.0819974e+02     1.0000000e+00  3.3934421e-47\n",
       "9                    + URBANICITY + MVR_PTS + CAR_AGE + MSTATUS + CARTYPE + REVOKED + KIDSDRIV + TRAVTIME                          13 -1.5202055e+04 1.9399703e+02     1.0000000e+00  4.2649355e-44\n",
       "10             + URBANICITY + MVR_PTS + CAR_AGE + MSTATUS + CARTYPE + REVOKED + KIDSDRIV + TRAVTIME + TIF                          14 -1.5145287e+04 1.1353589e+02     1.0000000e+00  1.6467361e-26\n",
       "11  + URBANICITY + MVR_PTS + CAR_AGE + MSTATUS + CARTYPE + REVOKED + KIDSDRIV + TRAVTIME + TIF + HOMEKIDS                          15 -1.5102010e+04 8.6553304e+01     1.0000000e+00  1.3602126e-20"
      ]
     },
     "execution_count": 127,
     "metadata": {},
     "output_type": "execute_result"
    }
   ],
   "source": [
    "step_summary"
   ]
  },
  {
   "cell_type": "markdown",
   "id": "cab80b94",
   "metadata": {},
   "source": [
    "## b) What predictors does your final model contain?"
   ]
  },
  {
   "cell_type": "markdown",
   "id": "b42a5f2d",
   "metadata": {},
   "source": [
    "All predictors are significant, therefore the final model has then predictors: \n",
    "\n",
    "+ URBANICITY + MVR_PTS + CAR_AGE + MSTATUS + CARTYPE + REVOKED + KIDSDRIV + TRAVTIME + TIF + HOMEKIDS"
   ]
  },
  {
   "cell_type": "markdown",
   "id": "c813c0be",
   "metadata": {},
   "source": [
    "## c) What are the aliased parameters in your final model?  Please list the predictor’s name and the aliased categories."
   ]
  },
  {
   "cell_type": "markdown",
   "id": "baea095b",
   "metadata": {},
   "source": [
    "URBANICITY - Highly Urban & CAR_TYPE -SUV\n",
    "\n",
    "MSTATUS - Yes & REVOKED - No"
   ]
  },
  {
   "cell_type": "code",
   "execution_count": 128,
   "id": "bde3de0f",
   "metadata": {},
   "outputs": [
    {
     "name": "stdout",
     "output_type": "stream",
     "text": [
      "                          Estimate  Standard Error   Lower 95% CI   Upper 95% CI  Exponentiated\n",
      "Intercept           -2.6322414e-01   4.4018393e-02 -3.4949860e-01 -1.7694967e-01  7.6856961e-01\n",
      "Highly Rural/ Rural -1.7758313e+00   5.4677121e-02 -1.8829965e+00 -1.6686661e+00  1.6934262e-01\n",
      "Highly Urban/ Urban  0.0000000e+00   0.0000000e+00  0.0000000e+00  0.0000000e+00  1.0000000e+00\n",
      "MVR_PTS              8.7009883e-02   4.4357124e-03  7.8316047e-02  9.5703720e-02  1.0909075e+00\n",
      "CAR_AGE             -3.9573491e-02   2.1044246e-03 -4.3698088e-02 -3.5448895e-02  9.6119931e-01\n",
      "Mno                  4.5935083e-01   2.2857571e-02  4.1455082e-01  5.0415085e-01  1.5830460e+00\n",
      "Myes                 0.0000000e+00   0.0000000e+00  0.0000000e+00  0.0000000e+00  1.0000000e+00\n",
      "Panel Truck          3.9330010e-02   4.4299910e-02 -4.7496218e-02  1.2615624e-01  1.0401137e+00\n",
      "Van                 -1.8766485e-02   4.3011406e-02 -1.0306729e-01  6.5534321e-02  9.8140851e-01\n",
      "Sports Car           1.7762272e-01   3.6036263e-02  1.0699295e-01  2.4825250e-01  1.1943746e+00\n",
      "Pickup               5.9603276e-02   3.2913905e-02 -4.9067932e-03  1.2411334e-01  1.0614154e+00\n",
      "Minivan             -4.7059180e-01   3.4284237e-02 -5.3778767e-01 -4.0339593e-01  6.2463250e-01\n",
      "SUV                  0.0000000e+00   0.0000000e+00  0.0000000e+00  0.0000000e+00  1.0000000e+00\n",
      "Ryes                 4.3719893e-01   2.8261101e-02  3.8180819e-01  4.9258967e-01  1.5483641e+00\n",
      "Rno                  0.0000000e+00   0.0000000e+00  0.0000000e+00  0.0000000e+00  1.0000000e+00\n",
      "KIDSDRIV             1.7564921e-01   2.0486256e-02  1.3549689e-01  2.1580154e-01  1.1920198e+00\n",
      "TRAVTIME             1.0231442e-02   7.2432061e-04  8.8117994e-03  1.1651084e-02  1.0102840e+00\n",
      "TIF                 -3.1315006e-02   2.9534848e-03 -3.7103730e-02 -2.5526282e-02  9.6917023e-01\n",
      "HOMEKIDS             1.0284513e-01   1.0790460e-02  8.1696220e-02  1.2399405e-01  1.1083198e+00\n"
     ]
    }
   ],
   "source": [
    "# Precompute the ln(y!) \n",
    "constLLK = loggamma(y_train+1.0)\n",
    "# Generate the design matrix with the Intercept term as the first column\n",
    "modelX = X_train.copy()\n",
    "#modelX.insert(0, 'Intercept', 1.0)\n",
    "modelXT = modelX.transpose()\n",
    "param_name = modelX.columns\n",
    "n_sample = modelX.shape[0]\n",
    "n_param = modelX.shape[1]\n",
    "# Specify some constants\n",
    "maxIter = 20\n",
    "maxStep = 5\n",
    "tolSweep = 1e-7\n",
    "tolLLK = 1e-3\n",
    "tolBeta = 1e-10\n",
    "# Initialize beta array\n",
    "beta = numpy.zeros(n_param)\n",
    "beta[0] = numpy.log(numpy.mean(y_train))\n",
    "nu = o_train_X + modelX.dot(beta)\n",
    "y_pred = numpy.exp(nu)\n",
    "llk = numpy.sum(y_train * nu - y_pred - constLLK)\n",
    "# Prepare the iteration history table \n",
    "itList = [0, llk, beta]\n",
    "iterTable = [itList]\n",
    "for it in range(maxIter):\n",
    "   gradient = modelXT.dot((y_train - y_pred))\n",
    "   hessian = - modelXT.dot((y_pred.values.reshape((n_sample,1)) * modelX))\n",
    "   orig_diag = numpy.diag(hessian)\n",
    "   invhessian, aliasParam, nonAliasParam = Regression.SWEEPOperator (n_param, \n",
    "hessian, orig_diag, sweepCol = range(n_param), tol = tolSweep)\n",
    "   delta = numpy.matmul(-invhessian, gradient)\n",
    "   step = 1.0\n",
    "   for iStep in range(maxStep):\n",
    "      beta_next = beta - step * delta\n",
    "      nu_next = o_train_X + numpy.dot(modelX, beta_next)\n",
    "      y_pred_next = numpy.exp(nu_next)\n",
    "      llk_next = numpy.sum(y_train * nu_next - y_pred_next - constLLK)\n",
    "      if ((llk_next - llk) > - tolLLK):\n",
    "         break\n",
    "      else:\n",
    "         step = 0.5 * step\n",
    "   diffBeta = beta_next - beta\n",
    "   llk = llk_next\n",
    "   beta = beta_next\n",
    "   y_pred = y_pred_next\n",
    "   itList = [it+1, llk, beta]\n",
    "   iterTable.append(itList)\n",
    "   if (numpy.linalg.norm(diffBeta) < tolBeta):\n",
    "      break\n",
    "it_name = ['Iteration', 'Log-Likelihood','Parameters']\n",
    "outTable = pandas.DataFrame(iterTable, columns = it_name)\n",
    "#print('Iteration History Table:\\n', outTable)\n",
    "# Final covariance matrix\n",
    "stderr = numpy.sqrt(numpy.diag(invhessian))\n",
    "z95 = norm.ppf(0.975)\n",
    "# Final parameter estimates\n",
    "outCoefficient = pandas.DataFrame(beta, index = param_name, columns = ['Estimate'])\n",
    "outCoefficient['Standard Error'] = stderr\n",
    "outCoefficient['Lower 95% CI'] = beta - z95 * stderr\n",
    "outCoefficient['Upper 95% CI'] = beta + z95 * stderr\n",
    "outCoefficient['Exponentiated'] = numpy.exp(beta)\n",
    "print(outCoefficient)"
   ]
  },
  {
   "cell_type": "markdown",
   "id": "b8585ee5",
   "metadata": {
    "heading_collapsed": true
   },
   "source": [
    "## d) How many non-aliased parameters are in your final model?"
   ]
  },
  {
   "cell_type": "markdown",
   "id": "32408f71",
   "metadata": {
    "hidden": true
   },
   "source": [
    "15"
   ]
  },
  {
   "cell_type": "markdown",
   "id": "68715bf8",
   "metadata": {},
   "source": [
    "## e) Show a set of parameters of your final model\n",
    "Please show a table of the complete set of parameters of your final model (including \n",
    "the aliased parameters).  Besides the parameter estimates, please also include the standard errors, \n",
    "and the 95% asymptotic confidence intervals.  Conventionally, aliased parameters have missing \n",
    "standard errors and confidence intervals."
   ]
  },
  {
   "cell_type": "code",
   "execution_count": 1234,
   "id": "b43f5823",
   "metadata": {},
   "outputs": [
    {
     "name": "stdout",
     "output_type": "stream",
     "text": [
      "                          Estimate  Standard Error   Lower 95% CI   Upper 95% CI  Exponentiated\n",
      "Intercept           -2.6322414e-01   4.4018393e-02 -3.4949860e-01 -1.7694967e-01  7.6856961e-01\n",
      "MVR_PTS              8.7009883e-02   4.4357124e-03  7.8316047e-02  9.5703720e-02  1.0909075e+00\n",
      "Highly Rural/ Rural -1.7758313e+00   5.4677121e-02 -1.8829965e+00 -1.6686661e+00  1.6934262e-01\n",
      "Highly Urban/ Urban  0.0000000e+00   0.0000000e+00  0.0000000e+00  0.0000000e+00  1.0000000e+00\n",
      "CAR_AGE             -3.9573491e-02   2.1044246e-03 -4.3698088e-02 -3.5448895e-02  9.6119931e-01\n",
      "Mno                  4.5935083e-01   2.2857571e-02  4.1455082e-01  5.0415085e-01  1.5830460e+00\n",
      "Myes                 0.0000000e+00   0.0000000e+00  0.0000000e+00  0.0000000e+00  1.0000000e+00\n",
      "Panel Truck          3.9330010e-02   4.4299910e-02 -4.7496218e-02  1.2615624e-01  1.0401137e+00\n",
      "Van                 -1.8766485e-02   4.3011406e-02 -1.0306729e-01  6.5534321e-02  9.8140851e-01\n",
      "Sports Car           1.7762272e-01   3.6036263e-02  1.0699295e-01  2.4825250e-01  1.1943746e+00\n",
      "Pickup               5.9603276e-02   3.2913905e-02 -4.9067932e-03  1.2411334e-01  1.0614154e+00\n",
      "Minivan             -4.7059180e-01   3.4284237e-02 -5.3778767e-01 -4.0339593e-01  6.2463250e-01\n",
      "SUV                  0.0000000e+00   0.0000000e+00  0.0000000e+00  0.0000000e+00  1.0000000e+00\n",
      "Ryes                 4.3719893e-01   2.8261101e-02  3.8180819e-01  4.9258967e-01  1.5483641e+00\n",
      "Rno                  0.0000000e+00   0.0000000e+00  0.0000000e+00  0.0000000e+00  1.0000000e+00\n",
      "KIDSDRIV             1.7564921e-01   2.0486256e-02  1.3549689e-01  2.1580154e-01  1.1920198e+00\n",
      "TRAVTIME             1.0231442e-02   7.2432061e-04  8.8117994e-03  1.1651084e-02  1.0102840e+00\n",
      "TIF                 -3.1315006e-02   2.9534848e-03 -3.7103730e-02 -2.5526282e-02  9.6917023e-01\n",
      "HOMEKIDS             1.0284513e-01   1.0790460e-02  8.1696220e-02  1.2399405e-01  1.1083198e+00\n"
     ]
    }
   ],
   "source": [
    "print(outCoefficient)"
   ]
  },
  {
   "cell_type": "markdown",
   "id": "bb4bbc93",
   "metadata": {},
   "source": [
    "# Question 3"
   ]
  },
  {
   "cell_type": "markdown",
   "id": "25356d70",
   "metadata": {},
   "source": [
    "## a) Please plot the predicted number of claims versus the observed number of claims."
   ]
  },
  {
   "cell_type": "code",
   "execution_count": 134,
   "id": "5da19ac7",
   "metadata": {},
   "outputs": [
    {
     "name": "stderr",
     "output_type": "stream",
     "text": [
      "<ipython-input-134-ff405c3be75e>:2: RuntimeWarning: invalid value encountered in true_divide\n",
      "  outCorb = pandas.DataFrame((invhessian / numpy.outer(stderr, stderr)), index =\n"
     ]
    }
   ],
   "source": [
    "outCovb = pandas.DataFrame(invhessian, index = param_name, columns = param_name)\n",
    "outCorb = pandas.DataFrame((invhessian / numpy.outer(stderr, stderr)), index = \n",
    "param_name, columns = param_name)\n",
    "nu_X = o_train_X + modelX.dot(beta)\n",
    "y_pred = numpy.exp(nu_X)\n",
    "lamda = numpy.exp(nu_X)"
   ]
  },
  {
   "cell_type": "code",
   "execution_count": 130,
   "id": "d55236da",
   "metadata": {},
   "outputs": [
    {
     "data": {
      "image/png": "[encoded data removed]",
      "text/plain": [
       "<Figure size 600x400 with 2 Axes>"
      ]
     },
     "metadata": {
      "needs_background": "light"
     },
     "output_type": "display_data"
    }
   ],
   "source": [
    "# Plot predicted number of claims versus observed number of claims\n",
    "plt.figure(dpi = 100)\n",
    "sg = plt.scatter(y_train, y_pred, c = e_train, marker = 'o')\n",
    "plt.xlabel('Observed Number of Claims')\n",
    "plt.ylabel('Predicted Number of Claims')\n",
    "plt.xticks(range(10))\n",
    "plt.grid(axis = 'both')\n",
    "cbar = plt.colorbar(sg, label = 'Exposure')\n",
    "cbar.set_ticks(numpy.arange(0.0, 1.1, 0.1))\n",
    "plt.show()"
   ]
  },
  {
   "cell_type": "markdown",
   "id": "1946d443",
   "metadata": {},
   "source": [
    "We see the pattern of possion distribution. It looks more like like a uniformative model. They do not correlated much."
   ]
  },
  {
   "cell_type": "code",
   "execution_count": 132,
   "id": "1d4142ef",
   "metadata": {},
   "outputs": [
    {
     "data": {
      "image/png": "[encoded data removed]",
      "text/plain": [
       "<Figure size 600x400 with 2 Axes>"
      ]
     },
     "metadata": {
      "needs_background": "light"
     },
     "output_type": "display_data"
    }
   ],
   "source": [
    "# Calculate simple residuals\n",
    "y_resid = y_train - y_pred\n",
    "plt.figure(dpi = 100)\n",
    "sg = plt.scatter(y_train, y_resid, c = e_train, marker = 'o')\n",
    "plt.xlabel('Observed CLM_COUNT')\n",
    "plt.ylabel('Simple Residual')\n",
    "plt.xticks(range(10))\n",
    "plt.grid(axis = 'both')\n",
    "plt.colorbar(sg, label = 'Exposure')\n",
    "plt.show()"
   ]
  },
  {
   "cell_type": "markdown",
   "id": "647400e0",
   "metadata": {},
   "source": [
    "With low claim, we over-predicted then with high claim, we under predicted them. "
   ]
  },
  {
   "cell_type": "markdown",
   "id": "fddbdb75",
   "metadata": {},
   "source": [
    "## b) Please plot the Deviance residuals versus the observed number of claims."
   ]
  },
  {
   "cell_type": "code",
   "execution_count": 135,
   "id": "f405d646",
   "metadata": {},
   "outputs": [],
   "source": [
    "# Calculate deviance residuals\n",
    "\n",
    "yPos = -numpy.log(1.0 - y_pred) - y_train * numpy.log(lamda) + lamda + constLLK\n",
    "dR2 = numpy.where(y_train > 0.0, yPos, y_pred)\n",
    "devResid = numpy.where(y_train > y_pred, 1.0, -1.0) * numpy.where(dR2 > 0.0, numpy.sqrt(2.0 * dR2),0)\n",
    "\n"
   ]
  },
  {
   "cell_type": "code",
   "execution_count": 136,
   "id": "dbb88df1",
   "metadata": {},
   "outputs": [
    {
     "data": {
      "image/png": "[encoded data removed]",
      "text/plain": [
       "<Figure size 600x400 with 2 Axes>"
      ]
     },
     "metadata": {
      "needs_background": "light"
     },
     "output_type": "display_data"
    }
   ],
   "source": [
    "plt.figure(dpi = 100)\n",
    "sg = plt.scatter(y_train, devResid, c = e_train, marker = 'o')\n",
    "plt.xlabel('Observed CLM_COUNT')\n",
    "plt.ylabel('Deviance Residual')\n",
    "plt.xticks(range(10))\n",
    "plt.grid(axis = 'both')\n",
    "plt.colorbar(sg, label = 'Exposure')\n",
    "plt.show()"
   ]
  },
  {
   "cell_type": "markdown",
   "id": "65f3e3ca",
   "metadata": {},
   "source": [
    "Claim 0 has been underestimated a lot. and especially claim 5 has been overestimated.\n"
   ]
  },
  {
   "cell_type": "markdown",
   "id": "66e7efdb",
   "metadata": {},
   "source": [
    "# Question 4"
   ]
  },
  {
   "cell_type": "markdown",
   "id": "dc62cd3d",
   "metadata": {},
   "source": [
    "## a) Please calculate the Root Mean Squared Error, the Relative Error, and the R-squared metrics."
   ]
  },
  {
   "cell_type": "code",
   "execution_count": 137,
   "id": "9d0eb974",
   "metadata": {},
   "outputs": [
    {
     "name": "stdout",
     "output_type": "stream",
     "text": [
      "Root Mean Squared Error =  1.5164575285292132\n",
      "Relative Error =  0.9947252006025722\n",
      "Squared Correlation =  0.05899548511957736\n"
     ]
    }
   ],
   "source": [
    "# Root Mean Squared Error\n",
    "y_resid = y_train - y_pred\n",
    "\n",
    "mse = numpy.sum(numpy.power(y_resid, 2)) / n_sample\n",
    "rmse = numpy.sqrt(mse)\n",
    "print('Root Mean Squared Error = ', rmse)\n",
    "\n",
    "# Relative Error\n",
    "relerr = mse / numpy.var(y_train, ddof = 0)\n",
    "print('Relative Error = ', relerr)\n",
    "\n",
    "# R sqaure is the pearson correlation between observed y and predicted y\n",
    "sqcor = numpy.power(numpy.corrcoef(y_train, y_pred), 2)\n",
    "print('Squared Correlation = ', sqcor[0,1])"
   ]
  },
  {
   "cell_type": "markdown",
   "id": "bd032ce1",
   "metadata": {},
   "source": [
    "Root Mean Squared Error =  1.5164575285292132\n",
    "The typical difference between predicted claim count and the observed claim count is around 1.5.\n",
    "\n",
    "Relative Error =  0.9947252006025722\n",
    "Relative error close to 1, although not more than 1 but it it close to uninformative model.\n",
    "\n",
    "Squared Correlation =  0.05899548511957735\n",
    "This indicated the predicated claim count is practically little associated with the observed claim count."
   ]
  },
  {
   "cell_type": "markdown",
   "id": "fb31272e",
   "metadata": {},
   "source": [
    "## b) Please comment on the Final Model based on the above three metrics and the diagnostic charts in Question 3."
   ]
  },
  {
   "cell_type": "markdown",
   "id": "a76cd081",
   "metadata": {},
   "source": [
    "The model tends to underestimate the high claimed count group, which may harm their cost in business. It overestimates the low claim count that would hurt customer loyalty.\n",
    "Some car type has failed of confident interval like Pannel truck and Van. It could due to the less claim filed historically."
   ]
  }
 ],
 "metadata": {
  "kernelspec": {
   "display_name": "Python 3",
   "language": "python",
   "name": "python3"
  },
  "language_info": {
   "codemirror_mode": {
    "name": "ipython",
    "version": 3
   },
   "file_extension": ".py",
   "mimetype": "text/x-python",
   "name": "python",
   "nbconvert_exporter": "python",
   "pygments_lexer": "ipython3",
   "version": "3.8.8"
  },
  "toc": {
   "base_numbering": 1,
   "nav_menu": {},
   "number_sections": true,
   "sideBar": true,
   "skip_h1_title": false,
   "title_cell": "Table of Contents",
   "title_sidebar": "Contents",
   "toc_cell": false,
   "toc_position": {},
   "toc_section_display": true,
   "toc_window_display": false
  }
 },
 "nbformat": 4,
 "nbformat_minor": 5
}
