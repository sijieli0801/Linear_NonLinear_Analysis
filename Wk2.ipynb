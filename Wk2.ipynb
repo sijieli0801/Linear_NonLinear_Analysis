{
 "cells": [
  {
   "cell_type": "code",
   "execution_count": 21,
   "id": "10f4f818",
   "metadata": {},
   "outputs": [],
   "source": [
    "import numpy\n",
    "import pandas\n",
    "\n",
    "from scipy.stats import f\n",
    "\n",
    "import sys\n",
    "\n",
    "sys.path.append(r'C:\\Users\\Sijie Li\\OneDrive - The University of Chicago\\Documents\\MSCA\\Winter2021\\MSCA31010 Linear')\n",
    "\n",
    "import Regression\n"
   ]
  },
  {
   "cell_type": "code",
   "execution_count": 57,
   "id": "0e700df7",
   "metadata": {},
   "outputs": [],
   "source": [
    "numpy.set_printoptions(precision = 7, threshold = sys.maxsize)\n",
    "numpy.set_printoptions(linewidth = numpy.inf)\n",
    "\n",
    "pandas.set_option('display.max_columns', None)\n",
    "pandas.set_option('display.expand_frame_repr', False)\n",
    "pandas.set_option('max_colwidth', None)\n",
    "pandas.set_option('precision', 10)\n",
    "\n",
    "pandas.options.display.float_format = '{:,.7e}'.format\n",
    "\n",
    "regressiondemo = pandas.read_csv(r'C:\\Users\\Sijie Li\\OneDrive - The University of Chicago\\Documents\\MSCA\\Winter2021\\MSCA31010 Linear\\RegressionDemo.csv')\n",
    "n_sample = regressiondemo.shape[0]\n",
    "\n",
    "X = regressiondemo[['x1', 'x2', 'x3','x4','x5']]\n",
    "X.insert(0, 'Intercept', 1.0)\n",
    "\n",
    "y = regressiondemo['y']\n",
    "\n",
    "stepSummary = pandas.DataFrame()\n",
    "\n",
    "var_in_model = ['Intercept']"
   ]
  },
  {
   "cell_type": "code",
   "execution_count": 58,
   "id": "159c3ca4",
   "metadata": {},
   "outputs": [],
   "source": [
    "b, SSE0, XtX_Ginv, aliasParam, nonAliasParam = Regression.RegModel(X[var_in_model], y)\n",
    "\n",
    "m0 = len(nonAliasParam)\n",
    "stepSummary = stepSummary.append([[0, var_in_model, SSE0, m0]], ignore_index = True)\n"
   ]
  },
  {
   "cell_type": "code",
   "execution_count": 59,
   "id": "3503c472",
   "metadata": {},
   "outputs": [
    {
     "name": "stdout",
     "output_type": "stream",
     "text": [
      "             Enter           SSE  N Parameter   F Statistic  Numerator DF  Denominator DF  F Significance\n",
      "3  [Intercept, x4] 3.8804446e+05            2 4.8512077e+02             1             999   5.9985131e-88\n",
      "4  [Intercept, x5] 3.8807244e+05            2 4.8508371e+02             1             999   6.0739534e-88\n",
      "0  [Intercept, x1] 7.5101595e+05            2 4.4451566e+00             1             999   3.5248891e-02\n",
      "2  [Intercept, x3] 7.5359988e+05            2 1.0233150e+00             1             999   3.1197891e-01\n",
      "1  [Intercept, x2] 7.5360537e+05            2 1.0160405e+00             1             999   3.1370414e-01\n"
     ]
    }
   ],
   "source": [
    "candidate = ['x1', 'x2', 'x3','x4','x5']\n",
    "FTest = pandas.DataFrame()\n",
    "df_denom = n_sample - m0\n",
    "MSE0 = SSE0 / df_denom\n",
    "for pred in candidate:\n",
    "    work_list = var_in_model.copy()\n",
    "    work_list.append(pred)\n",
    "    b, SSE1, XtX_Ginv, aliasParam, nonAliasParam = Regression.RegModel(X[work_list], y)\n",
    "    m1 = len(nonAliasParam)\n",
    "    if (m1 > m0):\n",
    "        df_numer = m1 - m0\n",
    "        FStat = ((SSE0 - SSE1) / df_numer) / MSE0\n",
    "        FSig = f.sf(FStat, df_numer, df_denom)\n",
    "    FTest = FTest.append([[work_list, SSE1, m1, FStat, df_numer, df_denom, FSig]], ignore_index = True)\n",
    "FTest.columns = ['Enter', 'SSE', 'N Parameter', 'F Statistic', 'Numerator DF', 'Denominator DF', 'F Significance']\n",
    "print(FTest.sort_values(by = ['F Significance']))"
   ]
  },
  {
   "cell_type": "code",
   "execution_count": 60,
   "id": "27355384",
   "metadata": {},
   "outputs": [],
   "source": [
    "var_in_model = ['Intercept', 'x4']\n",
    "b, SSE0, XtX_Ginv, aliasParam, nonAliasParam = Regression.RegModel(X[var_in_model], y)\n",
    "m0 = len(nonAliasParam)\n",
    "stepSummary = stepSummary.append([[1, var_in_model, SSE0, m0]], ignore_index = True)"
   ]
  },
  {
   "cell_type": "code",
   "execution_count": 61,
   "id": "fb641413",
   "metadata": {},
   "outputs": [
    {
     "name": "stdout",
     "output_type": "stream",
     "text": [
      "                 Enter           SSE  N Parameter   F Statistic  Numerator DF  Denominator DF  F Significance\n",
      "0  [Intercept, x4, x1] 3.8574008e+05            3 5.9265634e+00             1             998   1.5088735e-02\n",
      "3  [Intercept, x4, x5] 3.8710895e+05            3 2.4060062e+00             1             998   1.2118742e-01\n",
      "2  [Intercept, x4, x3] 3.8759817e+05            3 1.1477942e+00             1             998   2.8427040e-01\n",
      "1  [Intercept, x4, x2] 3.8785241e+05            3 4.9391815e-01             1             998   4.8234859e-01\n"
     ]
    }
   ],
   "source": [
    "candidate = ['x1', 'x2','x3','x5']\n",
    "FTest = pandas.DataFrame()\n",
    "df_denom = n_sample - m0\n",
    "MSE0 = SSE0 / df_denom\n",
    "for pred in candidate:\n",
    "    work_list = var_in_model.copy()\n",
    "    work_list.append(pred)\n",
    "    b, SSE1, XtX_Ginv, aliasParam, nonAliasParam = Regression.RegModel(X[work_list], y)\n",
    "    m1 = len(nonAliasParam)\n",
    "    if (m1 > m0):\n",
    "        df_numer = m1 - m0\n",
    "        FStat = ((SSE0 - SSE1) / df_numer) / MSE0\n",
    "        FSig = f.sf(FStat, df_numer, df_denom)\n",
    "    FTest = FTest.append([[work_list, SSE1, m1, FStat, df_numer, df_denom, FSig]], ignore_index = True)\n",
    "FTest.columns = ['Enter', 'SSE', 'N Parameter', 'F Statistic', 'Numerator DF', 'Denominator DF', 'F Significance']\n",
    "print(FTest.sort_values(by = ['F Significance']))"
   ]
  },
  {
   "cell_type": "code",
   "execution_count": 62,
   "id": "4ce70f6c",
   "metadata": {},
   "outputs": [],
   "source": [
    "var_in_model = ['Intercept', 'x1','x4']\n",
    "b, SSE0, XtX_Ginv, aliasParam, nonAliasParam = Regression.RegModel(X[var_in_model], y)\n",
    "m0 = len(nonAliasParam)\n",
    "stepSummary = stepSummary.append([[1, var_in_model, SSE0, m0]], ignore_index = True)"
   ]
  },
  {
   "cell_type": "code",
   "execution_count": 63,
   "id": "aaa2f1b1",
   "metadata": {},
   "outputs": [
    {
     "name": "stdout",
     "output_type": "stream",
     "text": [
      "                            Enter           SSE  N Parameter   F Statistic  Numerator DF  Denominator DF  F Significance\n",
      "0  [Intercept, x1, x4, Intercept] 3.8574008e+05            3 2.4060062e+00             1             997   1.2118742e-01\n",
      "2         [Intercept, x1, x4, x3] 3.8533697e+05            4 1.0419060e+00             1             997   3.0762621e-01\n",
      "1         [Intercept, x1, x4, x2] 3.8551219e+05            4 5.8902304e-01             1             997   4.4297887e-01\n",
      "3         [Intercept, x1, x4, x5] 3.8573794e+05            4 5.5340963e-03             1             997   9.4071379e-01\n"
     ]
    }
   ],
   "source": [
    "candidate = ['Intercept', 'x2','x3','x5']\n",
    "FTest = pandas.DataFrame()\n",
    "df_denom = n_sample - m0\n",
    "MSE0 = SSE0 / df_denom\n",
    "for pred in candidate:\n",
    "    work_list = var_in_model.copy()\n",
    "    work_list.append(pred)\n",
    "    b, SSE1, XtX_Ginv, aliasParam, nonAliasParam = Regression.RegModel(X[work_list], y)\n",
    "    m1 = len(nonAliasParam)\n",
    "    if (m1 > m0):\n",
    "        df_numer = m1 - m0\n",
    "        FStat = ((SSE0 - SSE1) / df_numer) / MSE0\n",
    "        FSig = f.sf(FStat, df_numer, df_denom)\n",
    "    FTest = FTest.append([[work_list, SSE1, m1, FStat, df_numer, df_denom, FSig]], ignore_index = True)\n",
    "FTest.columns = ['Enter', 'SSE', 'N Parameter', 'F Statistic', 'Numerator DF', 'Denominator DF', 'F Significance']\n",
    "print(FTest.sort_values(by = ['F Significance']))"
   ]
  }
 ],
 "metadata": {
  "kernelspec": {
   "display_name": "Python 3",
   "language": "python",
   "name": "python3"
  },
  "language_info": {
   "codemirror_mode": {
    "name": "ipython",
    "version": 3
   },
   "file_extension": ".py",
   "mimetype": "text/x-python",
   "name": "python",
   "nbconvert_exporter": "python",
   "pygments_lexer": "ipython3",
   "version": "3.8.8"
  }
 },
 "nbformat": 4,
 "nbformat_minor": 5
}
